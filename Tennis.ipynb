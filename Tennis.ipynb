{
 "cells": [
  {
   "cell_type": "markdown",
   "metadata": {},
   "source": [
    "# Collaboration and Competition\n",
    "\n",
    "---\n",
    "\n",
    "In this notebook, you will learn how to use the Unity ML-Agents environment for the third project of the [Deep Reinforcement Learning Nanodegree](https://www.udacity.com/course/deep-reinforcement-learning-nanodegree--nd893) program.\n",
    "\n",
    "### 1. Start the Environment\n",
    "\n",
    "We begin by importing the necessary packages.  If the code cell below returns an error, please revisit the project instructions to double-check that you have installed [Unity ML-Agents](https://github.com/Unity-Technologies/ml-agents/blob/master/docs/Installation.md) and [NumPy](http://www.numpy.org/)."
   ]
  },
  {
   "cell_type": "code",
   "execution_count": 1,
   "metadata": {},
   "outputs": [],
   "source": [
    "from unityagents import UnityEnvironment\n",
    "import numpy as np"
   ]
  },
  {
   "cell_type": "markdown",
   "metadata": {},
   "source": [
    "Next, we will start the environment!  **_Before running the code cell below_**, change the `file_name` parameter to match the location of the Unity environment that you downloaded.\n",
    "\n",
    "- **Mac**: `\"path/to/Tennis.app\"`\n",
    "- **Windows** (x86): `\"path/to/Tennis_Windows_x86/Tennis.exe\"`\n",
    "- **Windows** (x86_64): `\"path/to/Tennis_Windows_x86_64/Tennis.exe\"`\n",
    "- **Linux** (x86): `\"path/to/Tennis_Linux/Tennis.x86\"`\n",
    "- **Linux** (x86_64): `\"path/to/Tennis_Linux/Tennis.x86_64\"`\n",
    "- **Linux** (x86, headless): `\"path/to/Tennis_Linux_NoVis/Tennis.x86\"`\n",
    "- **Linux** (x86_64, headless): `\"path/to/Tennis_Linux_NoVis/Tennis.x86_64\"`\n",
    "\n",
    "For instance, if you are using a Mac, then you downloaded `Tennis.app`.  If this file is in the same folder as the notebook, then the line below should appear as follows:\n",
    "```\n",
    "env = UnityEnvironment(file_name=\"Tennis.app\")\n",
    "```"
   ]
  },
  {
   "cell_type": "code",
   "execution_count": 2,
   "metadata": {},
   "outputs": [
    {
     "name": "stderr",
     "output_type": "stream",
     "text": [
      "INFO:unityagents:\n",
      "'Academy' started successfully!\n",
      "Unity Academy name: Academy\n",
      "        Number of Brains: 1\n",
      "        Number of External Brains : 1\n",
      "        Lesson number : 0\n",
      "        Reset Parameters :\n",
      "\t\t\n",
      "Unity brain name: TennisBrain\n",
      "        Number of Visual Observations (per agent): 0\n",
      "        Vector Observation space type: continuous\n",
      "        Vector Observation space size (per agent): 8\n",
      "        Number of stacked Vector Observation: 3\n",
      "        Vector Action space type: continuous\n",
      "        Vector Action space size (per agent): 2\n",
      "        Vector Action descriptions: , \n"
     ]
    }
   ],
   "source": [
    "env_file_name = \"Tennis_Windows_x86_64/Tennis.exe\"\n",
    "# env = UnityEnvironment(file_name=env_file_name)\n",
    "env = UnityEnvironment(file_name=env_file_name,no_graphics=True)"
   ]
  },
  {
   "cell_type": "markdown",
   "metadata": {},
   "source": [
    "Environments contain **_brains_** which are responsible for deciding the actions of their associated agents. Here we check for the first brain available, and set it as the default brain we will be controlling from Python."
   ]
  },
  {
   "cell_type": "code",
   "execution_count": 3,
   "metadata": {},
   "outputs": [],
   "source": [
    "# get the default brain\n",
    "brain_name = env.brain_names[0]\n",
    "brain = env.brains[brain_name]"
   ]
  },
  {
   "cell_type": "markdown",
   "metadata": {},
   "source": [
    "### 2. Examine the State and Action Spaces\n",
    "\n",
    "In this environment, two agents control rackets to bounce a ball over a net. If an agent hits the ball over the net, it receives a reward of +0.1.  If an agent lets a ball hit the ground or hits the ball out of bounds, it receives a reward of -0.01.  Thus, the goal of each agent is to keep the ball in play.\n",
    "\n",
    "The observation space consists of 8 variables corresponding to the position and velocity of the ball and racket. Two continuous actions are available, corresponding to movement toward (or away from) the net, and jumping. \n",
    "\n",
    "Run the code cell below to print some information about the environment."
   ]
  },
  {
   "cell_type": "code",
   "execution_count": 4,
   "metadata": {},
   "outputs": [
    {
     "name": "stdout",
     "output_type": "stream",
     "text": [
      "Number of agents: 2\n",
      "Size of each action: 2\n",
      "There are 2 agents. Each observes a state with length: 24\n",
      "The state for the first agent looks like: [ 0.          0.          0.          0.          0.          0.\n",
      "  0.          0.          0.          0.          0.          0.\n",
      "  0.          0.          0.          0.         -6.65278625 -1.5\n",
      " -0.          0.          6.83172083  6.         -0.          0.        ]\n",
      "states shape :  (2, 24)\n",
      "Both states look like :  [[ 0.          0.          0.          0.          0.          0.\n",
      "   0.          0.          0.          0.          0.          0.\n",
      "   0.          0.          0.          0.         -6.65278625 -1.5\n",
      "  -0.          0.          6.83172083  6.         -0.          0.        ]\n",
      " [ 0.          0.          0.          0.          0.          0.\n",
      "   0.          0.          0.          0.          0.          0.\n",
      "   0.          0.          0.          0.         -6.4669857  -1.5\n",
      "   0.          0.         -6.83172083  6.          0.          0.        ]]\n",
      "[[  0.           0.           0.           0.           0.\n",
      "    0.           0.           0.           0.           0.\n",
      "    0.           0.           0.           0.           0.\n",
      "    0.         -13.30557251  -3.          -0.           0.\n",
      "   13.66344166  12.          -0.           0.        ]\n",
      " [  0.           0.           0.           0.           0.\n",
      "    0.           0.           0.           0.           0.\n",
      "    0.           0.           0.           0.           0.\n",
      "    0.         -12.93397141  -3.           0.           0.\n",
      "  -13.66344166  12.           0.           0.        ]]\n"
     ]
    }
   ],
   "source": [
    "# reset the environment\n",
    "env_info = env.reset(train_mode=True)[brain_name]\n",
    "\n",
    "# number of agents \n",
    "num_agents = len(env_info.agents)\n",
    "print('Number of agents:', num_agents)\n",
    "\n",
    "# size of each action\n",
    "action_size = brain.vector_action_space_size\n",
    "print('Size of each action:', action_size)\n",
    "\n",
    "# examine the state space \n",
    "states = env_info.vector_observations\n",
    "state_size = states.shape[1]\n",
    "print('There are {} agents. Each observes a state with length: {}'.format(states.shape[0], state_size))\n",
    "print('The state for the first agent looks like:', states[0])\n",
    "print('states shape : ',states.shape)\n",
    "print('Both states look like : ',states)\n",
    "print(2*states)"
   ]
  },
  {
   "cell_type": "markdown",
   "metadata": {},
   "source": [
    "### 3. Take Random Actions in the Environment\n",
    "\n",
    "In the next code cell, you will learn how to use the Python API to control the agents and receive feedback from the environment.\n",
    "\n",
    "Once this cell is executed, you will watch the agents' performance, if they select actions at random with each time step.  A window should pop up that allows you to observe the agents.\n",
    "\n",
    "Of course, as part of the project, you'll have to change the code so that the agents are able to use their experiences to gradually choose better actions when interacting with the environment!"
   ]
  },
  {
   "cell_type": "code",
   "execution_count": 5,
   "metadata": {
    "scrolled": false
   },
   "outputs": [],
   "source": [
    "if False:\n",
    "    total_scores = []\n",
    "    for i in range(100):                                        # play game for 5 episodes\n",
    "        env_info = env.reset(train_mode=True)[brain_name]     # reset the environment    \n",
    "        states = env_info.vector_observations                  # get the current state (for each agent)\n",
    "        scores = np.zeros(num_agents)                          # initialize the score (for each agent)\n",
    "        t = 0\n",
    "        while True:\n",
    "            actions = np.random.randn(num_agents, action_size) # select an action (for each agent)\n",
    "            actions = np.clip(actions, -1, 1)                  # all actions between -1 and 1\n",
    "            # print('actions : ',actions)\n",
    "            env_info = env.step(actions)[brain_name]           # send all actions to tne environment\n",
    "            t += 1\n",
    "            next_states = env_info.vector_observations         # get next state (for each agent)\n",
    "            rewards = env_info.rewards                         # get reward (for each agent)\n",
    "            dones = env_info.local_done                        # see if episode finished\n",
    "            scores += env_info.rewards                         # update the score (for each agent)\n",
    "            states = next_states                               # roll over states to next time step\n",
    "            if np.any(dones):                                  # exit loop if episode finished\n",
    "                break\n",
    "        print('Score (max over agents) from episode {}: {}, and {} steps taken'.format(i, np.max(scores),t))\n",
    "        print(scores)\n",
    "        total_scores.append(scores)\n",
    "    print('Average Random Score : ', np.mean(total_scores))\n",
    "        \n",
    "def plot_results(results):\n",
    "    import matplotlib.pyplot as plt\n",
    "    import torch\n",
    "    plt.ion()\n",
    "\n",
    "    fig = plt.figure()\n",
    "    ax = fig.add_subplot(111)\n",
    "    plt.plot(np.arange(len(results.all_rewards)), [np.sum(ar) for ar in results.all_rewards])\n",
    "    plt.plot(np.arange(len(results.avg_rewards)), results.avg_rewards)\n",
    "    plt.ylabel('Rewards')\n",
    "    plt.xlabel('Episode #')\n",
    "    plt.show()\n",
    "\n",
    "    fig = plt.figure()\n",
    "    ax = fig.add_subplot(111)\n",
    "    plt.plot(np.arange(len(results.critic_loss)), results.critic_loss)\n",
    "    plt.ylabel('critic_losses')\n",
    "    plt.xlabel('Learn Step #')\n",
    "    plt.show()\n",
    "\n",
    "    fig = plt.figure()\n",
    "    ax = fig.add_subplot(111)\n",
    "    plt.plot(np.arange(len(results.actor_loss)), results.actor_loss)\n",
    "    plt.ylabel('actor_losses')\n",
    "    plt.xlabel('Learn Step #')\n",
    "    plt.show()\n"
   ]
  },
  {
   "cell_type": "markdown",
   "metadata": {},
   "source": [
    "When finished, you can close the environment."
   ]
  },
  {
   "cell_type": "code",
   "execution_count": null,
   "metadata": {
    "scrolled": false
   },
   "outputs": [
    {
     "name": "stderr",
     "output_type": "stream",
     "text": [
      "episode: 0/4000   0% ETA:  --:--:-- |                                        | \r"
     ]
    },
    {
     "name": "stdout",
     "output_type": "stream",
     "text": [
      "-------------------------------------\n",
      "New Run :\n",
      "-------------------------------------\n",
      "Config Parameters    : \n",
      "gamma                : 0.99\n",
      "tau_low              : 0.01\n",
      "tau_high             : 0.01\n",
      "action_size          : 2\n",
      "state_size           : 24\n",
      "hidden_size          : 512\n",
      "buffer_size          : 50000\n",
      "batch_size_low       : 512\n",
      "batch_size_high      : 512\n",
      "alpha_low            : 0.5\n",
      "alpha_high           : 0.7\n",
      "beta_low             : 0.5\n",
      "beta_high            : 0.6\n",
      "dropout              : 0.01\n",
      "seed                 : 303\n",
      "max_episodes         : 4000\n",
      "learn_every_low      : 2\n",
      "learn_every_high     : 10\n",
      "joined_states        : True\n",
      "critic_learning_rate : 0.001\n",
      "actor_learning_rate  : 0.001\n",
      "noise_decay_fast     : 0.998\n",
      "noise_decay_slow     : 0.99995\n",
      "noise_scale_trigger  : 0.45\n",
      "sigma                : 0.3\n",
      "num_agents           : 2\n",
      "env_file_name        : Tennis_Windows_x86_64/Tennis.exe\n",
      "train_mode           : True\n",
      "brain_name           : TennisBrain\n",
      "Running on device :  cpu\n",
      "Episode 0 with 15 steps || Reward : [ 0.   -0.01] || avg reward :  0.000 || Noise  0.998 || 0.095 seconds, mem : 15\n",
      "\u001b[0m"
     ]
    },
    {
     "name": "stderr",
     "output_type": "stream",
     "text": [
      "c:\\programdata\\anaconda3\\envs\\drlnd\\lib\\site-packages\\numpy\\core\\fromnumeric.py:3335: RuntimeWarning: Mean of empty slice.\n",
      "  out=out, **kwargs)\n",
      "c:\\programdata\\anaconda3\\envs\\drlnd\\lib\\site-packages\\numpy\\core\\_methods.py:161: RuntimeWarning: invalid value encountered in double_scalars\n",
      "  ret = ret.dtype.type(ret / rcount)\n",
      "episode: 12/4000   0% ETA:  0:05:37 |                                        | \r"
     ]
    },
    {
     "name": "stdout",
     "output_type": "stream",
     "text": [
      "Until buffer filled batches are smaller (256 vs. later 512)\n"
     ]
    },
    {
     "name": "stderr",
     "output_type": "stream",
     "text": [
      "episode: 23/4000   0% ETA:  0:05:53 |                                        | \r"
     ]
    },
    {
     "name": "stdout",
     "output_type": "stream",
     "text": [
      "Episode 20 with 15 steps || Reward : [ 0.   -0.01] || avg reward :  0.000 || Noise  0.959 || 0.422 seconds, mem : 299\n",
      "\u001b[0mUntil buffer filled batches are smaller (256 vs. later 512)\n"
     ]
    },
    {
     "name": "stderr",
     "output_type": "stream",
     "text": [
      "episode: 41/4000   1% ETA:  0:06:38 |                                        | \r"
     ]
    },
    {
     "name": "stdout",
     "output_type": "stream",
     "text": [
      "Episode 40 with 15 steps || Reward : [-0.01  0.  ] || avg reward :  0.000 || Noise  0.921 || 0.797 seconds, mem : 583\n",
      "\u001b[0m"
     ]
    },
    {
     "name": "stderr",
     "output_type": "stream",
     "text": [
      "episode: 61/4000   1% ETA:  0:06:40 |                                        | \r"
     ]
    },
    {
     "name": "stdout",
     "output_type": "stream",
     "text": [
      "Episode 60 with 15 steps || Reward : [-0.01  0.  ] || avg reward :  0.000 || Noise  0.885 || 0.512 seconds, mem : 867\n",
      "\u001b[0m"
     ]
    },
    {
     "name": "stderr",
     "output_type": "stream",
     "text": [
      "episode: 81/4000   2% ETA:  0:06:37 |                                        | \r"
     ]
    },
    {
     "name": "stdout",
     "output_type": "stream",
     "text": [
      "Episode 80 with 15 steps || Reward : [ 0.   -0.01] || avg reward :  0.000 || Noise  0.850 || 0.489 seconds, mem : 1151\n",
      "\u001b[0m"
     ]
    },
    {
     "name": "stderr",
     "output_type": "stream",
     "text": [
      "episode: 101/4000   2% ETA:  0:06:36 |                                       | \r"
     ]
    },
    {
     "name": "stdout",
     "output_type": "stream",
     "text": [
      "Episode 100 with 14 steps || Reward : [ 0.   -0.01] || avg reward :  0.000 || Noise  0.817 || 0.465 seconds, mem : 1453\n",
      "\u001b[0m"
     ]
    },
    {
     "name": "stderr",
     "output_type": "stream",
     "text": [
      "episode: 123/4000   3% ETA:  0:06:29 ||                                      | \r"
     ]
    },
    {
     "name": "stdout",
     "output_type": "stream",
     "text": [
      "Episode 120 with 14 steps || Reward : [-0.01  0.  ] || avg reward :  0.000 || Noise  0.785 || 0.466 seconds, mem : 1737\n",
      "\u001b[0m"
     ]
    },
    {
     "name": "stderr",
     "output_type": "stream",
     "text": [
      "episode: 134/4000   3% ETA:  0:06:26 |/                                      | \r"
     ]
    },
    {
     "name": "stdout",
     "output_type": "stream",
     "text": [
      "\u001b[41mEpisode 134 with 29 steps || Reward : [-0.01  0.1 ] || avg reward :  0.001 || Noise  0.763 || 0.118 seconds, mem : 1951\n",
      "\u001b[0m"
     ]
    },
    {
     "name": "stderr",
     "output_type": "stream",
     "text": [
      "episode: 143/4000   3% ETA:  0:06:29 |-                                      | \r"
     ]
    },
    {
     "name": "stdout",
     "output_type": "stream",
     "text": [
      "\u001b[41mEpisode 140 with 32 steps || Reward : [ 0.1  -0.01] || avg reward :  0.002 || Noise  0.754 || 0.505 seconds, mem : 2054\n",
      "\u001b[0m\u001b[41mEpisode 148 with 30 steps || Reward : [ 0.1  -0.01] || avg reward :  0.003 || Noise  0.742 || 0.117 seconds, mem : 2183\n",
      "\u001b[0m"
     ]
    },
    {
     "name": "stderr",
     "output_type": "stream",
     "text": [
      "episode: 164/4000   4% ETA:  0:06:25 ||                                      | \r"
     ]
    },
    {
     "name": "stdout",
     "output_type": "stream",
     "text": [
      "Episode 160 with 14 steps || Reward : [ 0.   -0.01] || avg reward :  0.003 || Noise  0.724 || 0.432 seconds, mem : 2354\n",
      "\u001b[0m\u001b[41mEpisode 167 with 32 steps || Reward : [ 0.1  -0.01] || avg reward :  0.004 || Noise  0.714 || 0.140 seconds, mem : 2471\n",
      "\u001b[0m"
     ]
    },
    {
     "name": "stderr",
     "output_type": "stream",
     "text": [
      "episode: 174/4000   4% ETA:  0:06:25 |/                                      | \r"
     ]
    },
    {
     "name": "stdout",
     "output_type": "stream",
     "text": [
      "\u001b[44mEpisode 177 with 31 steps || Reward : [0.1  0.09] || avg reward :  0.005 || Noise  0.700 || 0.135 seconds, mem : 2630\n",
      "\u001b[0m\u001b[41mEpisode 179 with 32 steps || Reward : [ 0.1  -0.01] || avg reward :  0.006 || Noise  0.697 || 0.148 seconds, mem : 2676\n",
      "\u001b[0m"
     ]
    },
    {
     "name": "stderr",
     "output_type": "stream",
     "text": [
      "episode: 182/4000   4% ETA:  0:06:29 |-                                      | \r"
     ]
    },
    {
     "name": "stdout",
     "output_type": "stream",
     "text": [
      "Episode 180 with 14 steps || Reward : [-0.01  0.  ] || avg reward :  0.006 || Noise  0.696 || 0.433 seconds, mem : 2690\n",
      "\u001b[0m"
     ]
    },
    {
     "name": "stderr",
     "output_type": "stream",
     "text": [
      "episode: 204/4000   5% ETA:  0:06:23 ||                                      | \r"
     ]
    },
    {
     "name": "stdout",
     "output_type": "stream",
     "text": [
      "Episode 200 with 14 steps || Reward : [-0.01  0.  ] || avg reward :  0.006 || Noise  0.669 || 0.417 seconds, mem : 2975\n",
      "\u001b[0m\u001b[41mEpisode 209 with 32 steps || Reward : [ 0.1  -0.01] || avg reward :  0.007 || Noise  0.657 || 0.139 seconds, mem : 3120\n",
      "\u001b[0m"
     ]
    },
    {
     "name": "stderr",
     "output_type": "stream",
     "text": [
      "episode: 214/4000   5% ETA:  0:06:23 |//                                     | \r"
     ]
    },
    {
     "name": "stdout",
     "output_type": "stream",
     "text": [
      "\u001b[41mEpisode 213 with 33 steps || Reward : [-0.01  0.1 ] || avg reward :  0.008 || Noise  0.652 || 0.130 seconds, mem : 3196\n",
      "\u001b[0m\u001b[41mEpisode 215 with 31 steps || Reward : [0.   0.09] || avg reward :  0.009 || Noise  0.649 || 0.124 seconds, mem : 3241\n",
      "\u001b[0m\u001b[41mEpisode 216 with 33 steps || Reward : [-0.02  0.1 ] || avg reward :  0.010 || Noise  0.648 || 0.148 seconds, mem : 3274\n",
      "\u001b[0m\u001b[41mEpisode 218 with 32 steps || Reward : [ 0.1  -0.01] || avg reward :  0.011 || Noise  0.645 || 0.140 seconds, mem : 3321\n",
      "\u001b[0m"
     ]
    },
    {
     "name": "stderr",
     "output_type": "stream",
     "text": [
      "episode: 221/4000   5% ETA:  0:06:29 |--                                     | \r"
     ]
    },
    {
     "name": "stdout",
     "output_type": "stream",
     "text": [
      "\u001b[41mEpisode 220 with 31 steps || Reward : [0.   0.09] || avg reward :  0.012 || Noise  0.642 || 0.487 seconds, mem : 3366\n",
      "\u001b[0m\u001b[41mEpisode 229 with 31 steps || Reward : [ 0.1  -0.01] || avg reward :  0.013 || Noise  0.631 || 0.120 seconds, mem : 3511\n",
      "\u001b[0m"
     ]
    },
    {
     "name": "stderr",
     "output_type": "stream",
     "text": [
      "episode: 231/4000   5% ETA:  0:06:28 |\\\\                                     | \r"
     ]
    },
    {
     "name": "stdout",
     "output_type": "stream",
     "text": [
      "\u001b[41mEpisode 232 with 31 steps || Reward : [0.   0.09] || avg reward :  0.014 || Noise  0.627 || 0.140 seconds, mem : 3570\n",
      "\u001b[0m\u001b[41mEpisode 237 with 31 steps || Reward : [-0.01  0.1 ] || avg reward :  0.014 || Noise  0.621 || 0.122 seconds, mem : 3663\n",
      "\u001b[0m\u001b[41mEpisode 238 with 30 steps || Reward : [0.   0.09] || avg reward :  0.015 || Noise  0.620 || 0.116 seconds, mem : 3693\n",
      "\u001b[0m"
     ]
    },
    {
     "name": "stderr",
     "output_type": "stream",
     "text": [
      "episode: 241/4000   6% ETA:  0:06:31 |||                                     | \r"
     ]
    },
    {
     "name": "stdout",
     "output_type": "stream",
     "text": [
      "Episode 240 with 14 steps || Reward : [-0.01  0.  ] || avg reward :  0.014 || Noise  0.617 || 0.456 seconds, mem : 3721\n",
      "\u001b[0m\u001b[41mEpisode 241 with 31 steps || Reward : [ 0.1  -0.01] || avg reward :  0.015 || Noise  0.616 || 0.132 seconds, mem : 3752\n",
      "\u001b[0m\u001b[41mEpisode 242 with 31 steps || Reward : [0.   0.09] || avg reward :  0.016 || Noise  0.615 || 0.129 seconds, mem : 3783\n",
      "\u001b[0m\u001b[41mEpisode 247 with 31 steps || Reward : [0.   0.09] || avg reward :  0.016 || Noise  0.609 || 0.134 seconds, mem : 3890\n",
      "\u001b[0m"
     ]
    },
    {
     "name": "stderr",
     "output_type": "stream",
     "text": [
      "episode: 251/4000   6% ETA:  0:06:33 |//                                     | \r"
     ]
    },
    {
     "name": "stdout",
     "output_type": "stream",
     "text": [
      "\u001b[41mEpisode 253 with 32 steps || Reward : [0.   0.09] || avg reward :  0.016 || Noise  0.601 || 0.131 seconds, mem : 4012\n",
      "\u001b[0m\u001b[41mEpisode 257 with 33 steps || Reward : [0.   0.09] || avg reward :  0.017 || Noise  0.597 || 0.136 seconds, mem : 4106\n",
      "\u001b[0m"
     ]
    },
    {
     "name": "stderr",
     "output_type": "stream",
     "text": [
      "episode: 261/4000   6% ETA:  0:06:34 |--                                     | \r"
     ]
    },
    {
     "name": "stdout",
     "output_type": "stream",
     "text": [
      "Episode 260 with 14 steps || Reward : [-0.01  0.  ] || avg reward :  0.017 || Noise  0.593 || 0.408 seconds, mem : 4149\n",
      "\u001b[0m\u001b[41mEpisode 266 with 32 steps || Reward : [0.   0.09] || avg reward :  0.018 || Noise  0.586 || 0.142 seconds, mem : 4253\n",
      "\u001b[0m\u001b[44mEpisode 267 with 44 steps || Reward : [-0.01  0.2 ] || avg reward :  0.019 || Noise  0.585 || 0.197 seconds, mem : 4297\n",
      "\u001b[0m"
     ]
    },
    {
     "name": "stderr",
     "output_type": "stream",
     "text": [
      "episode: 271/4000   6% ETA:  0:06:36 |\\\\                                     | \r"
     ]
    },
    {
     "name": "stdout",
     "output_type": "stream",
     "text": [
      "\u001b[41mEpisode 272 with 31 steps || Reward : [0.   0.09] || avg reward :  0.020 || Noise  0.579 || 0.132 seconds, mem : 4395\n",
      "\u001b[0m\u001b[41mEpisode 275 with 32 steps || Reward : [ 0.1  -0.01] || avg reward :  0.021 || Noise  0.575 || 0.128 seconds, mem : 4456\n",
      "\u001b[0m\u001b[41mEpisode 278 with 33 steps || Reward : [-0.01  0.1 ] || avg reward :  0.021 || Noise  0.572 || 0.135 seconds, mem : 4517\n",
      "\u001b[0m"
     ]
    },
    {
     "name": "stderr",
     "output_type": "stream",
     "text": [
      "episode: 281/4000   7% ETA:  0:06:37 |||                                     | \r"
     ]
    },
    {
     "name": "stdout",
     "output_type": "stream",
     "text": [
      "Episode 280 with 14 steps || Reward : [ 0.   -0.01] || avg reward :  0.020 || Noise  0.570 || 0.425 seconds, mem : 4545\n",
      "\u001b[0m\u001b[41mEpisode 281 with 33 steps || Reward : [-0.01  0.1 ] || avg reward :  0.021 || Noise  0.569 || 0.158 seconds, mem : 4578\n",
      "\u001b[0m\u001b[41mEpisode 286 with 33 steps || Reward : [-0.02  0.1 ] || avg reward :  0.022 || Noise  0.563 || 0.133 seconds, mem : 4668\n",
      "\u001b[0m\u001b[41mEpisode 289 with 32 steps || Reward : [0.   0.09] || avg reward :  0.023 || Noise  0.560 || 0.140 seconds, mem : 4728\n",
      "\u001b[0m"
     ]
    },
    {
     "name": "stderr",
     "output_type": "stream",
     "text": [
      "episode: 291/4000   7% ETA:  0:06:38 |//                                     | \r"
     ]
    },
    {
     "name": "stdout",
     "output_type": "stream",
     "text": [
      "\u001b[41mEpisode 297 with 31 steps || Reward : [0.   0.09] || avg reward :  0.024 || Noise  0.551 || 0.120 seconds, mem : 4859\n",
      "\u001b[0m"
     ]
    },
    {
     "name": "stderr",
     "output_type": "stream",
     "text": [
      "episode: 301/4000   7% ETA:  0:06:36 |--                                     | \r"
     ]
    },
    {
     "name": "stdout",
     "output_type": "stream",
     "text": [
      "Episode 300 with 14 steps || Reward : [ 0.   -0.01] || avg reward :  0.024 || Noise  0.547 || 0.438 seconds, mem : 4906\n",
      "\u001b[0m\u001b[41mEpisode 307 with 33 steps || Reward : [-0.01  0.1 ] || avg reward :  0.025 || Noise  0.540 || 0.146 seconds, mem : 5025\n",
      "\u001b[0m"
     ]
    },
    {
     "name": "stderr",
     "output_type": "stream",
     "text": [
      "episode: 311/4000   7% ETA:  0:06:35 |\\\\\\                                    | \r"
     ]
    },
    {
     "name": "stdout",
     "output_type": "stream",
     "text": [
      "\u001b[41mEpisode 316 with 29 steps || Reward : [-0.01  0.1 ] || avg reward :  0.022 || Noise  0.530 || 0.129 seconds, mem : 5167\n",
      "\u001b[0m"
     ]
    },
    {
     "name": "stderr",
     "output_type": "stream",
     "text": [
      "episode: 321/4000   8% ETA:  0:06:33 ||||                                    | \r"
     ]
    },
    {
     "name": "stdout",
     "output_type": "stream",
     "text": [
      "Episode 320 with 14 steps || Reward : [-0.01  0.  ] || avg reward :  0.020 || Noise  0.526 || 0.423 seconds, mem : 5223\n",
      "\u001b[0m\u001b[41mEpisode 328 with 31 steps || Reward : [0.   0.09] || avg reward :  0.021 || Noise  0.518 || 0.121 seconds, mem : 5372\n",
      "\u001b[0m"
     ]
    },
    {
     "name": "stderr",
     "output_type": "stream",
     "text": [
      "episode: 331/4000   8% ETA:  0:06:33 |///                                    | \r"
     ]
    },
    {
     "name": "stdout",
     "output_type": "stream",
     "text": [
      "\u001b[41mEpisode 331 with 32 steps || Reward : [0.   0.09] || avg reward :  0.021 || Noise  0.514 || 0.131 seconds, mem : 5432\n",
      "\u001b[0m\u001b[41mEpisode 333 with 31 steps || Reward : [ 0.1  -0.01] || avg reward :  0.021 || Noise  0.512 || 0.130 seconds, mem : 5477\n",
      "\u001b[0m"
     ]
    },
    {
     "name": "stderr",
     "output_type": "stream",
     "text": [
      "episode: 341/4000   8% ETA:  0:06:33 |---                                    | \r"
     ]
    },
    {
     "name": "stdout",
     "output_type": "stream",
     "text": [
      "\u001b[41mEpisode 340 with 32 steps || Reward : [0.   0.09] || avg reward :  0.020 || Noise  0.505 || 0.465 seconds, mem : 5594\n",
      "\u001b[0m\u001b[41mEpisode 343 with 31 steps || Reward : [0.   0.09] || avg reward :  0.019 || Noise  0.502 || 0.135 seconds, mem : 5653\n",
      "\u001b[0m\u001b[41mEpisode 344 with 33 steps || Reward : [ 0.1  -0.01] || avg reward :  0.020 || Noise  0.501 || 0.129 seconds, mem : 5686\n",
      "\u001b[0m\u001b[41mEpisode 347 with 33 steps || Reward : [ 0.1  -0.02] || avg reward :  0.020 || Noise  0.498 || 0.133 seconds, mem : 5751\n",
      "\u001b[0m"
     ]
    },
    {
     "name": "stderr",
     "output_type": "stream",
     "text": [
      "episode: 351/4000   8% ETA:  0:06:33 |\\\\\\                                    | \r"
     ]
    },
    {
     "name": "stdout",
     "output_type": "stream",
     "text": [
      "\u001b[41mEpisode 352 with 31 steps || Reward : [ 0.1  -0.01] || avg reward :  0.021 || Noise  0.493 || 0.128 seconds, mem : 5839\n",
      "\u001b[0m\u001b[41mEpisode 353 with 32 steps || Reward : [0.   0.09] || avg reward :  0.021 || Noise  0.492 || 0.150 seconds, mem : 5871\n",
      "\u001b[0m\u001b[41mEpisode 355 with 32 steps || Reward : [-0.01  0.1 ] || avg reward :  0.022 || Noise  0.490 || 0.126 seconds, mem : 5918\n",
      "\u001b[0m\u001b[41mEpisode 357 with 34 steps || Reward : [ 0.1  -0.01] || avg reward :  0.022 || Noise  0.488 || 0.130 seconds, mem : 5967\n",
      "\u001b[0m\u001b[41mEpisode 359 with 33 steps || Reward : [ 0.1  -0.01] || avg reward :  0.023 || Noise  0.486 || 0.139 seconds, mem : 6014\n",
      "\u001b[0m"
     ]
    },
    {
     "name": "stderr",
     "output_type": "stream",
     "text": [
      "episode: 361/4000   9% ETA:  0:06:35 ||||                                    | \r"
     ]
    },
    {
     "name": "stdout",
     "output_type": "stream",
     "text": [
      "Episode 360 with 14 steps || Reward : [ 0.   -0.01] || avg reward :  0.023 || Noise  0.485 || 0.458 seconds, mem : 6028\n",
      "\u001b[0m\u001b[41mEpisode 362 with 31 steps || Reward : [0.   0.09] || avg reward :  0.024 || Noise  0.483 || 0.123 seconds, mem : 6073\n",
      "\u001b[0m\u001b[41mEpisode 363 with 33 steps || Reward : [-0.01  0.1 ] || avg reward :  0.025 || Noise  0.483 || 0.133 seconds, mem : 6106\n",
      "\u001b[0m"
     ]
    },
    {
     "name": "stderr",
     "output_type": "stream",
     "text": [
      "episode: 371/4000   9% ETA:  0:06:34 |///                                    | \r"
     ]
    },
    {
     "name": "stdout",
     "output_type": "stream",
     "text": [
      "\u001b[41mEpisode 371 with 33 steps || Reward : [ 0.1  -0.01] || avg reward :  0.023 || Noise  0.475 || 0.138 seconds, mem : 6239\n",
      "\u001b[0m\u001b[41mEpisode 372 with 32 steps || Reward : [-0.01  0.1 ] || avg reward :  0.023 || Noise  0.474 || 0.131 seconds, mem : 6271\n",
      "\u001b[0m"
     ]
    },
    {
     "name": "stderr",
     "output_type": "stream",
     "text": [
      "episode: 381/4000   9% ETA:  0:06:33 |---                                    | \r"
     ]
    },
    {
     "name": "stdout",
     "output_type": "stream",
     "text": [
      "Episode 380 with 14 steps || Reward : [ 0.   -0.01] || avg reward :  0.021 || Noise  0.466 || 0.419 seconds, mem : 6385\n",
      "\u001b[0m\u001b[41mEpisode 381 with 34 steps || Reward : [ 0.1  -0.01] || avg reward :  0.021 || Noise  0.465 || 0.147 seconds, mem : 6419\n",
      "\u001b[0m\u001b[41mEpisode 384 with 46 steps || Reward : [0.   0.09] || avg reward :  0.022 || Noise  0.463 || 0.178 seconds, mem : 6496\n",
      "\u001b[0m"
     ]
    },
    {
     "name": "stderr",
     "output_type": "stream",
     "text": [
      "episode: 391/4000   9% ETA:  0:06:33 |\\\\\\                                    | \r"
     ]
    },
    {
     "name": "stdout",
     "output_type": "stream",
     "text": [
      "Noisetrigger : Bridging\n",
      "\u001b[41mEpisode 399 with 33 steps || Reward : [ 0.1  -0.01] || avg reward :  0.020 || Noise  0.450 || 0.136 seconds, mem : 6727\n",
      "\u001b[0m"
     ]
    },
    {
     "name": "stderr",
     "output_type": "stream",
     "text": [
      "episode: 401/4000  10% ETA:  0:06:32 ||||                                    | \r"
     ]
    },
    {
     "name": "stdout",
     "output_type": "stream",
     "text": [
      "Episode 400 with 15 steps || Reward : [ 0.   -0.01] || avg reward :  0.020 || Noise  0.450 || 0.400 seconds, mem : 6742\n",
      "\u001b[0mNoisetrigger : Changing noise decay\n",
      "\u001b[41mEpisode 401 with 32 steps || Reward : [ 0.1  -0.01] || avg reward :  0.021 || Noise  0.450 || 0.140 seconds, mem : 6774\n",
      "\u001b[0m\u001b[41mEpisode 402 with 33 steps || Reward : [-0.01  0.1 ] || avg reward :  0.022 || Noise  0.450 || 0.499 seconds, mem : 6807\n",
      "\u001b[0m"
     ]
    },
    {
     "name": "stderr",
     "output_type": "stream",
     "text": [
      "episode: 405/4000  10% ETA:  0:06:37 |///                                    | \r"
     ]
    },
    {
     "name": "stdout",
     "output_type": "stream",
     "text": [
      "\u001b[41mEpisode 405 with 33 steps || Reward : [0.   0.09] || avg reward :  0.023 || Noise  0.450 || 0.135 seconds, mem : 6868\n",
      "\u001b[0m"
     ]
    },
    {
     "name": "stderr",
     "output_type": "stream",
     "text": [
      "episode: 409/4000  10% ETA:  0:06:43 |---                                    | \r"
     ]
    },
    {
     "name": "stdout",
     "output_type": "stream",
     "text": [
      "\u001b[41mEpisode 411 with 33 steps || Reward : [ 0.1  -0.01] || avg reward :  0.023 || Noise  0.450 || 0.135 seconds, mem : 6972\n",
      "\u001b[0m"
     ]
    },
    {
     "name": "stderr",
     "output_type": "stream",
     "text": [
      "episode: 417/4000  10% ETA:  0:06:54 |||||                                   | \r"
     ]
    },
    {
     "name": "stdout",
     "output_type": "stream",
     "text": [
      "\u001b[41mEpisode 416 with 33 steps || Reward : [ 0.1  -0.01] || avg reward :  0.023 || Noise  0.450 || 0.592 seconds, mem : 7068\n",
      "\u001b[0m"
     ]
    },
    {
     "name": "stderr",
     "output_type": "stream",
     "text": [
      "episode: 421/4000  10% ETA:  0:07:00 |////                                   | \r"
     ]
    },
    {
     "name": "stdout",
     "output_type": "stream",
     "text": [
      "Episode 420 with 14 steps || Reward : [-0.01  0.  ] || avg reward :  0.023 || Noise  0.449 || 0.529 seconds, mem : 7127\n",
      "\u001b[0m"
     ]
    },
    {
     "name": "stderr",
     "output_type": "stream",
     "text": [
      "episode: 425/4000  10% ETA:  0:07:05 |----                                   | \r"
     ]
    },
    {
     "name": "stdout",
     "output_type": "stream",
     "text": [
      "\u001b[41mEpisode 425 with 33 steps || Reward : [ 0.1  -0.01] || avg reward :  0.024 || Noise  0.449 || 0.149 seconds, mem : 7217\n",
      "\u001b[0m\u001b[41mEpisode 426 with 33 steps || Reward : [-0.01  0.1 ] || avg reward :  0.025 || Noise  0.449 || 0.603 seconds, mem : 7250\n",
      "\u001b[0m"
     ]
    },
    {
     "name": "stderr",
     "output_type": "stream",
     "text": [
      "episode: 433/4000  10% ETA:  0:07:18 |||||                                   | \r"
     ]
    },
    {
     "name": "stdout",
     "output_type": "stream",
     "text": [
      "\u001b[41mEpisode 433 with 33 steps || Reward : [-0.01  0.1 ] || avg reward :  0.023 || Noise  0.449 || 0.145 seconds, mem : 7368\n",
      "\u001b[0m\u001b[41mEpisode 435 with 33 steps || Reward : [-0.01  0.1 ] || avg reward :  0.024 || Noise  0.449 || 0.139 seconds, mem : 7415\n",
      "\u001b[0m"
     ]
    },
    {
     "name": "stderr",
     "output_type": "stream",
     "text": [
      "episode: 437/4000  10% ETA:  0:07:25 |////                                   | \r"
     ]
    },
    {
     "name": "stdout",
     "output_type": "stream",
     "text": [
      "\u001b[41mEpisode 437 with 33 steps || Reward : [-0.01  0.1 ] || avg reward :  0.025 || Noise  0.449 || 0.143 seconds, mem : 7462\n",
      "\u001b[0m"
     ]
    },
    {
     "name": "stderr",
     "output_type": "stream",
     "text": [
      "episode: 441/4000  11% ETA:  0:07:32 |----                                   | \r"
     ]
    },
    {
     "name": "stdout",
     "output_type": "stream",
     "text": [
      "Episode 440 with 15 steps || Reward : [-0.01  0.  ] || avg reward :  0.025 || Noise  0.449 || 0.578 seconds, mem : 7505\n",
      "\u001b[0m"
     ]
    },
    {
     "name": "stderr",
     "output_type": "stream",
     "text": [
      "episode: 445/4000  11% ETA:  0:07:38 |\\\\\\\\                                   | \r"
     ]
    },
    {
     "name": "stdout",
     "output_type": "stream",
     "text": [
      "\u001b[41mEpisode 446 with 32 steps || Reward : [0.   0.09] || avg reward :  0.024 || Noise  0.449 || 0.724 seconds, mem : 7615\n",
      "\u001b[0m"
     ]
    },
    {
     "name": "stderr",
     "output_type": "stream",
     "text": [
      "episode: 449/4000  11% ETA:  0:07:45 |||||                                   | \r"
     ]
    },
    {
     "name": "stdout",
     "output_type": "stream",
     "text": [
      "\u001b[41mEpisode 448 with 32 steps || Reward : [ 0.1  -0.01] || avg reward :  0.024 || Noise  0.449 || 0.668 seconds, mem : 7661\n",
      "\u001b[0m"
     ]
    },
    {
     "name": "stderr",
     "output_type": "stream",
     "text": [
      "episode: 453/4000  11% ETA:  0:07:51 |////                                   | \r"
     ]
    },
    {
     "name": "stdout",
     "output_type": "stream",
     "text": [
      "\u001b[41mEpisode 455 with 35 steps || Reward : [0.   0.09] || avg reward :  0.022 || Noise  0.449 || 0.149 seconds, mem : 7783\n",
      "\u001b[0m"
     ]
    },
    {
     "name": "stderr",
     "output_type": "stream",
     "text": [
      "episode: 457/4000  11% ETA:  0:07:57 |----                                   | \r"
     ]
    },
    {
     "name": "stdout",
     "output_type": "stream",
     "text": [
      "\u001b[41mEpisode 459 with 33 steps || Reward : [-0.01  0.1 ] || avg reward :  0.021 || Noise  0.449 || 0.137 seconds, mem : 7859\n",
      "\u001b[0m"
     ]
    },
    {
     "name": "stderr",
     "output_type": "stream",
     "text": [
      "episode: 461/4000  11% ETA:  0:08:04 |\\\\\\\\                                   | \r"
     ]
    },
    {
     "name": "stdout",
     "output_type": "stream",
     "text": [
      "Episode 460 with 16 steps || Reward : [ 0.   -0.01] || avg reward :  0.021 || Noise  0.449 || 0.636 seconds, mem : 7875\n",
      "\u001b[0m"
     ]
    },
    {
     "name": "stderr",
     "output_type": "stream",
     "text": [
      "episode: 477/4000  11% ETA:  0:08:26 |\\\\\\\\                                   | \r"
     ]
    },
    {
     "name": "stdout",
     "output_type": "stream",
     "text": [
      "\u001b[41mEpisode 479 with 33 steps || Reward : [-0.01  0.1 ] || avg reward :  0.018 || Noise  0.448 || 0.131 seconds, mem : 8169\n",
      "\u001b[0m"
     ]
    },
    {
     "name": "stderr",
     "output_type": "stream",
     "text": [
      "episode: 481/4000  12% ETA:  0:08:33 |||||                                   | \r"
     ]
    },
    {
     "name": "stdout",
     "output_type": "stream",
     "text": [
      "\u001b[41mEpisode 480 with 32 steps || Reward : [0.   0.09] || avg reward :  0.019 || Noise  0.448 || 0.748 seconds, mem : 8201\n",
      "\u001b[0m\u001b[41mEpisode 482 with 32 steps || Reward : [0.   0.09] || avg reward :  0.018 || Noise  0.448 || 0.688 seconds, mem : 8247\n",
      "\u001b[0m\u001b[41mEpisode 483 with 32 steps || Reward : [-0.01  0.1 ] || avg reward :  0.019 || Noise  0.448 || 0.135 seconds, mem : 8279\n",
      "\u001b[0m"
     ]
    },
    {
     "name": "stderr",
     "output_type": "stream",
     "text": [
      "episode: 485/4000  12% ETA:  0:08:39 |////                                   | \r"
     ]
    },
    {
     "name": "stdout",
     "output_type": "stream",
     "text": [
      "\u001b[41mEpisode 485 with 32 steps || Reward : [0.   0.09] || avg reward :  0.019 || Noise  0.448 || 0.149 seconds, mem : 8326\n",
      "\u001b[0m\u001b[41mEpisode 487 with 33 steps || Reward : [-0.01  0.1 ] || avg reward :  0.020 || Noise  0.448 || 0.141 seconds, mem : 8373\n",
      "\u001b[0m"
     ]
    },
    {
     "name": "stderr",
     "output_type": "stream",
     "text": [
      "episode: 493/4000  12% ETA:  0:08:50 |\\\\\\\\                                   | \r"
     ]
    },
    {
     "name": "stdout",
     "output_type": "stream",
     "text": [
      "\u001b[41mEpisode 494 with 33 steps || Reward : [-0.01  0.1 ] || avg reward :  0.021 || Noise  0.448 || 0.710 seconds, mem : 8491\n",
      "\u001b[0m"
     ]
    },
    {
     "name": "stderr",
     "output_type": "stream",
     "text": [
      "episode: 501/4000  12% ETA:  0:09:00 |////                                   | \r"
     ]
    },
    {
     "name": "stdout",
     "output_type": "stream",
     "text": [
      "Episode 500 with 14 steps || Reward : [-0.01  0.  ] || avg reward :  0.020 || Noise  0.448 || 0.601 seconds, mem : 8579\n",
      "\u001b[0m\u001b[41mEpisode 503 with 31 steps || Reward : [ 0.1  -0.01] || avg reward :  0.019 || Noise  0.448 || 0.122 seconds, mem : 8638\n",
      "\u001b[0m"
     ]
    },
    {
     "name": "stderr",
     "output_type": "stream",
     "text": [
      "episode: 509/4000  12% ETA:  0:09:10 |\\\\\\\\                                   | \r"
     ]
    },
    {
     "name": "stdout",
     "output_type": "stream",
     "text": [
      "\u001b[41mEpisode 511 with 32 steps || Reward : [0.   0.09] || avg reward :  0.018 || Noise  0.447 || 0.135 seconds, mem : 8770\n",
      "\u001b[0m"
     ]
    },
    {
     "name": "stderr",
     "output_type": "stream",
     "text": [
      "episode: 513/4000  12% ETA:  0:09:15 ||||||                                  | \r"
     ]
    },
    {
     "name": "stdout",
     "output_type": "stream",
     "text": [
      "\u001b[41mEpisode 513 with 32 steps || Reward : [ 0.1  -0.02] || avg reward :  0.019 || Noise  0.447 || 0.142 seconds, mem : 8817\n",
      "\u001b[0m"
     ]
    },
    {
     "name": "stderr",
     "output_type": "stream",
     "text": [
      "episode: 517/4000  12% ETA:  0:09:20 |/////                                  | \r"
     ]
    },
    {
     "name": "stdout",
     "output_type": "stream",
     "text": [
      "\u001b[41mEpisode 516 with 32 steps || Reward : [ 0.1  -0.01] || avg reward :  0.019 || Noise  0.447 || 0.730 seconds, mem : 8878\n",
      "\u001b[0m\u001b[41mEpisode 519 with 33 steps || Reward : [ 0.1  -0.01] || avg reward :  0.020 || Noise  0.447 || 0.140 seconds, mem : 8939\n",
      "\u001b[0m"
     ]
    },
    {
     "name": "stderr",
     "output_type": "stream",
     "text": [
      "episode: 521/4000  13% ETA:  0:09:25 |-----                                  | \r"
     ]
    },
    {
     "name": "stdout",
     "output_type": "stream",
     "text": [
      "Episode 520 with 14 steps || Reward : [-0.01  0.  ] || avg reward :  0.020 || Noise  0.447 || 0.618 seconds, mem : 8953\n",
      "\u001b[0m\u001b[41mEpisode 521 with 33 steps || Reward : [-0.01  0.1 ] || avg reward :  0.021 || Noise  0.447 || 0.149 seconds, mem : 8986\n",
      "\u001b[0m"
     ]
    },
    {
     "name": "stderr",
     "output_type": "stream",
     "text": [
      "episode: 524/4000  13% ETA:  0:09:28 |\\\\\\\\\\                                  | \r"
     ]
    },
    {
     "name": "stdout",
     "output_type": "stream",
     "text": [
      "\u001b[41mEpisode 522 with 33 steps || Reward : [-0.01  0.1 ] || avg reward :  0.022 || Noise  0.447 || 0.696 seconds, mem : 9019\n",
      "\u001b[0m\u001b[41mEpisode 523 with 38 steps || Reward : [0.   0.09] || avg reward :  0.023 || Noise  0.447 || 0.158 seconds, mem : 9057\n",
      "\u001b[0m"
     ]
    },
    {
     "name": "stderr",
     "output_type": "stream",
     "text": [
      "episode: 527/4000  13% ETA:  0:09:32 ||||||                                  | \r"
     ]
    },
    {
     "name": "stdout",
     "output_type": "stream",
     "text": [
      "\u001b[41mEpisode 527 with 31 steps || Reward : [0.   0.09] || avg reward :  0.022 || Noise  0.447 || 0.136 seconds, mem : 9131\n",
      "\u001b[0m\u001b[41mEpisode 528 with 33 steps || Reward : [ 0.1  -0.01] || avg reward :  0.023 || Noise  0.447 || 0.700 seconds, mem : 9164\n",
      "\u001b[0m"
     ]
    },
    {
     "name": "stderr",
     "output_type": "stream",
     "text": [
      "episode: 539/4000  13% ETA:  0:09:46 |\\\\\\\\\\                                  | \r"
     ]
    },
    {
     "name": "stdout",
     "output_type": "stream",
     "text": [
      "\u001b[41mEpisode 538 with 32 steps || Reward : [ 0.1  -0.01] || avg reward :  0.021 || Noise  0.447 || 0.700 seconds, mem : 9339\n",
      "\u001b[0m\u001b[44mEpisode 540 with 43 steps || Reward : [0.1  0.09] || avg reward :  0.022 || Noise  0.447 || 0.772 seconds, mem : 9397\n",
      "\u001b[0m\u001b[41mEpisode 541 with 33 steps || Reward : [-0.01  0.1 ] || avg reward :  0.023 || Noise  0.447 || 0.134 seconds, mem : 9430\n",
      "\u001b[0m"
     ]
    },
    {
     "name": "stderr",
     "output_type": "stream",
     "text": [
      "episode: 543/4000  13% ETA:  0:09:51 ||||||                                  | \r"
     ]
    },
    {
     "name": "stdout",
     "output_type": "stream",
     "text": [
      "\u001b[41mEpisode 542 with 30 steps || Reward : [ 0.1  -0.01] || avg reward :  0.024 || Noise  0.447 || 0.664 seconds, mem : 9460\n",
      "\u001b[0m\u001b[41mEpisode 543 with 32 steps || Reward : [ 0.1  -0.01] || avg reward :  0.025 || Noise  0.447 || 0.146 seconds, mem : 9492\n",
      "\u001b[0m\u001b[41mEpisode 545 with 30 steps || Reward : [-0.01  0.1 ] || avg reward :  0.026 || Noise  0.447 || 0.139 seconds, mem : 9536\n",
      "\u001b[0m"
     ]
    },
    {
     "name": "stderr",
     "output_type": "stream",
     "text": [
      "episode: 547/4000  13% ETA:  0:09:56 |/////                                  | \r"
     ]
    },
    {
     "name": "stdout",
     "output_type": "stream",
     "text": [
      "\u001b[41mEpisode 546 with 32 steps || Reward : [0.   0.09] || avg reward :  0.026 || Noise  0.447 || 0.657 seconds, mem : 9568\n",
      "\u001b[0m\u001b[41mEpisode 547 with 33 steps || Reward : [ 0.1  -0.01] || avg reward :  0.027 || Noise  0.447 || 0.141 seconds, mem : 9601\n",
      "\u001b[0m"
     ]
    },
    {
     "name": "stderr",
     "output_type": "stream",
     "text": [
      "episode: 551/4000  13% ETA:  0:10:00 |-----                                  | \r"
     ]
    },
    {
     "name": "stdout",
     "output_type": "stream",
     "text": [
      "\u001b[41mEpisode 552 with 33 steps || Reward : [-0.02  0.1 ] || avg reward :  0.027 || Noise  0.446 || 0.701 seconds, mem : 9691\n",
      "\u001b[0m"
     ]
    },
    {
     "name": "stderr",
     "output_type": "stream",
     "text": [
      "episode: 555/4000  13% ETA:  0:10:04 |\\\\\\\\\\                                  | \r"
     ]
    },
    {
     "name": "stdout",
     "output_type": "stream",
     "text": [
      "\u001b[41mEpisode 554 with 32 steps || Reward : [ 0.1  -0.01] || avg reward :  0.028 || Noise  0.446 || 0.687 seconds, mem : 9737\n",
      "\u001b[0m\u001b[41mEpisode 555 with 33 steps || Reward : [ 0.1  -0.01] || avg reward :  0.028 || Noise  0.446 || 0.138 seconds, mem : 9770\n",
      "\u001b[0m\u001b[41mEpisode 557 with 33 steps || Reward : [-0.01  0.1 ] || avg reward :  0.029 || Noise  0.446 || 0.132 seconds, mem : 9817\n",
      "\u001b[0m"
     ]
    },
    {
     "name": "stderr",
     "output_type": "stream",
     "text": [
      "episode: 559/4000  13% ETA:  0:10:09 ||||||                                  | \r"
     ]
    },
    {
     "name": "stdout",
     "output_type": "stream",
     "text": [
      "\u001b[41mEpisode 559 with 33 steps || Reward : [-0.01  0.1 ] || avg reward :  0.029 || Noise  0.446 || 0.152 seconds, mem : 9864\n",
      "\u001b[0mEpisode 560 with 14 steps || Reward : [-0.01  0.  ] || avg reward :  0.029 || Noise  0.446 || 0.563 seconds, mem : 9878\n",
      "\u001b[0m"
     ]
    },
    {
     "name": "stderr",
     "output_type": "stream",
     "text": [
      "episode: 563/4000  14% ETA:  0:10:13 |/////                                  | \r"
     ]
    },
    {
     "name": "stdout",
     "output_type": "stream",
     "text": [
      "\u001b[41mEpisode 562 with 32 steps || Reward : [0.   0.09] || avg reward :  0.030 || Noise  0.446 || 0.683 seconds, mem : 9924\n",
      "\u001b[0m\u001b[41mEpisode 564 with 33 steps || Reward : [ 0.1  -0.02] || avg reward :  0.031 || Noise  0.446 || 0.717 seconds, mem : 9971\n",
      "\u001b[0m"
     ]
    },
    {
     "name": "stderr",
     "output_type": "stream",
     "text": [
      "episode: 567/4000  14% ETA:  0:10:17 |-----                                  | \r"
     ]
    },
    {
     "name": "stdout",
     "output_type": "stream",
     "text": [
      "\u001b[41mEpisode 567 with 33 steps || Reward : [-0.01  0.1 ] || avg reward :  0.032 || Noise  0.446 || 0.148 seconds, mem : 10048\n",
      "\u001b[0m\u001b[41mEpisode 569 with 32 steps || Reward : [0.   0.09] || avg reward :  0.033 || Noise  0.446 || 0.150 seconds, mem : 10095\n",
      "\u001b[0m"
     ]
    },
    {
     "name": "stderr",
     "output_type": "stream",
     "text": [
      "episode: 571/4000  14% ETA:  0:10:21 |\\\\\\\\\\                                  | \r"
     ]
    },
    {
     "name": "stdout",
     "output_type": "stream",
     "text": [
      "\u001b[41mEpisode 572 with 26 steps || Reward : [ 0.1  -0.01] || avg reward :  0.034 || Noise  0.446 || 0.675 seconds, mem : 10150\n",
      "\u001b[0m"
     ]
    },
    {
     "name": "stderr",
     "output_type": "stream",
     "text": [
      "episode: 575/4000  14% ETA:  0:10:24 ||||||                                  | \r"
     ]
    },
    {
     "name": "stdout",
     "output_type": "stream",
     "text": [
      "\u001b[41mEpisode 577 with 34 steps || Reward : [-0.01  0.1 ] || avg reward :  0.035 || Noise  0.446 || 0.138 seconds, mem : 10240\n",
      "\u001b[0m"
     ]
    },
    {
     "name": "stderr",
     "output_type": "stream",
     "text": [
      "episode: 579/4000  14% ETA:  0:10:27 |/////                                  | \r"
     ]
    },
    {
     "name": "stdout",
     "output_type": "stream",
     "text": [
      "Episode 580 with 14 steps || Reward : [-0.01  0.  ] || avg reward :  0.033 || Noise  0.446 || 0.587 seconds, mem : 10282\n",
      "\u001b[0m"
     ]
    },
    {
     "name": "stderr",
     "output_type": "stream",
     "text": [
      "episode: 583/4000  14% ETA:  0:10:30 |-----                                  | \r"
     ]
    },
    {
     "name": "stdout",
     "output_type": "stream",
     "text": [
      "\u001b[41mEpisode 582 with 33 steps || Reward : [-0.02  0.1 ] || avg reward :  0.033 || Noise  0.446 || 0.656 seconds, mem : 10329\n",
      "\u001b[0m"
     ]
    },
    {
     "name": "stderr",
     "output_type": "stream",
     "text": [
      "episode: 591/4000  14% ETA:  0:10:36 ||||||                                  | \r"
     ]
    },
    {
     "name": "stdout",
     "output_type": "stream",
     "text": [
      "\u001b[41mEpisode 591 with 33 steps || Reward : [-0.01  0.1 ] || avg reward :  0.031 || Noise  0.446 || 0.135 seconds, mem : 10485\n",
      "\u001b[0m\u001b[41mEpisode 592 with 33 steps || Reward : [-0.02  0.1 ] || avg reward :  0.032 || Noise  0.446 || 0.728 seconds, mem : 10518\n",
      "\u001b[0m"
     ]
    },
    {
     "name": "stderr",
     "output_type": "stream",
     "text": [
      "episode: 595/4000  14% ETA:  0:10:39 |/////                                  | \r"
     ]
    },
    {
     "name": "stdout",
     "output_type": "stream",
     "text": [
      "\u001b[41mEpisode 596 with 33 steps || Reward : [-0.01  0.1 ] || avg reward :  0.032 || Noise  0.445 || 0.680 seconds, mem : 10593\n",
      "\u001b[0m"
     ]
    },
    {
     "name": "stderr",
     "output_type": "stream",
     "text": [
      "episode: 599/4000  14% ETA:  0:10:43 |-----                                  | \r"
     ]
    },
    {
     "name": "stdout",
     "output_type": "stream",
     "text": [
      "\u001b[44mEpisode 600 with 42 steps || Reward : [0.1  0.09] || avg reward :  0.033 || Noise  0.445 || 0.708 seconds, mem : 10678\n",
      "\u001b[0m"
     ]
    },
    {
     "name": "stderr",
     "output_type": "stream",
     "text": [
      "episode: 607/4000  15% ETA:  0:10:48 ||||||                                  | \r"
     ]
    },
    {
     "name": "stdout",
     "output_type": "stream",
     "text": [
      "\u001b[41mEpisode 606 with 33 steps || Reward : [-0.01  0.1 ] || avg reward :  0.033 || Noise  0.445 || 0.684 seconds, mem : 10782\n",
      "\u001b[0m\u001b[41mEpisode 609 with 33 steps || Reward : [0.   0.09] || avg reward :  0.034 || Noise  0.445 || 0.142 seconds, mem : 10843\n",
      "\u001b[0m"
     ]
    },
    {
     "name": "stderr",
     "output_type": "stream",
     "text": [
      "episode: 619/4000  15% ETA:  0:10:56 |\\\\\\\\\\\\                                 | \r"
     ]
    },
    {
     "name": "stdout",
     "output_type": "stream",
     "text": [
      "\u001b[41mEpisode 619 with 33 steps || Reward : [0.   0.09] || avg reward :  0.031 || Noise  0.445 || 0.134 seconds, mem : 11040\n",
      "\u001b[0mEpisode 620 with 14 steps || Reward : [ 0.   -0.01] || avg reward :  0.031 || Noise  0.445 || 0.598 seconds, mem : 11054\n",
      "\u001b[0m\u001b[41mEpisode 621 with 29 steps || Reward : [-0.01  0.1 ] || avg reward :  0.031 || Noise  0.445 || 0.153 seconds, mem : 11083\n",
      "\u001b[0m"
     ]
    },
    {
     "name": "stderr",
     "output_type": "stream",
     "text": [
      "episode: 623/4000  15% ETA:  0:10:59 |||||||                                 | \r"
     ]
    },
    {
     "name": "stdout",
     "output_type": "stream",
     "text": [
      "\u001b[41mEpisode 624 with 33 steps || Reward : [-0.01  0.1 ] || avg reward :  0.030 || Noise  0.445 || 0.678 seconds, mem : 11144\n",
      "\u001b[0m"
     ]
    },
    {
     "name": "stderr",
     "output_type": "stream",
     "text": [
      "episode: 627/4000  15% ETA:  0:11:02 |//////                                 | \r"
     ]
    },
    {
     "name": "stdout",
     "output_type": "stream",
     "text": [
      "\u001b[41mEpisode 627 with 32 steps || Reward : [-0.01  0.1 ] || avg reward :  0.031 || Noise  0.445 || 0.132 seconds, mem : 11205\n",
      "\u001b[0m"
     ]
    },
    {
     "name": "stderr",
     "output_type": "stream",
     "text": [
      "episode: 630/4000  15% ETA:  0:11:04 |------                                 | \r"
     ]
    },
    {
     "name": "stdout",
     "output_type": "stream",
     "text": [
      "\u001b[44mEpisode 628 with 46 steps || Reward : [0.1  0.09] || avg reward :  0.031 || Noise  0.445 || 0.745 seconds, mem : 11251\n",
      "\u001b[0m\u001b[41mEpisode 629 with 32 steps || Reward : [0.   0.09] || avg reward :  0.031 || Noise  0.445 || 0.151 seconds, mem : 11283\n",
      "\u001b[0m"
     ]
    },
    {
     "name": "stderr",
     "output_type": "stream",
     "text": [
      "episode: 633/4000  15% ETA:  0:11:07 |\\\\\\\\\\\\                                 | \r"
     ]
    },
    {
     "name": "stdout",
     "output_type": "stream",
     "text": [
      "\u001b[41mEpisode 634 with 38 steps || Reward : [-0.01  0.1 ] || avg reward :  0.032 || Noise  0.445 || 0.718 seconds, mem : 11378\n",
      "\u001b[0m"
     ]
    },
    {
     "name": "stderr",
     "output_type": "stream",
     "text": [
      "episode: 641/4000  16% ETA:  0:11:11 |//////                                 | \r"
     ]
    },
    {
     "name": "stdout",
     "output_type": "stream",
     "text": [
      "Episode 640 with 14 steps || Reward : [-0.01  0.  ] || avg reward :  0.030 || Noise  0.445 || 0.625 seconds, mem : 11463\n",
      "\u001b[0m\u001b[41mEpisode 642 with 32 steps || Reward : [-0.01  0.1 ] || avg reward :  0.029 || Noise  0.444 || 0.659 seconds, mem : 11517\n",
      "\u001b[0m"
     ]
    },
    {
     "name": "stderr",
     "output_type": "stream",
     "text": [
      "episode: 645/4000  16% ETA:  0:11:14 |------                                 | \r"
     ]
    },
    {
     "name": "stdout",
     "output_type": "stream",
     "text": [
      "\u001b[41mEpisode 644 with 32 steps || Reward : [ 0.1  -0.01] || avg reward :  0.029 || Noise  0.444 || 0.658 seconds, mem : 11564\n",
      "\u001b[0m\u001b[41mEpisode 645 with 27 steps || Reward : [ 0.1  -0.01] || avg reward :  0.029 || Noise  0.444 || 0.121 seconds, mem : 11591\n",
      "\u001b[0m\u001b[41mEpisode 646 with 31 steps || Reward : [0.   0.09] || avg reward :  0.029 || Noise  0.444 || 0.663 seconds, mem : 11622\n",
      "\u001b[0m"
     ]
    },
    {
     "name": "stderr",
     "output_type": "stream",
     "text": [
      "episode: 649/4000  16% ETA:  0:11:16 |\\\\\\\\\\\\                                 | \r"
     ]
    },
    {
     "name": "stdout",
     "output_type": "stream",
     "text": [
      "\u001b[41mEpisode 649 with 28 steps || Reward : [-0.01  0.1 ] || avg reward :  0.029 || Noise  0.444 || 0.125 seconds, mem : 11679\n",
      "\u001b[0m\u001b[41mEpisode 650 with 33 steps || Reward : [-0.01  0.1 ] || avg reward :  0.030 || Noise  0.444 || 0.656 seconds, mem : 11712\n",
      "\u001b[0m"
     ]
    },
    {
     "name": "stderr",
     "output_type": "stream",
     "text": [
      "episode: 661/4000  16% ETA:  0:11:23 |------                                 | \r"
     ]
    },
    {
     "name": "stdout",
     "output_type": "stream",
     "text": [
      "\u001b[41mEpisode 660 with 35 steps || Reward : [ 0.1  -0.01] || avg reward :  0.026 || Noise  0.444 || 0.699 seconds, mem : 11875\n",
      "\u001b[0m\u001b[41mEpisode 663 with 33 steps || Reward : [ 0.1  -0.01] || avg reward :  0.027 || Noise  0.444 || 0.137 seconds, mem : 11936\n",
      "\u001b[0m"
     ]
    },
    {
     "name": "stderr",
     "output_type": "stream",
     "text": [
      "episode: 665/4000  16% ETA:  0:11:25 |\\\\\\\\\\\\                                 | \r"
     ]
    },
    {
     "name": "stdout",
     "output_type": "stream",
     "text": [
      "\u001b[41mEpisode 664 with 33 steps || Reward : [ 0.1  -0.01] || avg reward :  0.027 || Noise  0.444 || 0.667 seconds, mem : 11969\n",
      "\u001b[0m\u001b[41mEpisode 665 with 32 steps || Reward : [ 0.1  -0.01] || avg reward :  0.028 || Noise  0.444 || 0.140 seconds, mem : 12001\n",
      "\u001b[0m"
     ]
    },
    {
     "name": "stderr",
     "output_type": "stream",
     "text": [
      "episode: 669/4000  16% ETA:  0:11:28 |||||||                                 | \r"
     ]
    },
    {
     "name": "stdout",
     "output_type": "stream",
     "text": [
      "\u001b[41mEpisode 668 with 33 steps || Reward : [-0.01  0.1 ] || avg reward :  0.028 || Noise  0.444 || 0.668 seconds, mem : 12063\n",
      "\u001b[0m\u001b[41mEpisode 670 with 32 steps || Reward : [-0.01  0.1 ] || avg reward :  0.028 || Noise  0.444 || 0.671 seconds, mem : 12110\n",
      "\u001b[0m\u001b[41mEpisode 671 with 34 steps || Reward : [0.   0.09] || avg reward :  0.029 || Noise  0.444 || 0.142 seconds, mem : 12144\n",
      "\u001b[0m"
     ]
    },
    {
     "name": "stderr",
     "output_type": "stream",
     "text": [
      "episode: 677/4000  16% ETA:  0:11:32 |------                                 | \r"
     ]
    },
    {
     "name": "stdout",
     "output_type": "stream",
     "text": [
      "\u001b[41mEpisode 676 with 33 steps || Reward : [ 0.1  -0.01] || avg reward :  0.029 || Noise  0.444 || 0.647 seconds, mem : 12236\n",
      "\u001b[0m"
     ]
    },
    {
     "name": "stderr",
     "output_type": "stream",
     "text": [
      "episode: 681/4000  17% ETA:  0:11:33 |\\\\\\\\\\\\                                 | \r"
     ]
    },
    {
     "name": "stdout",
     "output_type": "stream",
     "text": [
      "Episode 680 with 14 steps || Reward : [ 0.   -0.01] || avg reward :  0.028 || Noise  0.444 || 0.577 seconds, mem : 12293\n",
      "\u001b[0m\u001b[41mEpisode 681 with 32 steps || Reward : [ 0.1  -0.01] || avg reward :  0.029 || Noise  0.444 || 0.128 seconds, mem : 12325\n",
      "\u001b[0m\u001b[41mEpisode 683 with 33 steps || Reward : [0.   0.09] || avg reward :  0.028 || Noise  0.444 || 0.133 seconds, mem : 12372\n",
      "\u001b[0m"
     ]
    },
    {
     "name": "stderr",
     "output_type": "stream",
     "text": [
      "episode: 685/4000  17% ETA:  0:11:35 |||||||                                 | \r"
     ]
    },
    {
     "name": "stdout",
     "output_type": "stream",
     "text": [
      "\u001b[41mEpisode 685 with 33 steps || Reward : [-0.01  0.1 ] || avg reward :  0.029 || Noise  0.444 || 0.143 seconds, mem : 12419\n",
      "\u001b[0m"
     ]
    },
    {
     "name": "stderr",
     "output_type": "stream",
     "text": [
      "episode: 693/4000  17% ETA:  0:11:38 |------                                 | \r"
     ]
    },
    {
     "name": "stdout",
     "output_type": "stream",
     "text": [
      "\u001b[41mEpisode 693 with 31 steps || Reward : [ 0.1  -0.01] || avg reward :  0.028 || Noise  0.443 || 0.131 seconds, mem : 12549\n",
      "\u001b[0m\u001b[41mEpisode 695 with 32 steps || Reward : [ 0.1  -0.01] || avg reward :  0.029 || Noise  0.443 || 0.137 seconds, mem : 12596\n",
      "\u001b[0m"
     ]
    },
    {
     "name": "stderr",
     "output_type": "stream",
     "text": [
      "episode: 697/4000  17% ETA:  0:11:41 |\\\\\\\\\\\\                                 | \r"
     ]
    },
    {
     "name": "stdout",
     "output_type": "stream",
     "text": [
      "\u001b[41mEpisode 696 with 33 steps || Reward : [-0.02  0.1 ] || avg reward :  0.029 || Noise  0.443 || 0.650 seconds, mem : 12629\n",
      "\u001b[0m\u001b[44mEpisode 698 with 40 steps || Reward : [0.1  0.09] || avg reward :  0.030 || Noise  0.443 || 0.687 seconds, mem : 12683\n",
      "\u001b[0m"
     ]
    },
    {
     "name": "stderr",
     "output_type": "stream",
     "text": [
      "episode: 701/4000  17% ETA:  0:11:42 |||||||                                 | \r"
     ]
    },
    {
     "name": "stdout",
     "output_type": "stream",
     "text": [
      "Episode 700 with 14 steps || Reward : [ 0.   -0.01] || avg reward :  0.029 || Noise  0.443 || 0.560 seconds, mem : 12711\n",
      "\u001b[0m"
     ]
    },
    {
     "name": "stderr",
     "output_type": "stream",
     "text": [
      "episode: 705/4000  17% ETA:  0:11:44 |//////                                 | \r"
     ]
    },
    {
     "name": "stdout",
     "output_type": "stream",
     "text": [
      "\u001b[41mEpisode 705 with 35 steps || Reward : [ 0.1  -0.01] || avg reward :  0.030 || Noise  0.443 || 0.157 seconds, mem : 12803\n",
      "\u001b[0m\u001b[41mEpisode 706 with 32 steps || Reward : [-0.01  0.1 ] || avg reward :  0.030 || Noise  0.443 || 0.647 seconds, mem : 12835\n",
      "\u001b[0m"
     ]
    },
    {
     "name": "stderr",
     "output_type": "stream",
     "text": [
      "episode: 709/4000  17% ETA:  0:11:46 |------                                 | \r"
     ]
    },
    {
     "name": "stdout",
     "output_type": "stream",
     "text": [
      "\u001b[41mEpisode 709 with 33 steps || Reward : [ 0.1  -0.01] || avg reward :  0.031 || Noise  0.443 || 0.141 seconds, mem : 12899\n",
      "\u001b[0m"
     ]
    },
    {
     "name": "stderr",
     "output_type": "stream",
     "text": [
      "episode: 717/4000  17% ETA:  0:11:49 |||||||                                 | \r"
     ]
    },
    {
     "name": "stdout",
     "output_type": "stream",
     "text": [
      "\u001b[41mEpisode 716 with 20 steps || Reward : [0.09 0.  ] || avg reward :  0.031 || Noise  0.443 || 0.599 seconds, mem : 13004\n",
      "\u001b[0m\u001b[41mEpisode 718 with 32 steps || Reward : [ 0.1  -0.01] || avg reward :  0.032 || Noise  0.443 || 0.669 seconds, mem : 13050\n",
      "\u001b[0m"
     ]
    },
    {
     "name": "stderr",
     "output_type": "stream",
     "text": [
      "episode: 721/4000  18% ETA:  0:11:50 |///////                                | \r"
     ]
    },
    {
     "name": "stdout",
     "output_type": "stream",
     "text": [
      "Episode 720 with 14 steps || Reward : [ 0.   -0.01] || avg reward :  0.032 || Noise  0.443 || 0.619 seconds, mem : 13079\n",
      "\u001b[0m\u001b[41mEpisode 723 with 21 steps || Reward : [ 0.1  -0.01] || avg reward :  0.032 || Noise  0.443 || 0.090 seconds, mem : 13128\n",
      "\u001b[0m"
     ]
    },
    {
     "name": "stderr",
     "output_type": "stream",
     "text": [
      "episode: 725/4000  18% ETA:  0:11:51 |-------                                | \r"
     ]
    },
    {
     "name": "stdout",
     "output_type": "stream",
     "text": [
      "\u001b[41mEpisode 727 with 32 steps || Reward : [ 0.1  -0.01] || avg reward :  0.031 || Noise  0.443 || 0.138 seconds, mem : 13203\n",
      "\u001b[0m"
     ]
    },
    {
     "name": "stderr",
     "output_type": "stream",
     "text": [
      "episode: 729/4000  18% ETA:  0:11:53 |\\\\\\\\\\\\\\                                | \r"
     ]
    },
    {
     "name": "stdout",
     "output_type": "stream",
     "text": [
      "\u001b[41mEpisode 730 with 34 steps || Reward : [ 0.1  -0.01] || avg reward :  0.030 || Noise  0.443 || 0.692 seconds, mem : 13266\n",
      "\u001b[0m"
     ]
    },
    {
     "name": "stderr",
     "output_type": "stream",
     "text": [
      "episode: 733/4000  18% ETA:  0:11:55 ||||||||                                | \r"
     ]
    },
    {
     "name": "stdout",
     "output_type": "stream",
     "text": [
      "\u001b[41mEpisode 734 with 30 steps || Reward : [ 0.1  -0.01] || avg reward :  0.030 || Noise  0.442 || 0.741 seconds, mem : 13376\n",
      "\u001b[0m"
     ]
    },
    {
     "name": "stderr",
     "output_type": "stream",
     "text": [
      "episode: 737/4000  18% ETA:  0:11:57 |///////                                | \r"
     ]
    },
    {
     "name": "stdout",
     "output_type": "stream",
     "text": [
      "\u001b[41mEpisode 738 with 33 steps || Reward : [0.   0.09] || avg reward :  0.031 || Noise  0.442 || 0.672 seconds, mem : 13452\n",
      "\u001b[0m\u001b[41mEpisode 739 with 33 steps || Reward : [ 0.1  -0.01] || avg reward :  0.032 || Noise  0.442 || 0.132 seconds, mem : 13485\n",
      "\u001b[0m"
     ]
    },
    {
     "name": "stderr",
     "output_type": "stream",
     "text": [
      "episode: 741/4000  18% ETA:  0:11:59 |-------                                | \r"
     ]
    },
    {
     "name": "stdout",
     "output_type": "stream",
     "text": [
      "Episode 740 with 14 steps || Reward : [ 0.   -0.01] || avg reward :  0.032 || Noise  0.442 || 0.586 seconds, mem : 13499\n",
      "\u001b[0m"
     ]
    },
    {
     "name": "stderr",
     "output_type": "stream",
     "text": [
      "episode: 745/4000  18% ETA:  0:12:00 |\\\\\\\\\\\\\\                                | \r"
     ]
    },
    {
     "name": "stdout",
     "output_type": "stream",
     "text": [
      "\u001b[41mEpisode 747 with 33 steps || Reward : [ 0.1  -0.01] || avg reward :  0.029 || Noise  0.442 || 0.127 seconds, mem : 13634\n",
      "\u001b[0m"
     ]
    },
    {
     "name": "stderr",
     "output_type": "stream",
     "text": [
      "episode: 749/4000  18% ETA:  0:12:01 ||||||||                                | \r"
     ]
    },
    {
     "name": "stdout",
     "output_type": "stream",
     "text": [
      "\u001b[41mEpisode 749 with 32 steps || Reward : [ 0.1  -0.01] || avg reward :  0.029 || Noise  0.442 || 0.139 seconds, mem : 13681\n",
      "\u001b[0m"
     ]
    },
    {
     "name": "stderr",
     "output_type": "stream",
     "text": [
      "episode: 753/4000  18% ETA:  0:12:03 |///////                                | \r"
     ]
    },
    {
     "name": "stdout",
     "output_type": "stream",
     "text": [
      "\u001b[41mEpisode 752 with 32 steps || Reward : [0.   0.09] || avg reward :  0.029 || Noise  0.442 || 0.615 seconds, mem : 13742\n",
      "\u001b[0m"
     ]
    },
    {
     "name": "stderr",
     "output_type": "stream",
     "text": [
      "episode: 757/4000  18% ETA:  0:12:03 |-------                                | \r"
     ]
    },
    {
     "name": "stdout",
     "output_type": "stream",
     "text": [
      "\u001b[41mEpisode 759 with 32 steps || Reward : [ 0.1  -0.01] || avg reward :  0.030 || Noise  0.442 || 0.130 seconds, mem : 13860\n",
      "\u001b[0m"
     ]
    },
    {
     "name": "stderr",
     "output_type": "stream",
     "text": [
      "episode: 761/4000  19% ETA:  0:12:04 |\\\\\\\\\\\\\\                                | \r"
     ]
    },
    {
     "name": "stdout",
     "output_type": "stream",
     "text": [
      "Episode 760 with 15 steps || Reward : [-0.01  0.  ] || avg reward :  0.029 || Noise  0.442 || 0.576 seconds, mem : 13875\n",
      "\u001b[0m"
     ]
    },
    {
     "name": "stderr",
     "output_type": "stream",
     "text": [
      "episode: 765/4000  19% ETA:  0:12:05 ||||||||                                | \r"
     ]
    },
    {
     "name": "stdout",
     "output_type": "stream",
     "text": [
      "\u001b[41mEpisode 767 with 36 steps || Reward : [0.   0.09] || avg reward :  0.026 || Noise  0.442 || 0.144 seconds, mem : 13996\n",
      "\u001b[0m"
     ]
    },
    {
     "name": "stderr",
     "output_type": "stream",
     "text": [
      "episode: 769/4000  19% ETA:  0:12:07 |///////                                | \r"
     ]
    },
    {
     "name": "stdout",
     "output_type": "stream",
     "text": [
      "\u001b[41mEpisode 768 with 35 steps || Reward : [ 0.1  -0.01] || avg reward :  0.026 || Noise  0.442 || 0.724 seconds, mem : 14031\n",
      "\u001b[0m\u001b[41mEpisode 769 with 32 steps || Reward : [-0.01  0.1 ] || avg reward :  0.027 || Noise  0.442 || 0.130 seconds, mem : 14063\n",
      "\u001b[0m"
     ]
    },
    {
     "name": "stderr",
     "output_type": "stream",
     "text": [
      "episode: 773/4000  19% ETA:  0:12:08 |-------                                | \r"
     ]
    },
    {
     "name": "stdout",
     "output_type": "stream",
     "text": [
      "\u001b[41mEpisode 772 with 21 steps || Reward : [ 0.1  -0.01] || avg reward :  0.027 || Noise  0.442 || 0.568 seconds, mem : 14113\n",
      "\u001b[0m\u001b[41mEpisode 775 with 35 steps || Reward : [ 0.1  -0.01] || avg reward :  0.028 || Noise  0.442 || 0.136 seconds, mem : 14177\n",
      "\u001b[0m"
     ]
    },
    {
     "name": "stderr",
     "output_type": "stream",
     "text": [
      "episode: 777/4000  19% ETA:  0:12:09 |\\\\\\\\\\\\\\                                | \r"
     ]
    },
    {
     "name": "stdout",
     "output_type": "stream",
     "text": [
      "\u001b[41mEpisode 778 with 32 steps || Reward : [-0.01  0.1 ] || avg reward :  0.028 || Noise  0.441 || 0.614 seconds, mem : 14237\n",
      "\u001b[0m"
     ]
    },
    {
     "name": "stderr",
     "output_type": "stream",
     "text": [
      "episode: 781/4000  19% ETA:  0:12:10 ||||||||                                | \r"
     ]
    },
    {
     "name": "stdout",
     "output_type": "stream",
     "text": [
      "\u001b[41mEpisode 780 with 32 steps || Reward : [ 0.1  -0.01] || avg reward :  0.029 || Noise  0.441 || 0.742 seconds, mem : 14283\n",
      "\u001b[0m\u001b[41mEpisode 782 with 32 steps || Reward : [ 0.1  -0.01] || avg reward :  0.029 || Noise  0.441 || 0.655 seconds, mem : 14330\n",
      "\u001b[0m"
     ]
    },
    {
     "name": "stderr",
     "output_type": "stream",
     "text": [
      "episode: 785/4000  19% ETA:  0:12:12 |///////                                | \r"
     ]
    },
    {
     "name": "stdout",
     "output_type": "stream",
     "text": [
      "\u001b[41mEpisode 784 with 21 steps || Reward : [0.09 0.  ] || avg reward :  0.029 || Noise  0.441 || 0.653 seconds, mem : 14366\n",
      "\u001b[0m"
     ]
    },
    {
     "name": "stderr",
     "output_type": "stream",
     "text": [
      "episode: 789/4000  19% ETA:  0:12:13 |-------                                | \r"
     ]
    },
    {
     "name": "stdout",
     "output_type": "stream",
     "text": [
      "\u001b[41mEpisode 789 with 33 steps || Reward : [-0.01  0.1 ] || avg reward :  0.029 || Noise  0.441 || 0.140 seconds, mem : 14460\n",
      "\u001b[0m\u001b[41mEpisode 790 with 27 steps || Reward : [ 0.1  -0.01] || avg reward :  0.030 || Noise  0.441 || 0.613 seconds, mem : 14487\n",
      "\u001b[0m\u001b[41mEpisode 791 with 30 steps || Reward : [-0.01  0.1 ] || avg reward :  0.031 || Noise  0.441 || 0.118 seconds, mem : 14517\n",
      "\u001b[0m"
     ]
    },
    {
     "name": "stderr",
     "output_type": "stream",
     "text": [
      "episode: 793/4000  19% ETA:  0:12:14 |\\\\\\\\\\\\\\                                | \r"
     ]
    },
    {
     "name": "stdout",
     "output_type": "stream",
     "text": [
      "\u001b[41mEpisode 794 with 31 steps || Reward : [ 0.1  -0.01] || avg reward :  0.031 || Noise  0.441 || 0.634 seconds, mem : 14583\n",
      "\u001b[0m"
     ]
    },
    {
     "name": "stderr",
     "output_type": "stream",
     "text": [
      "episode: 797/4000  19% ETA:  0:12:15 ||||||||                                | \r"
     ]
    },
    {
     "name": "stdout",
     "output_type": "stream",
     "text": [
      "\u001b[41mEpisode 796 with 37 steps || Reward : [-0.01  0.1 ] || avg reward :  0.030 || Noise  0.441 || 0.665 seconds, mem : 14634\n",
      "\u001b[0m\u001b[41mEpisode 797 with 33 steps || Reward : [ 0.1  -0.01] || avg reward :  0.031 || Noise  0.441 || 0.162 seconds, mem : 14667\n",
      "\u001b[0m"
     ]
    },
    {
     "name": "stderr",
     "output_type": "stream",
     "text": [
      "episode: 801/4000  20% ETA:  0:12:16 |///////                                | \r"
     ]
    },
    {
     "name": "stdout",
     "output_type": "stream",
     "text": [
      "Episode 800 with 14 steps || Reward : [-0.01  0.  ] || avg reward :  0.030 || Noise  0.441 || 0.565 seconds, mem : 14709\n",
      "\u001b[0m"
     ]
    },
    {
     "name": "stderr",
     "output_type": "stream",
     "text": [
      "episode: 805/4000  20% ETA:  0:12:16 |-------                                | \r"
     ]
    },
    {
     "name": "stdout",
     "output_type": "stream",
     "text": [
      "\u001b[41mEpisode 804 with 31 steps || Reward : [ 0.1  -0.01] || avg reward :  0.031 || Noise  0.441 || 0.612 seconds, mem : 14783\n",
      "\u001b[0m\u001b[41mEpisode 806 with 33 steps || Reward : [-0.01  0.1 ] || avg reward :  0.030 || Noise  0.441 || 0.635 seconds, mem : 14830\n",
      "\u001b[0m"
     ]
    },
    {
     "name": "stderr",
     "output_type": "stream",
     "text": [
      "episode: 809/4000  20% ETA:  0:12:17 |\\\\\\\\\\\\\\                                | \r"
     ]
    },
    {
     "name": "stdout",
     "output_type": "stream",
     "text": [
      "\u001b[41mEpisode 809 with 33 steps || Reward : [0.   0.09] || avg reward :  0.029 || Noise  0.441 || 0.155 seconds, mem : 14893\n",
      "\u001b[0m\u001b[41mEpisode 811 with 28 steps || Reward : [ 0.1  -0.01] || avg reward :  0.030 || Noise  0.441 || 0.146 seconds, mem : 14935\n",
      "\u001b[0m"
     ]
    },
    {
     "name": "stderr",
     "output_type": "stream",
     "text": [
      "episode: 813/4000  20% ETA:  0:12:19 ||||||||                                | \r"
     ]
    },
    {
     "name": "stdout",
     "output_type": "stream",
     "text": [
      "\u001b[41mEpisode 812 with 33 steps || Reward : [ 0.1  -0.01] || avg reward :  0.031 || Noise  0.441 || 0.656 seconds, mem : 14968\n",
      "\u001b[0m\u001b[41mEpisode 814 with 33 steps || Reward : [ 0.1  -0.01] || avg reward :  0.032 || Noise  0.441 || 0.675 seconds, mem : 15015\n",
      "\u001b[0m\u001b[41mEpisode 815 with 33 steps || Reward : [ 0.1  -0.01] || avg reward :  0.033 || Noise  0.441 || 0.128 seconds, mem : 15048\n",
      "\u001b[0m"
     ]
    },
    {
     "name": "stderr",
     "output_type": "stream",
     "text": [
      "episode: 817/4000  20% ETA:  0:12:20 |///////                                | \r"
     ]
    },
    {
     "name": "stdout",
     "output_type": "stream",
     "text": [
      "\u001b[41mEpisode 816 with 32 steps || Reward : [ 0.1  -0.01] || avg reward :  0.034 || Noise  0.441 || 0.659 seconds, mem : 15080\n",
      "\u001b[0m"
     ]
    },
    {
     "name": "stderr",
     "output_type": "stream",
     "text": [
      "episode: 821/4000  20% ETA:  0:12:20 |--------                               | \r"
     ]
    },
    {
     "name": "stdout",
     "output_type": "stream",
     "text": [
      "Episode 820 with 14 steps || Reward : [ 0.   -0.01] || avg reward :  0.033 || Noise  0.441 || 0.559 seconds, mem : 15139\n",
      "\u001b[0m"
     ]
    },
    {
     "name": "stderr",
     "output_type": "stream",
     "text": [
      "episode: 825/4000  20% ETA:  0:12:21 |\\\\\\\\\\\\\\\\                               | \r"
     ]
    },
    {
     "name": "stdout",
     "output_type": "stream",
     "text": [
      "\u001b[41mEpisode 825 with 33 steps || Reward : [-0.01  0.1 ] || avg reward :  0.033 || Noise  0.440 || 0.156 seconds, mem : 15235\n",
      "\u001b[0m\u001b[41mEpisode 826 with 30 steps || Reward : [-0.01  0.1 ] || avg reward :  0.034 || Noise  0.440 || 0.625 seconds, mem : 15265\n",
      "\u001b[0m"
     ]
    },
    {
     "name": "stderr",
     "output_type": "stream",
     "text": [
      "episode: 829/4000  20% ETA:  0:12:21 |||||||||                               | \r"
     ]
    },
    {
     "name": "stdout",
     "output_type": "stream",
     "text": [
      "\u001b[41mEpisode 831 with 33 steps || Reward : [-0.01  0.1 ] || avg reward :  0.033 || Noise  0.440 || 0.132 seconds, mem : 15355\n",
      "\u001b[0m"
     ]
    },
    {
     "name": "stderr",
     "output_type": "stream",
     "text": [
      "episode: 841/4000  21% ETA:  0:12:22 |\\\\\\\\\\\\\\\\                               | \r"
     ]
    },
    {
     "name": "stdout",
     "output_type": "stream",
     "text": [
      "Episode 840 with 14 steps || Reward : [-0.01  0.  ] || avg reward :  0.030 || Noise  0.440 || 0.559 seconds, mem : 15483\n",
      "\u001b[0m\u001b[42mEpisode 841 with 58 steps || Reward : [0.1  0.19] || avg reward :  0.032 || Noise  0.440 || 0.275 seconds, mem : 15541\n",
      "\u001b[0m"
     ]
    },
    {
     "name": "stderr",
     "output_type": "stream",
     "text": [
      "episode: 845/4000  21% ETA:  0:12:23 |||||||||                               | \r"
     ]
    },
    {
     "name": "stdout",
     "output_type": "stream",
     "text": [
      "\u001b[41mEpisode 845 with 33 steps || Reward : [ 0.1  -0.01] || avg reward :  0.033 || Noise  0.440 || 0.136 seconds, mem : 15616\n",
      "\u001b[0m\u001b[41mEpisode 847 with 33 steps || Reward : [0.   0.09] || avg reward :  0.032 || Noise  0.440 || 0.134 seconds, mem : 15663\n",
      "\u001b[0m"
     ]
    },
    {
     "name": "stderr",
     "output_type": "stream",
     "text": [
      "episode: 853/4000  21% ETA:  0:12:24 |--------                               | \r"
     ]
    },
    {
     "name": "stdout",
     "output_type": "stream",
     "text": [
      "\u001b[41mEpisode 852 with 33 steps || Reward : [ 0.1  -0.01] || avg reward :  0.032 || Noise  0.440 || 0.614 seconds, mem : 15753\n",
      "\u001b[0m\u001b[41mEpisode 853 with 33 steps || Reward : [-0.01  0.1 ] || avg reward :  0.033 || Noise  0.440 || 0.146 seconds, mem : 15786\n",
      "\u001b[0m\u001b[41mEpisode 855 with 33 steps || Reward : [ 0.1  -0.01] || avg reward :  0.034 || Noise  0.440 || 0.133 seconds, mem : 15833\n",
      "\u001b[0m"
     ]
    },
    {
     "name": "stderr",
     "output_type": "stream",
     "text": [
      "episode: 857/4000  21% ETA:  0:12:25 |\\\\\\\\\\\\\\\\                               | \r"
     ]
    },
    {
     "name": "stdout",
     "output_type": "stream",
     "text": [
      "\u001b[41mEpisode 858 with 33 steps || Reward : [0.   0.09] || avg reward :  0.034 || Noise  0.440 || 0.617 seconds, mem : 15894\n",
      "\u001b[0m\u001b[41mEpisode 859 with 32 steps || Reward : [0.   0.09] || avg reward :  0.034 || Noise  0.440 || 0.152 seconds, mem : 15926\n",
      "\u001b[0m"
     ]
    },
    {
     "name": "stderr",
     "output_type": "stream",
     "text": [
      "episode: 861/4000  21% ETA:  0:12:26 |||||||||                               | \r"
     ]
    },
    {
     "name": "stdout",
     "output_type": "stream",
     "text": [
      "Episode 860 with 24 steps || Reward : [-0.01  0.  ] || avg reward :  0.034 || Noise  0.440 || 0.621 seconds, mem : 15950\n",
      "\u001b[0m"
     ]
    },
    {
     "name": "stderr",
     "output_type": "stream",
     "text": [
      "episode: 865/4000  21% ETA:  0:12:26 |////////                               | \r"
     ]
    },
    {
     "name": "stdout",
     "output_type": "stream",
     "text": [
      "\u001b[41mEpisode 867 with 31 steps || Reward : [ 0.1  -0.01] || avg reward :  0.034 || Noise  0.439 || 0.131 seconds, mem : 16078\n",
      "\u001b[0m"
     ]
    },
    {
     "name": "stderr",
     "output_type": "stream",
     "text": [
      "episode: 873/4000  21% ETA:  0:12:27 |\\\\\\\\\\\\\\\\                               | \r"
     ]
    },
    {
     "name": "stdout",
     "output_type": "stream",
     "text": [
      "\u001b[41mEpisode 873 with 33 steps || Reward : [ 0.1  -0.01] || avg reward :  0.032 || Noise  0.439 || 0.146 seconds, mem : 16185\n",
      "\u001b[0m\u001b[41mEpisode 875 with 33 steps || Reward : [-0.02  0.1 ] || avg reward :  0.032 || Noise  0.439 || 0.133 seconds, mem : 16232\n",
      "\u001b[0m"
     ]
    },
    {
     "name": "stderr",
     "output_type": "stream",
     "text": [
      "episode: 877/4000  21% ETA:  0:12:28 |||||||||                               | \r"
     ]
    },
    {
     "name": "stdout",
     "output_type": "stream",
     "text": [
      "\u001b[41mEpisode 876 with 33 steps || Reward : [0.   0.09] || avg reward :  0.033 || Noise  0.439 || 0.666 seconds, mem : 16265\n",
      "\u001b[0m\u001b[41mEpisode 879 with 32 steps || Reward : [ 0.1  -0.01] || avg reward :  0.033 || Noise  0.439 || 0.141 seconds, mem : 16326\n",
      "\u001b[0m"
     ]
    },
    {
     "name": "stderr",
     "output_type": "stream",
     "text": [
      "episode: 881/4000  22% ETA:  0:12:29 |////////                               | \r"
     ]
    },
    {
     "name": "stdout",
     "output_type": "stream",
     "text": [
      "\u001b[41mEpisode 880 with 33 steps || Reward : [-0.01  0.1 ] || avg reward :  0.033 || Noise  0.439 || 0.636 seconds, mem : 16359\n",
      "\u001b[0m\u001b[41mEpisode 883 with 32 steps || Reward : [-0.01  0.1 ] || avg reward :  0.033 || Noise  0.439 || 0.130 seconds, mem : 16420\n",
      "\u001b[0m"
     ]
    },
    {
     "name": "stderr",
     "output_type": "stream",
     "text": [
      "episode: 885/4000  22% ETA:  0:12:29 |--------                               | \r"
     ]
    },
    {
     "name": "stdout",
     "output_type": "stream",
     "text": [
      "\u001b[41mEpisode 884 with 33 steps || Reward : [ 0.1  -0.01] || avg reward :  0.033 || Noise  0.439 || 0.603 seconds, mem : 16453\n",
      "\u001b[0m"
     ]
    },
    {
     "name": "stderr",
     "output_type": "stream",
     "text": [
      "episode: 901/4000  22% ETA:  0:12:29 |--------                               | \r"
     ]
    },
    {
     "name": "stdout",
     "output_type": "stream",
     "text": [
      "\u001b[41mEpisode 900 with 26 steps || Reward : [-0.01  0.1 ] || avg reward :  0.028 || Noise  0.439 || 0.570 seconds, mem : 16712\n",
      "\u001b[0m\u001b[41mEpisode 901 with 33 steps || Reward : [-0.01  0.1 ] || avg reward :  0.029 || Noise  0.439 || 0.155 seconds, mem : 16745\n",
      "\u001b[0m\u001b[44mEpisode 903 with 37 steps || Reward : [0.1  0.09] || avg reward :  0.030 || Noise  0.439 || 0.162 seconds, mem : 16796\n",
      "\u001b[0m"
     ]
    },
    {
     "name": "stderr",
     "output_type": "stream",
     "text": [
      "episode: 909/4000  22% ETA:  0:12:30 |||||||||                               | \r"
     ]
    },
    {
     "name": "stdout",
     "output_type": "stream",
     "text": [
      "\u001b[41mEpisode 908 with 32 steps || Reward : [-0.01  0.1 ] || avg reward :  0.029 || Noise  0.439 || 0.611 seconds, mem : 16885\n",
      "\u001b[0m\u001b[41mEpisode 911 with 33 steps || Reward : [ 0.1  -0.01] || avg reward :  0.029 || Noise  0.439 || 0.129 seconds, mem : 16947\n",
      "\u001b[0m"
     ]
    },
    {
     "name": "stderr",
     "output_type": "stream",
     "text": [
      "episode: 913/4000  22% ETA:  0:12:30 |////////                               | \r"
     ]
    },
    {
     "name": "stdout",
     "output_type": "stream",
     "text": [
      "\u001b[41mEpisode 912 with 32 steps || Reward : [-0.01  0.1 ] || avg reward :  0.029 || Noise  0.438 || 0.665 seconds, mem : 16979\n",
      "\u001b[0m"
     ]
    },
    {
     "name": "stderr",
     "output_type": "stream",
     "text": [
      "episode: 917/4000  22% ETA:  0:12:30 |--------                               | \r"
     ]
    },
    {
     "name": "stdout",
     "output_type": "stream",
     "text": [
      "\u001b[41mEpisode 916 with 33 steps || Reward : [-0.01  0.1 ] || avg reward :  0.027 || Noise  0.438 || 0.617 seconds, mem : 17055\n",
      "\u001b[0m"
     ]
    },
    {
     "name": "stderr",
     "output_type": "stream",
     "text": [
      "episode: 921/4000  23% ETA:  0:12:30 |\\\\\\\\\\\\\\\\                               | \r"
     ]
    },
    {
     "name": "stdout",
     "output_type": "stream",
     "text": [
      "Episode 920 with 14 steps || Reward : [ 0.   -0.01] || avg reward :  0.027 || Noise  0.438 || 0.562 seconds, mem : 17112\n",
      "\u001b[0m"
     ]
    },
    {
     "name": "stderr",
     "output_type": "stream",
     "text": [
      "episode: 929/4000  23% ETA:  0:12:30 |/////////                              | \r"
     ]
    },
    {
     "name": "stdout",
     "output_type": "stream",
     "text": [
      "\u001b[41mEpisode 931 with 31 steps || Reward : [-0.01  0.1 ] || avg reward :  0.025 || Noise  0.438 || 0.142 seconds, mem : 17290\n",
      "\u001b[0m"
     ]
    },
    {
     "name": "stderr",
     "output_type": "stream",
     "text": [
      "episode: 941/4000  23% ETA:  0:12:30 ||||||||||                              | \r"
     ]
    },
    {
     "name": "stdout",
     "output_type": "stream",
     "text": [
      "Episode 940 with 14 steps || Reward : [-0.01  0.  ] || avg reward :  0.025 || Noise  0.438 || 0.548 seconds, mem : 17417\n",
      "\u001b[0m\u001b[41mEpisode 941 with 35 steps || Reward : [0.   0.09] || avg reward :  0.024 || Noise  0.438 || 0.148 seconds, mem : 17452\n",
      "\u001b[0m\u001b[41mEpisode 942 with 33 steps || Reward : [-0.02  0.1 ] || avg reward :  0.025 || Noise  0.438 || 0.633 seconds, mem : 17485\n",
      "\u001b[0m\u001b[41mEpisode 943 with 33 steps || Reward : [-0.01  0.1 ] || avg reward :  0.026 || Noise  0.438 || 0.135 seconds, mem : 17518\n",
      "\u001b[0m"
     ]
    },
    {
     "name": "stderr",
     "output_type": "stream",
     "text": [
      "episode: 945/4000  23% ETA:  0:12:31 |/////////                              | \r"
     ]
    },
    {
     "name": "stdout",
     "output_type": "stream",
     "text": [
      "\u001b[41mEpisode 944 with 32 steps || Reward : [0.   0.09] || avg reward :  0.026 || Noise  0.438 || 0.616 seconds, mem : 17550\n",
      "\u001b[0m"
     ]
    },
    {
     "name": "stderr",
     "output_type": "stream",
     "text": [
      "episode: 949/4000  23% ETA:  0:12:31 |---------                              | \r"
     ]
    },
    {
     "name": "stdout",
     "output_type": "stream",
     "text": [
      "\u001b[41mEpisode 948 with 33 steps || Reward : [-0.01  0.1 ] || avg reward :  0.026 || Noise  0.438 || 0.620 seconds, mem : 17625\n",
      "\u001b[0m"
     ]
    },
    {
     "name": "stderr",
     "output_type": "stream",
     "text": [
      "episode: 961/4000  24% ETA:  0:12:30 |/////////                              | \r"
     ]
    },
    {
     "name": "stdout",
     "output_type": "stream",
     "text": [
      "Episode 960 with 14 steps || Reward : [-0.01  0.  ] || avg reward :  0.021 || Noise  0.437 || 0.544 seconds, mem : 17795\n",
      "\u001b[0m"
     ]
    },
    {
     "name": "stderr",
     "output_type": "stream",
     "text": [
      "episode: 973/4000  24% ETA:  0:12:30 ||||||||||                              | \r"
     ]
    },
    {
     "name": "stdout",
     "output_type": "stream",
     "text": [
      "\u001b[41mEpisode 974 with 22 steps || Reward : [0.   0.09] || avg reward :  0.020 || Noise  0.437 || 0.572 seconds, mem : 18002\n",
      "\u001b[0m"
     ]
    },
    {
     "name": "stderr",
     "output_type": "stream",
     "text": [
      "episode: 977/4000  24% ETA:  0:12:30 |/////////                              | \r"
     ]
    },
    {
     "name": "stdout",
     "output_type": "stream",
     "text": [
      "\u001b[41mEpisode 978 with 32 steps || Reward : [-0.01  0.1 ] || avg reward :  0.019 || Noise  0.437 || 0.634 seconds, mem : 18076\n",
      "\u001b[0m"
     ]
    },
    {
     "name": "stderr",
     "output_type": "stream",
     "text": [
      "episode: 981/4000  24% ETA:  0:12:30 |---------                              | \r"
     ]
    },
    {
     "name": "stdout",
     "output_type": "stream",
     "text": [
      "\u001b[41mEpisode 980 with 32 steps || Reward : [-0.01  0.1 ] || avg reward :  0.018 || Noise  0.437 || 0.609 seconds, mem : 18123\n",
      "\u001b[0m\u001b[41mEpisode 983 with 33 steps || Reward : [-0.01  0.1 ] || avg reward :  0.018 || Noise  0.437 || 0.131 seconds, mem : 18185\n",
      "\u001b[0m"
     ]
    },
    {
     "name": "stderr",
     "output_type": "stream",
     "text": [
      "episode: 993/4000  24% ETA:  0:12:30 |/////////                              | \r"
     ]
    },
    {
     "name": "stdout",
     "output_type": "stream",
     "text": [
      "\u001b[41mEpisode 992 with 33 steps || Reward : [-0.01  0.1 ] || avg reward :  0.018 || Noise  0.437 || 0.687 seconds, mem : 18331\n",
      "\u001b[0m\u001b[41mEpisode 993 with 34 steps || Reward : [0.   0.09] || avg reward :  0.019 || Noise  0.437 || 0.145 seconds, mem : 18365\n",
      "\u001b[0m"
     ]
    },
    {
     "name": "stderr",
     "output_type": "stream",
     "text": [
      "episode: 1001/4000  25% ETA:  0:12:29 |\\\\\\\\\\\\\\\\\\                             | \r"
     ]
    },
    {
     "name": "stdout",
     "output_type": "stream",
     "text": [
      "Episode 1000 with 15 steps || Reward : [-0.01  0.  ] || avg reward :  0.018 || Noise  0.437 || 0.544 seconds, mem : 18465\n",
      "\u001b[0m"
     ]
    },
    {
     "name": "stderr",
     "output_type": "stream",
     "text": [
      "episode: 1021/4000  25% ETA:  0:12:28 ||||||||||                             | \r"
     ]
    },
    {
     "name": "stdout",
     "output_type": "stream",
     "text": [
      "Episode 1020 with 15 steps || Reward : [-0.01  0.  ] || avg reward :  0.012 || Noise  0.436 || 0.576 seconds, mem : 18749\n",
      "\u001b[0m"
     ]
    },
    {
     "name": "stderr",
     "output_type": "stream",
     "text": [
      "episode: 1033/4000  25% ETA:  0:12:29 |\\\\\\\\\\\\\\\\\\                             | \r"
     ]
    },
    {
     "name": "stdout",
     "output_type": "stream",
     "text": [
      "\u001b[41mEpisode 1032 with 33 steps || Reward : [-0.01  0.1 ] || avg reward :  0.012 || Noise  0.436 || 0.705 seconds, mem : 18938\n",
      "\u001b[0m"
     ]
    },
    {
     "name": "stderr",
     "output_type": "stream",
     "text": [
      "episode: 1037/4000  25% ETA:  0:12:28 ||||||||||                             | \r"
     ]
    },
    {
     "name": "stdout",
     "output_type": "stream",
     "text": [
      "\u001b[41mEpisode 1037 with 33 steps || Reward : [-0.01  0.1 ] || avg reward :  0.013 || Noise  0.436 || 0.138 seconds, mem : 19027\n",
      "\u001b[0m\u001b[41mEpisode 1039 with 33 steps || Reward : [-0.01  0.1 ] || avg reward :  0.014 || Noise  0.436 || 0.133 seconds, mem : 19074\n",
      "\u001b[0m"
     ]
    },
    {
     "name": "stderr",
     "output_type": "stream",
     "text": [
      "episode: 1041/4000  26% ETA:  0:12:29 |/////////                             | \r"
     ]
    },
    {
     "name": "stdout",
     "output_type": "stream",
     "text": [
      "Episode 1040 with 14 steps || Reward : [ 0.   -0.01] || avg reward :  0.014 || Noise  0.436 || 0.617 seconds, mem : 19088\n",
      "\u001b[0m\u001b[41mEpisode 1041 with 33 steps || Reward : [0.   0.09] || avg reward :  0.014 || Noise  0.436 || 0.135 seconds, mem : 19121\n",
      "\u001b[0m"
     ]
    },
    {
     "name": "stderr",
     "output_type": "stream",
     "text": [
      "episode: 1045/4000  26% ETA:  0:12:29 |---------                             | \r"
     ]
    },
    {
     "name": "stdout",
     "output_type": "stream",
     "text": [
      "\u001b[41mEpisode 1046 with 33 steps || Reward : [-0.01  0.1 ] || avg reward :  0.012 || Noise  0.436 || 0.626 seconds, mem : 19211\n",
      "\u001b[0m"
     ]
    },
    {
     "name": "stderr",
     "output_type": "stream",
     "text": [
      "episode: 1049/4000  26% ETA:  0:12:28 |\\\\\\\\\\\\\\\\\\                             | \r"
     ]
    },
    {
     "name": "stdout",
     "output_type": "stream",
     "text": [
      "\u001b[41mEpisode 1049 with 34 steps || Reward : [0.   0.09] || avg reward :  0.012 || Noise  0.436 || 0.154 seconds, mem : 19273\n",
      "\u001b[0m\u001b[41mEpisode 1051 with 34 steps || Reward : [ 0.1  -0.01] || avg reward :  0.013 || Noise  0.435 || 0.141 seconds, mem : 19323\n",
      "\u001b[0m"
     ]
    },
    {
     "name": "stderr",
     "output_type": "stream",
     "text": [
      "episode: 1053/4000  26% ETA:  0:12:28 |||||||||||                            | \r"
     ]
    },
    {
     "name": "stdout",
     "output_type": "stream",
     "text": [
      "\u001b[41mEpisode 1055 with 33 steps || Reward : [-0.01  0.1 ] || avg reward :  0.014 || Noise  0.435 || 0.153 seconds, mem : 19399\n",
      "\u001b[0m"
     ]
    },
    {
     "name": "stderr",
     "output_type": "stream",
     "text": [
      "episode: 1057/4000  26% ETA:  0:12:29 |//////////                            | \r"
     ]
    },
    {
     "name": "stdout",
     "output_type": "stream",
     "text": [
      "\u001b[41mEpisode 1058 with 33 steps || Reward : [-0.01  0.1 ] || avg reward :  0.015 || Noise  0.435 || 0.661 seconds, mem : 19460\n",
      "\u001b[0m"
     ]
    },
    {
     "name": "stderr",
     "output_type": "stream",
     "text": [
      "episode: 1061/4000  26% ETA:  0:12:29 |----------                            | \r"
     ]
    },
    {
     "name": "stdout",
     "output_type": "stream",
     "text": [
      "\u001b[41mEpisode 1060 with 33 steps || Reward : [0.   0.09] || avg reward :  0.016 || Noise  0.435 || 0.647 seconds, mem : 19507\n",
      "\u001b[0m"
     ]
    },
    {
     "name": "stderr",
     "output_type": "stream",
     "text": [
      "episode: 1069/4000  26% ETA:  0:12:29 |||||||||||                            | \r"
     ]
    },
    {
     "name": "stdout",
     "output_type": "stream",
     "text": [
      "\u001b[41mEpisode 1068 with 33 steps || Reward : [-0.01  0.1 ] || avg reward :  0.017 || Noise  0.435 || 0.659 seconds, mem : 19639\n",
      "\u001b[0m\u001b[41mEpisode 1070 with 33 steps || Reward : [-0.01  0.1 ] || avg reward :  0.018 || Noise  0.435 || 0.717 seconds, mem : 19686\n",
      "\u001b[0m\u001b[41mEpisode 1071 with 32 steps || Reward : [0.   0.09] || avg reward :  0.018 || Noise  0.435 || 0.159 seconds, mem : 19718\n",
      "\u001b[0m"
     ]
    },
    {
     "name": "stderr",
     "output_type": "stream",
     "text": [
      "episode: 1073/4000  26% ETA:  0:12:29 |//////////                            | \r"
     ]
    },
    {
     "name": "stdout",
     "output_type": "stream",
     "text": [
      "\u001b[41mEpisode 1075 with 33 steps || Reward : [0.   0.09] || avg reward :  0.018 || Noise  0.435 || 0.133 seconds, mem : 19812\n",
      "\u001b[0m"
     ]
    },
    {
     "name": "stderr",
     "output_type": "stream",
     "text": [
      "episode: 1081/4000  27% ETA:  0:12:29 |\\\\\\\\\\\\\\\\\\\\                            | \r"
     ]
    },
    {
     "name": "stdout",
     "output_type": "stream",
     "text": [
      "\u001b[41mEpisode 1080 with 34 steps || Reward : [0.   0.09] || avg reward :  0.017 || Noise  0.435 || 0.651 seconds, mem : 19902\n",
      "\u001b[0m\u001b[41mEpisode 1082 with 31 steps || Reward : [-0.01  0.1 ] || avg reward :  0.018 || Noise  0.435 || 0.662 seconds, mem : 19948\n",
      "\u001b[0m"
     ]
    },
    {
     "name": "stderr",
     "output_type": "stream",
     "text": [
      "episode: 1085/4000  27% ETA:  0:12:29 |||||||||||                            | \r"
     ]
    },
    {
     "name": "stdout",
     "output_type": "stream",
     "text": [
      "\u001b[41mEpisode 1084 with 34 steps || Reward : [0.   0.09] || avg reward :  0.018 || Noise  0.435 || 0.611 seconds, mem : 19996\n",
      "\u001b[0m"
     ]
    },
    {
     "name": "stderr",
     "output_type": "stream",
     "text": [
      "episode: 1089/4000  27% ETA:  0:12:29 |//////////                            | \r"
     ]
    },
    {
     "name": "stdout",
     "output_type": "stream",
     "text": [
      "\u001b[41mEpisode 1089 with 33 steps || Reward : [-0.01  0.1 ] || avg reward :  0.019 || Noise  0.435 || 0.136 seconds, mem : 20086\n",
      "\u001b[0m"
     ]
    },
    {
     "name": "stderr",
     "output_type": "stream",
     "text": [
      "episode: 1097/4000  27% ETA:  0:12:28 |\\\\\\\\\\\\\\\\\\\\                            | \r"
     ]
    },
    {
     "name": "stdout",
     "output_type": "stream",
     "text": [
      "\u001b[41mEpisode 1098 with 34 steps || Reward : [-0.01  0.1 ] || avg reward :  0.018 || Noise  0.434 || 0.601 seconds, mem : 20234\n",
      "\u001b[0m"
     ]
    },
    {
     "name": "stderr",
     "output_type": "stream",
     "text": [
      "episode: 1101/4000  27% ETA:  0:12:27 |||||||||||                            | \r"
     ]
    },
    {
     "name": "stdout",
     "output_type": "stream",
     "text": [
      "Episode 1100 with 14 steps || Reward : [-0.01  0.  ] || avg reward :  0.018 || Noise  0.434 || 0.550 seconds, mem : 20262\n",
      "\u001b[0m\u001b[41mEpisode 1101 with 33 steps || Reward : [0.   0.09] || avg reward :  0.019 || Noise  0.434 || 0.155 seconds, mem : 20295\n",
      "\u001b[0m"
     ]
    },
    {
     "name": "stderr",
     "output_type": "stream",
     "text": [
      "episode: 1105/4000  27% ETA:  0:12:27 |//////////                            | \r"
     ]
    },
    {
     "name": "stdout",
     "output_type": "stream",
     "text": [
      "\u001b[41mEpisode 1105 with 33 steps || Reward : [-0.01  0.1 ] || avg reward :  0.020 || Noise  0.434 || 0.146 seconds, mem : 20370\n",
      "\u001b[0m\u001b[41mEpisode 1106 with 33 steps || Reward : [-0.01  0.1 ] || avg reward :  0.021 || Noise  0.434 || 0.698 seconds, mem : 20403\n",
      "\u001b[0m\u001b[41mEpisode 1107 with 33 steps || Reward : [-0.01  0.1 ] || avg reward :  0.022 || Noise  0.434 || 0.132 seconds, mem : 20436\n",
      "\u001b[0m"
     ]
    },
    {
     "name": "stderr",
     "output_type": "stream",
     "text": [
      "episode: 1109/4000  27% ETA:  0:12:27 |----------                            | \r"
     ]
    },
    {
     "name": "stdout",
     "output_type": "stream",
     "text": [
      "\u001b[44mEpisode 1110 with 37 steps || Reward : [0.1  0.09] || avg reward :  0.023 || Noise  0.434 || 0.622 seconds, mem : 20501\n",
      "\u001b[0m"
     ]
    },
    {
     "name": "stderr",
     "output_type": "stream",
     "text": [
      "episode: 1121/4000  28% ETA:  0:12:26 |//////////                            | \r"
     ]
    },
    {
     "name": "stdout",
     "output_type": "stream",
     "text": [
      "\u001b[41mEpisode 1120 with 32 steps || Reward : [-0.01  0.1 ] || avg reward :  0.024 || Noise  0.434 || 0.580 seconds, mem : 20663\n",
      "\u001b[0m"
     ]
    },
    {
     "name": "stderr",
     "output_type": "stream",
     "text": [
      "episode: 1133/4000  28% ETA:  0:12:25 |||||||||||                            | \r"
     ]
    },
    {
     "name": "stdout",
     "output_type": "stream",
     "text": [
      "\u001b[41mEpisode 1135 with 32 steps || Reward : [-0.01  0.1 ] || avg reward :  0.024 || Noise  0.434 || 0.112 seconds, mem : 20895\n",
      "\u001b[0m"
     ]
    },
    {
     "name": "stderr",
     "output_type": "stream",
     "text": [
      "episode: 1141/4000  28% ETA:  0:12:25 |----------                            | \r"
     ]
    },
    {
     "name": "stdout",
     "output_type": "stream",
     "text": [
      "Episode 1140 with 14 steps || Reward : [-0.01  0.  ] || avg reward :  0.022 || Noise  0.434 || 0.666 seconds, mem : 20966\n",
      "\u001b[0m\u001b[41mEpisode 1141 with 33 steps || Reward : [0.   0.09] || avg reward :  0.022 || Noise  0.434 || 0.179 seconds, mem : 20999\n",
      "\u001b[0m"
     ]
    },
    {
     "name": "stderr",
     "output_type": "stream",
     "text": [
      "episode: 1145/4000  28% ETA:  0:12:26 |\\\\\\\\\\\\\\\\\\\\                            | \r"
     ]
    },
    {
     "name": "stdout",
     "output_type": "stream",
     "text": [
      "\u001b[41mEpisode 1145 with 33 steps || Reward : [-0.01  0.1 ] || avg reward :  0.023 || Noise  0.433 || 0.165 seconds, mem : 21074\n",
      "\u001b[0m"
     ]
    },
    {
     "name": "stderr",
     "output_type": "stream",
     "text": [
      "episode: 1149/4000  28% ETA:  0:12:26 |||||||||||                            | \r"
     ]
    },
    {
     "name": "stdout",
     "output_type": "stream",
     "text": [
      "\u001b[41mEpisode 1148 with 32 steps || Reward : [-0.01  0.1 ] || avg reward :  0.023 || Noise  0.433 || 0.724 seconds, mem : 21135\n",
      "\u001b[0m"
     ]
    },
    {
     "name": "stderr",
     "output_type": "stream",
     "text": [
      "episode: 1153/4000  28% ETA:  0:12:26 |//////////                            | \r"
     ]
    },
    {
     "name": "stdout",
     "output_type": "stream",
     "text": [
      "\u001b[41mEpisode 1154 with 33 steps || Reward : [-0.01  0.1 ] || avg reward :  0.022 || Noise  0.433 || 0.795 seconds, mem : 21239\n",
      "\u001b[0m"
     ]
    },
    {
     "name": "stderr",
     "output_type": "stream",
     "text": [
      "episode: 1157/4000  28% ETA:  0:12:27 |----------                            | \r"
     ]
    },
    {
     "name": "stdout",
     "output_type": "stream",
     "text": [
      "\u001b[41mEpisode 1159 with 35 steps || Reward : [0.   0.09] || avg reward :  0.021 || Noise  0.433 || 0.175 seconds, mem : 21331\n",
      "\u001b[0m"
     ]
    },
    {
     "name": "stderr",
     "output_type": "stream",
     "text": [
      "episode: 1161/4000  29% ETA:  0:12:27 |\\\\\\\\\\\\\\\\\\\\\\                           | \r"
     ]
    },
    {
     "name": "stdout",
     "output_type": "stream",
     "text": [
      "Episode 1160 with 14 steps || Reward : [-0.01  0.  ] || avg reward :  0.020 || Noise  0.433 || 0.633 seconds, mem : 21345\n",
      "\u001b[0m"
     ]
    },
    {
     "name": "stderr",
     "output_type": "stream",
     "text": [
      "episode: 1167/4000  29% ETA:  0:12:28 |///////////                           | \r"
     ]
    },
    {
     "name": "stdout",
     "output_type": "stream",
     "text": [
      "\u001b[41mEpisode 1166 with 33 steps || Reward : [-0.01  0.1 ] || avg reward :  0.021 || Noise  0.433 || 0.765 seconds, mem : 21487\n",
      "\u001b[0m"
     ]
    },
    {
     "name": "stderr",
     "output_type": "stream",
     "text": [
      "episode: 1175/4000  29% ETA:  0:12:28 |\\\\\\\\\\\\\\\\\\\\\\                           | \r"
     ]
    },
    {
     "name": "stdout",
     "output_type": "stream",
     "text": [
      "\u001b[41mEpisode 1174 with 32 steps || Reward : [-0.01  0.1 ] || avg reward :  0.019 || Noise  0.433 || 0.754 seconds, mem : 21619\n",
      "\u001b[0m\u001b[41mEpisode 1176 with 32 steps || Reward : [-0.01  0.1 ] || avg reward :  0.020 || Noise  0.433 || 0.703 seconds, mem : 21666\n",
      "\u001b[0m"
     ]
    },
    {
     "name": "stderr",
     "output_type": "stream",
     "text": [
      "episode: 1179/4000  29% ETA:  0:12:28 ||||||||||||                           | \r"
     ]
    },
    {
     "name": "stdout",
     "output_type": "stream",
     "text": [
      "Episode 1180 with 14 steps || Reward : [ 0.   -0.01] || avg reward :  0.019 || Noise  0.433 || 0.605 seconds, mem : 21723\n",
      "\u001b[0m"
     ]
    },
    {
     "name": "stderr",
     "output_type": "stream",
     "text": [
      "episode: 1183/4000  29% ETA:  0:12:28 |///////////                           | \r"
     ]
    },
    {
     "name": "stdout",
     "output_type": "stream",
     "text": [
      "\u001b[41mEpisode 1182 with 33 steps || Reward : [-0.01  0.1 ] || avg reward :  0.019 || Noise  0.433 || 0.738 seconds, mem : 21770\n",
      "\u001b[0m"
     ]
    },
    {
     "name": "stderr",
     "output_type": "stream",
     "text": [
      "episode: 1201/4000  30% ETA:  0:12:28 |-----------                           | \r"
     ]
    },
    {
     "name": "stdout",
     "output_type": "stream",
     "text": [
      "\u001b[41mEpisode 1200 with 31 steps || Reward : [0.   0.09] || avg reward :  0.017 || Noise  0.432 || 0.608 seconds, mem : 22043\n",
      "\u001b[0m"
     ]
    },
    {
     "name": "stderr",
     "output_type": "stream",
     "text": [
      "episode: 1216/4000  30% ETA:  0:12:30 |\\\\\\\\\\\\\\\\\\\\\\                           | \r"
     ]
    },
    {
     "name": "stdout",
     "output_type": "stream",
     "text": [
      "\u001b[41mEpisode 1215 with 33 steps || Reward : [-0.01  0.1 ] || avg reward :  0.013 || Noise  0.432 || 0.168 seconds, mem : 22275\n",
      "\u001b[0m"
     ]
    },
    {
     "name": "stderr",
     "output_type": "stream",
     "text": [
      "episode: 1219/4000  30% ETA:  0:12:33 ||||||||||||                           | \r"
     ]
    },
    {
     "name": "stdout",
     "output_type": "stream",
     "text": [
      "\u001b[41mEpisode 1218 with 33 steps || Reward : [-0.01  0.1 ] || avg reward :  0.014 || Noise  0.432 || 1.570 seconds, mem : 22336\n",
      "\u001b[0m"
     ]
    },
    {
     "name": "stderr",
     "output_type": "stream",
     "text": [
      "episode: 1221/4000  30% ETA:  0:12:34 |///////////                           | \r"
     ]
    },
    {
     "name": "stdout",
     "output_type": "stream",
     "text": [
      "Episode 1220 with 14 steps || Reward : [ 0.   -0.01] || avg reward :  0.013 || Noise  0.432 || 1.006 seconds, mem : 22364\n",
      "\u001b[0m\u001b[44mEpisode 1222 with 37 steps || Reward : [0.1  0.09] || avg reward :  0.014 || Noise  0.432 || 0.641 seconds, mem : 22415\n",
      "\u001b[0m"
     ]
    },
    {
     "name": "stderr",
     "output_type": "stream",
     "text": [
      "episode: 1229/4000  30% ETA:  0:12:32 |\\\\\\\\\\\\\\\\\\\\\\                           | \r"
     ]
    },
    {
     "name": "stdout",
     "output_type": "stream",
     "text": [
      "\u001b[41mEpisode 1229 with 32 steps || Reward : [0.   0.09] || avg reward :  0.015 || Noise  0.432 || 0.140 seconds, mem : 22532\n",
      "\u001b[0m"
     ]
    },
    {
     "name": "stderr",
     "output_type": "stream",
     "text": [
      "episode: 1237/4000  30% ETA:  0:12:31 |///////////                           | \r"
     ]
    },
    {
     "name": "stdout",
     "output_type": "stream",
     "text": [
      "\u001b[41mEpisode 1236 with 33 steps || Reward : [-0.02  0.1 ] || avg reward :  0.015 || Noise  0.431 || 0.633 seconds, mem : 22650\n",
      "\u001b[0m\u001b[41mEpisode 1238 with 33 steps || Reward : [0.   0.09] || avg reward :  0.016 || Noise  0.431 || 0.661 seconds, mem : 22697\n",
      "\u001b[0m"
     ]
    },
    {
     "name": "stderr",
     "output_type": "stream",
     "text": [
      "episode: 1241/4000  31% ETA:  0:12:31 |-----------                           | \r"
     ]
    },
    {
     "name": "stdout",
     "output_type": "stream",
     "text": [
      "Episode 1240 with 14 steps || Reward : [-0.01  0.  ] || avg reward :  0.016 || Noise  0.431 || 0.546 seconds, mem : 22725\n",
      "\u001b[0m"
     ]
    },
    {
     "name": "stderr",
     "output_type": "stream",
     "text": [
      "episode: 1249/4000  31% ETA:  0:12:29 ||||||||||||                           | \r"
     ]
    },
    {
     "name": "stdout",
     "output_type": "stream",
     "text": [
      "\u001b[41mEpisode 1250 with 19 steps || Reward : [0.   0.09] || avg reward :  0.014 || Noise  0.431 || 0.552 seconds, mem : 22872\n",
      "\u001b[0m"
     ]
    },
    {
     "name": "stderr",
     "output_type": "stream",
     "text": [
      "episode: 1261/4000  31% ETA:  0:12:27 |\\\\\\\\\\\\\\\\\\\\\\                           | \r"
     ]
    },
    {
     "name": "stdout",
     "output_type": "stream",
     "text": [
      "Episode 1260 with 14 steps || Reward : [-0.01  0.  ] || avg reward :  0.012 || Noise  0.431 || 0.568 seconds, mem : 23033\n",
      "\u001b[0m\u001b[41mEpisode 1261 with 33 steps || Reward : [-0.01  0.1 ] || avg reward :  0.013 || Noise  0.431 || 0.144 seconds, mem : 23066\n",
      "\u001b[0m"
     ]
    },
    {
     "name": "stderr",
     "output_type": "stream",
     "text": [
      "episode: 1277/4000  31% ETA:  0:12:25 |\\\\\\\\\\\\\\\\\\\\\\\\                          | \r"
     ]
    },
    {
     "name": "stdout",
     "output_type": "stream",
     "text": [
      "\u001b[41mEpisode 1276 with 32 steps || Reward : [0.   0.09] || avg reward :  0.011 || Noise  0.431 || 0.612 seconds, mem : 23297\n",
      "\u001b[0m"
     ]
    },
    {
     "name": "stderr",
     "output_type": "stream",
     "text": [
      "episode: 1281/4000  32% ETA:  0:12:24 |||||||||||||                          | \r"
     ]
    },
    {
     "name": "stdout",
     "output_type": "stream",
     "text": [
      "Episode 1280 with 14 steps || Reward : [ 0.   -0.01] || avg reward :  0.011 || Noise  0.431 || 0.553 seconds, mem : 23354\n",
      "\u001b[0m"
     ]
    },
    {
     "name": "stderr",
     "output_type": "stream",
     "text": [
      "episode: 1301/4000  32% ETA:  0:12:22 |////////////                          | \r"
     ]
    },
    {
     "name": "stdout",
     "output_type": "stream",
     "text": [
      "Episode 1300 with 14 steps || Reward : [-0.01  0.  ] || avg reward :  0.009 || Noise  0.430 || 0.553 seconds, mem : 23638\n",
      "\u001b[0m"
     ]
    },
    {
     "name": "stderr",
     "output_type": "stream",
     "text": [
      "episode: 1309/4000  32% ETA:  0:12:20 |\\\\\\\\\\\\\\\\\\\\\\\\                          | \r"
     ]
    },
    {
     "name": "stdout",
     "output_type": "stream",
     "text": [
      "\u001b[41mEpisode 1311 with 33 steps || Reward : [-0.01  0.1 ] || avg reward :  0.010 || Noise  0.430 || 0.139 seconds, mem : 23813\n",
      "\u001b[0m"
     ]
    },
    {
     "name": "stderr",
     "output_type": "stream",
     "text": [
      "episode: 1313/4000  32% ETA:  0:12:19 |||||||||||||                          | \r"
     ]
    },
    {
     "name": "stdout",
     "output_type": "stream",
     "text": [
      "\u001b[41mEpisode 1315 with 32 steps || Reward : [0.   0.09] || avg reward :  0.010 || Noise  0.430 || 0.129 seconds, mem : 23888\n",
      "\u001b[0m"
     ]
    },
    {
     "name": "stderr",
     "output_type": "stream",
     "text": [
      "episode: 1321/4000  33% ETA:  0:12:19 |------------                          | \r"
     ]
    },
    {
     "name": "stdout",
     "output_type": "stream",
     "text": [
      "Episode 1320 with 14 steps || Reward : [-0.01  0.  ] || avg reward :  0.009 || Noise  0.430 || 0.778 seconds, mem : 23965\n",
      "\u001b[0m"
     ]
    },
    {
     "name": "stderr",
     "output_type": "stream",
     "text": [
      "episode: 1325/4000  33% ETA:  0:12:19 |\\\\\\\\\\\\\\\\\\\\\\\\                          | \r"
     ]
    },
    {
     "name": "stdout",
     "output_type": "stream",
     "text": [
      "\u001b[41mEpisode 1324 with 32 steps || Reward : [-0.01  0.1 ] || avg reward :  0.009 || Noise  0.430 || 0.825 seconds, mem : 24040\n",
      "\u001b[0m\u001b[41mEpisode 1325 with 33 steps || Reward : [-0.01  0.1 ] || avg reward :  0.010 || Noise  0.430 || 0.176 seconds, mem : 24073\n",
      "\u001b[0m"
     ]
    },
    {
     "name": "stderr",
     "output_type": "stream",
     "text": [
      "episode: 1329/4000  33% ETA:  0:12:20 |////////////                          | \r"
     ]
    },
    {
     "name": "stdout",
     "output_type": "stream",
     "text": [
      "\u001b[41mEpisode 1328 with 35 steps || Reward : [ 0.1  -0.01] || avg reward :  0.011 || Noise  0.429 || 1.005 seconds, mem : 24136\n",
      "\u001b[0m"
     ]
    },
    {
     "name": "stderr",
     "output_type": "stream",
     "text": [
      "episode: 1333/4000  33% ETA:  0:12:20 |------------                          | \r"
     ]
    },
    {
     "name": "stdout",
     "output_type": "stream",
     "text": [
      "\u001b[41mEpisode 1334 with 32 steps || Reward : [0.   0.09] || avg reward :  0.011 || Noise  0.429 || 0.609 seconds, mem : 24258\n",
      "\u001b[0m"
     ]
    },
    {
     "name": "stderr",
     "output_type": "stream",
     "text": [
      "episode: 1341/4000  33% ETA:  0:12:18 |||||||||||||                          | \r"
     ]
    },
    {
     "name": "stdout",
     "output_type": "stream",
     "text": [
      "Episode 1340 with 14 steps || Reward : [-0.01  0.  ] || avg reward :  0.009 || Noise  0.429 || 0.635 seconds, mem : 24343\n",
      "\u001b[0m"
     ]
    },
    {
     "name": "stderr",
     "output_type": "stream",
     "text": [
      "episode: 1345/4000  33% ETA:  0:12:18 |////////////                          | \r"
     ]
    },
    {
     "name": "stdout",
     "output_type": "stream",
     "text": [
      "\u001b[41mEpisode 1346 with 33 steps || Reward : [-0.01  0.1 ] || avg reward :  0.010 || Noise  0.429 || 0.728 seconds, mem : 24447\n",
      "\u001b[0m"
     ]
    },
    {
     "name": "stderr",
     "output_type": "stream",
     "text": [
      "episode: 1361/4000  34% ETA:  0:12:15 |////////////                          | \r"
     ]
    },
    {
     "name": "stdout",
     "output_type": "stream",
     "text": [
      "Episode 1360 with 15 steps || Reward : [ 0.   -0.01] || avg reward :  0.009 || Noise  0.429 || 0.570 seconds, mem : 24646\n",
      "\u001b[0m\u001b[41mEpisode 1362 with 20 steps || Reward : [0.   0.09] || avg reward :  0.009 || Noise  0.429 || 0.535 seconds, mem : 24680\n",
      "\u001b[0m"
     ]
    },
    {
     "name": "stderr",
     "output_type": "stream",
     "text": [
      "episode: 1365/4000  34% ETA:  0:12:14 |------------                          | \r"
     ]
    },
    {
     "name": "stdout",
     "output_type": "stream",
     "text": [
      "\u001b[41mEpisode 1364 with 32 steps || Reward : [-0.01  0.1 ] || avg reward :  0.010 || Noise  0.429 || 0.597 seconds, mem : 24727\n",
      "\u001b[0m"
     ]
    },
    {
     "name": "stderr",
     "output_type": "stream",
     "text": [
      "episode: 1381/4000  34% ETA:  0:12:10 |-------------                         | \r"
     ]
    },
    {
     "name": "stdout",
     "output_type": "stream",
     "text": [
      "Episode 1380 with 15 steps || Reward : [-0.01  0.  ] || avg reward :  0.009 || Noise  0.428 || 0.573 seconds, mem : 24955\n",
      "\u001b[0m"
     ]
    },
    {
     "name": "stderr",
     "output_type": "stream",
     "text": [
      "episode: 1401/4000  35% ETA:  0:12:06 |\\\\\\\\\\\\\\\\\\\\\\\\\\                         | \r"
     ]
    },
    {
     "name": "stdout",
     "output_type": "stream",
     "text": [
      "Episode 1400 with 15 steps || Reward : [ 0.   -0.01] || avg reward :  0.009 || Noise  0.428 || 0.523 seconds, mem : 25239\n",
      "\u001b[0m"
     ]
    },
    {
     "name": "stderr",
     "output_type": "stream",
     "text": [
      "episode: 1421/4000  35% ETA:  0:12:06 |-------------                         | \r"
     ]
    },
    {
     "name": "stdout",
     "output_type": "stream",
     "text": [
      "Episode 1420 with 15 steps || Reward : [ 0.   -0.01] || avg reward :  0.007 || Noise  0.428 || 0.943 seconds, mem : 25523\n",
      "\u001b[0m"
     ]
    },
    {
     "name": "stderr",
     "output_type": "stream",
     "text": [
      "episode: 1441/4000  36% ETA:  0:12:02 |\\\\\\\\\\\\\\\\\\\\\\\\\\                         | \r"
     ]
    },
    {
     "name": "stdout",
     "output_type": "stream",
     "text": [
      "Episode 1440 with 15 steps || Reward : [ 0.   -0.01] || avg reward :  0.003 || Noise  0.427 || 0.533 seconds, mem : 25807\n",
      "\u001b[0m"
     ]
    },
    {
     "name": "stderr",
     "output_type": "stream",
     "text": [
      "episode: 1461/4000  36% ETA:  0:11:56 ||||||||||||||                         | \r"
     ]
    },
    {
     "name": "stdout",
     "output_type": "stream",
     "text": [
      "Episode 1460 with 15 steps || Reward : [-0.01  0.  ] || avg reward :  0.002 || Noise  0.427 || 0.511 seconds, mem : 26091\n",
      "\u001b[0m"
     ]
    },
    {
     "name": "stderr",
     "output_type": "stream",
     "text": [
      "episode: 1481/4000  37% ETA:  0:11:52 |//////////////                        | \r"
     ]
    },
    {
     "name": "stdout",
     "output_type": "stream",
     "text": [
      "Episode 1480 with 15 steps || Reward : [-0.01  0.  ] || avg reward :  0.000 || Noise  0.426 || 0.607 seconds, mem : 26375\n",
      "\u001b[0m"
     ]
    },
    {
     "name": "stderr",
     "output_type": "stream",
     "text": [
      "episode: 1499/4000  37% ETA:  0:11:50 |--------------                        | \r"
     ]
    },
    {
     "name": "stdout",
     "output_type": "stream",
     "text": [
      "Episode 1500 with 15 steps || Reward : [-0.01  0.  ] || avg reward :  0.000 || Noise  0.426 || 0.526 seconds, mem : 26659\n",
      "\u001b[0m"
     ]
    },
    {
     "name": "stderr",
     "output_type": "stream",
     "text": [
      "episode: 1519/4000  37% ETA:  0:11:46 |\\\\\\\\\\\\\\\\\\\\\\\\\\\\                        | \r"
     ]
    },
    {
     "name": "stdout",
     "output_type": "stream",
     "text": [
      "Episode 1520 with 15 steps || Reward : [-0.01  0.  ] || avg reward :  0.000 || Noise  0.425 || 0.544 seconds, mem : 26943\n",
      "\u001b[0m"
     ]
    },
    {
     "name": "stderr",
     "output_type": "stream",
     "text": [
      "episode: 1539/4000  38% ETA:  0:11:42 |||||||||||||||                        | \r"
     ]
    },
    {
     "name": "stdout",
     "output_type": "stream",
     "text": [
      "Episode 1540 with 15 steps || Reward : [ 0.   -0.01] || avg reward :  0.000 || Noise  0.425 || 0.662 seconds, mem : 27227\n",
      "\u001b[0m"
     ]
    },
    {
     "name": "stderr",
     "output_type": "stream",
     "text": [
      "episode: 1559/4000  38% ETA:  0:11:40 |//////////////                        | \r"
     ]
    },
    {
     "name": "stdout",
     "output_type": "stream",
     "text": [
      "Episode 1560 with 15 steps || Reward : [-0.01  0.  ] || avg reward :  0.000 || Noise  0.425 || 0.688 seconds, mem : 27511\n",
      "\u001b[0m"
     ]
    },
    {
     "name": "stderr",
     "output_type": "stream",
     "text": [
      "episode: 1579/4000  39% ETA:  0:11:35 |---------------                       | \r"
     ]
    },
    {
     "name": "stdout",
     "output_type": "stream",
     "text": [
      "Episode 1580 with 15 steps || Reward : [-0.01  0.  ] || avg reward :  0.000 || Noise  0.424 || 0.519 seconds, mem : 27795\n",
      "\u001b[0m"
     ]
    },
    {
     "name": "stderr",
     "output_type": "stream",
     "text": [
      "episode: 1599/4000  39% ETA:  0:11:30 |\\\\\\\\\\\\\\\\\\\\\\\\\\\\\\                       | \r"
     ]
    },
    {
     "name": "stdout",
     "output_type": "stream",
     "text": [
      "Episode 1600 with 15 steps || Reward : [-0.01  0.  ] || avg reward :  0.000 || Noise  0.424 || 0.523 seconds, mem : 28079\n",
      "\u001b[0m"
     ]
    },
    {
     "name": "stderr",
     "output_type": "stream",
     "text": [
      "episode: 1619/4000  40% ETA:  0:11:25 ||||||||||||||||                       | \r"
     ]
    },
    {
     "name": "stdout",
     "output_type": "stream",
     "text": [
      "Episode 1620 with 15 steps || Reward : [ 0.   -0.01] || avg reward :  0.000 || Noise  0.423 || 0.524 seconds, mem : 28363\n",
      "\u001b[0m"
     ]
    },
    {
     "name": "stderr",
     "output_type": "stream",
     "text": [
      "episode: 1639/4000  40% ETA:  0:11:19 |///////////////                       | \r"
     ]
    },
    {
     "name": "stdout",
     "output_type": "stream",
     "text": [
      "Episode 1640 with 15 steps || Reward : [ 0.   -0.01] || avg reward :  0.000 || Noise  0.423 || 0.524 seconds, mem : 28647\n",
      "\u001b[0m"
     ]
    },
    {
     "name": "stderr",
     "output_type": "stream",
     "text": [
      "episode: 1659/4000  41% ETA:  0:11:14 |---------------                       | \r"
     ]
    },
    {
     "name": "stdout",
     "output_type": "stream",
     "text": [
      "Episode 1660 with 15 steps || Reward : [ 0.   -0.01] || avg reward :  0.000 || Noise  0.422 || 0.503 seconds, mem : 28931\n",
      "\u001b[0m"
     ]
    },
    {
     "name": "stderr",
     "output_type": "stream",
     "text": [
      "episode: 1679/4000  41% ETA:  0:11:08 |\\\\\\\\\\\\\\\\\\\\\\\\\\\\\\                       | \r"
     ]
    },
    {
     "name": "stdout",
     "output_type": "stream",
     "text": [
      "Episode 1680 with 15 steps || Reward : [-0.01  0.  ] || avg reward :  0.000 || Noise  0.422 || 0.541 seconds, mem : 29215\n",
      "\u001b[0m"
     ]
    },
    {
     "name": "stderr",
     "output_type": "stream",
     "text": [
      "episode: 1699/4000  42% ETA:  0:11:03 |||||||||||||||||                      | \r"
     ]
    },
    {
     "name": "stdout",
     "output_type": "stream",
     "text": [
      "Episode 1700 with 15 steps || Reward : [ 0.   -0.01] || avg reward :  0.000 || Noise  0.422 || 0.563 seconds, mem : 29499\n",
      "\u001b[0m"
     ]
    },
    {
     "name": "stderr",
     "output_type": "stream",
     "text": [
      "episode: 1719/4000  42% ETA:  0:10:57 |////////////////                      | \r"
     ]
    },
    {
     "name": "stdout",
     "output_type": "stream",
     "text": [
      "Episode 1720 with 15 steps || Reward : [-0.01  0.  ] || avg reward :  0.000 || Noise  0.421 || 0.530 seconds, mem : 29783\n",
      "\u001b[0m"
     ]
    },
    {
     "name": "stderr",
     "output_type": "stream",
     "text": [
      "episode: 1739/4000  43% ETA:  0:10:51 |----------------                      | \r"
     ]
    },
    {
     "name": "stdout",
     "output_type": "stream",
     "text": [
      "Episode 1740 with 15 steps || Reward : [ 0.   -0.01] || avg reward :  0.000 || Noise  0.421 || 0.519 seconds, mem : 30067\n",
      "\u001b[0m"
     ]
    },
    {
     "name": "stderr",
     "output_type": "stream",
     "text": [
      "episode: 1759/4000  43% ETA:  0:10:45 |\\\\\\\\\\\\\\\\\\\\\\\\\\\\\\\\                      | \r"
     ]
    },
    {
     "name": "stdout",
     "output_type": "stream",
     "text": [
      "Episode 1760 with 15 steps || Reward : [ 0.   -0.01] || avg reward :  0.000 || Noise  0.420 || 0.508 seconds, mem : 30351\n",
      "\u001b[0m"
     ]
    },
    {
     "name": "stderr",
     "output_type": "stream",
     "text": [
      "episode: 1779/4000  44% ETA:  0:10:40 |||||||||||||||||                      | \r"
     ]
    },
    {
     "name": "stdout",
     "output_type": "stream",
     "text": [
      "Episode 1780 with 15 steps || Reward : [ 0.   -0.01] || avg reward :  0.000 || Noise  0.420 || 0.492 seconds, mem : 30635\n",
      "\u001b[0m"
     ]
    },
    {
     "name": "stderr",
     "output_type": "stream",
     "text": [
      "episode: 1799/4000  44% ETA:  0:10:34 |/////////////////                     | \r"
     ]
    },
    {
     "name": "stdout",
     "output_type": "stream",
     "text": [
      "Episode 1800 with 15 steps || Reward : [ 0.   -0.01] || avg reward :  0.000 || Noise  0.419 || 0.518 seconds, mem : 30919\n",
      "\u001b[0m"
     ]
    },
    {
     "name": "stderr",
     "output_type": "stream",
     "text": [
      "episode: 1819/4000  45% ETA:  0:10:28 |-----------------                     | \r"
     ]
    },
    {
     "name": "stdout",
     "output_type": "stream",
     "text": [
      "Episode 1820 with 15 steps || Reward : [-0.01  0.  ] || avg reward :  0.000 || Noise  0.419 || 0.498 seconds, mem : 31203\n",
      "\u001b[0m"
     ]
    },
    {
     "name": "stderr",
     "output_type": "stream",
     "text": [
      "episode: 1839/4000  45% ETA:  0:10:23 |\\\\\\\\\\\\\\\\\\\\\\\\\\\\\\\\\\                     | \r"
     ]
    },
    {
     "name": "stdout",
     "output_type": "stream",
     "text": [
      "Episode 1840 with 15 steps || Reward : [ 0.   -0.01] || avg reward :  0.000 || Noise  0.419 || 0.546 seconds, mem : 31487\n",
      "\u001b[0m"
     ]
    },
    {
     "name": "stderr",
     "output_type": "stream",
     "text": [
      "episode: 1859/4000  46% ETA:  0:10:17 ||||||||||||||||||                     | \r"
     ]
    },
    {
     "name": "stdout",
     "output_type": "stream",
     "text": [
      "Episode 1860 with 15 steps || Reward : [ 0.   -0.01] || avg reward :  0.000 || Noise  0.418 || 0.500 seconds, mem : 31771\n",
      "\u001b[0m"
     ]
    },
    {
     "name": "stderr",
     "output_type": "stream",
     "text": [
      "episode: 1879/4000  46% ETA:  0:10:12 |/////////////////                     | \r"
     ]
    },
    {
     "name": "stdout",
     "output_type": "stream",
     "text": [
      "Episode 1880 with 15 steps || Reward : [ 0.   -0.01] || avg reward :  0.000 || Noise  0.418 || 0.568 seconds, mem : 32055\n",
      "\u001b[0m"
     ]
    },
    {
     "name": "stderr",
     "output_type": "stream",
     "text": [
      "episode: 1899/4000  47% ETA:  0:10:07 |------------------                    | \r"
     ]
    },
    {
     "name": "stdout",
     "output_type": "stream",
     "text": [
      "Episode 1900 with 15 steps || Reward : [-0.01  0.  ] || avg reward :  0.000 || Noise  0.417 || 0.542 seconds, mem : 32339\n",
      "\u001b[0m"
     ]
    },
    {
     "name": "stderr",
     "output_type": "stream",
     "text": [
      "episode: 1919/4000  47% ETA:  0:10:02 |\\\\\\\\\\\\\\\\\\\\\\\\\\\\\\\\\\\\                    | \r"
     ]
    },
    {
     "name": "stdout",
     "output_type": "stream",
     "text": [
      "Episode 1920 with 15 steps || Reward : [ 0.   -0.01] || avg reward :  0.000 || Noise  0.417 || 0.594 seconds, mem : 32623\n",
      "\u001b[0m"
     ]
    },
    {
     "name": "stderr",
     "output_type": "stream",
     "text": [
      "episode: 1939/4000  48% ETA:  0:09:57 |||||||||||||||||||                    | \r"
     ]
    },
    {
     "name": "stdout",
     "output_type": "stream",
     "text": [
      "Episode 1940 with 15 steps || Reward : [ 0.   -0.01] || avg reward :  0.000 || Noise  0.417 || 0.532 seconds, mem : 32907\n",
      "\u001b[0m"
     ]
    },
    {
     "name": "stderr",
     "output_type": "stream",
     "text": [
      "episode: 1959/4000  48% ETA:  0:09:52 |//////////////////                    | \r"
     ]
    },
    {
     "name": "stdout",
     "output_type": "stream",
     "text": [
      "Episode 1960 with 15 steps || Reward : [ 0.   -0.01] || avg reward :  0.000 || Noise  0.416 || 0.571 seconds, mem : 33191\n",
      "\u001b[0m"
     ]
    },
    {
     "name": "stderr",
     "output_type": "stream",
     "text": [
      "episode: 1979/4000  49% ETA:  0:09:47 |------------------                    | \r"
     ]
    },
    {
     "name": "stdout",
     "output_type": "stream",
     "text": [
      "Episode 1980 with 15 steps || Reward : [ 0.   -0.01] || avg reward :  0.000 || Noise  0.416 || 0.555 seconds, mem : 33475\n",
      "\u001b[0m"
     ]
    },
    {
     "name": "stderr",
     "output_type": "stream",
     "text": [
      "episode: 1983/4000  49% ETA:  0:09:45 |\\\\\\\\\\\\\\\\\\\\\\\\\\\\\\\\\\\\                    | \r"
     ]
    }
   ],
   "source": [
    "from maddpg import maddpg\n",
    "import cProfile\n",
    "DoProfile = False\n",
    "\n",
    "config = {\n",
    "    'gamma'               : 0.99,\n",
    "    'tau_low'             : 0.01, # 0.005\n",
    "    'tau_high'            : 0.01,\n",
    "    'action_size'         : action_size,\n",
    "    'state_size'          : state_size,\n",
    "    'hidden_size'         : 512,\n",
    "    'buffer_size'         : 50000,\n",
    "    'batch_size_low'      : 512,\n",
    "    'batch_size_high'     : 512,\n",
    "    'alpha_low'           : 0.5,\n",
    "    'alpha_high'          : 0.7, #0.6,\n",
    "    'beta_low'            : 0.5,\n",
    "    'beta_high'           : 0.6, #0.5,\n",
    "    'dropout'             : 0.01,\n",
    "    'seed'                : 289,\n",
    "    'max_episodes'        : 4000,\n",
    "    'learn_every_low'     : 2,\n",
    "    'learn_every_high'    : 10,\n",
    "    'joined_states'       : True,\n",
    "    'critic_learning_rate': 1e-3,\n",
    "    'actor_learning_rate' : 1e-3,\n",
    "    'noise_decay_fast'    : 0.998,\n",
    "    'noise_decay_slow'    : 0.99995,\n",
    "    'noise_scale_trigger' : 0.45,\n",
    "    'sigma'               : 0.3,\n",
    "    'num_agents'          : num_agents,\n",
    "    'env_file_name'       : env_file_name,\n",
    "    'train_mode'          : True,\n",
    "    'brain_name'          : brain_name}\n",
    "\n",
    "def print_config(config):\n",
    "    print('Config Parameters    : ')\n",
    "    for c,k in config.items():\n",
    "        print('{:20s} : {}'.format(c,k))\n",
    "\n",
    "config_list = []\n",
    "result_list = []\n",
    "var_range = []\n",
    "# learn = [2, 5, 10]\n",
    "# batch = [512,1024]\n",
    "# nd = [0.999, 0.998]\n",
    "# for l in learn:\n",
    "    # for b in batch:\n",
    "        # var_range.append([l,b])\n",
    "        # for h in hidden:\n",
    "            # for n in nd:\n",
    "var_range = [0.4] #, 0.45, 0.5]\n",
    "# var_range = [0.9998, 0.9999, 0.99995] # , 0.0003, 0.0005, 0.001]# [0.2, 0.25, 0.3]\n",
    "selected_seeds = [303] # 239,286,303,305, 306] # agent specific rewards  [228,233] [230,233,239,241,276, 286,287,303,305, 306]\n",
    "# num_runs = 20\n",
    "for param in range(len(var_range)):\n",
    "    alt_config = config.copy()\n",
    "    # alt_config['tau_low'] = var_range[param]\n",
    "    # alt_config['alpha_high'] = var_range[param][0]\n",
    "    # alt_config['beta_high'] = var_range[param][1]\n",
    "    # alt_config['batch_size_high'] = var_range[param][1]\n",
    "    # alt_config['hidden_size'] = var_range[param][2]\n",
    "    # alt_config['noise_scale_trigger'] = var_range[param]\n",
    "    # alt_config['actor_learning_rate'] = var_range[param]\n",
    "    # alt_config['learn_every_low'] = var_range[param][0]\n",
    "    # alt_config['tau'] = config['tau']*curmult\n",
    "    # alt_config['critic_learning_rate'] = config['critic_learning_rate']*curmult\n",
    "    # alt_config['actor_learning_rate'] = config['actor_learning_rate']*curmult\n",
    "    num_runs = len(selected_seeds)\n",
    "    for main in range(num_runs):#len(tau_range)):\n",
    "        print('-------------------------------------')\n",
    "        print('New Run :')\n",
    "        print('-------------------------------------')\n",
    "        # alt_config['seed'] += 1\n",
    "        alt_config['seed'] = selected_seeds[main]\n",
    "        print_config(alt_config)\n",
    "        config_list.append(alt_config.copy())\n",
    "        agent = maddpg(env, alt_config)\n",
    "        if DoProfile:cProfile.run(\"results = agent.train()\",'PerfStats')\n",
    "        else:results = agent.train()\n",
    "        result_list.append(results)\n",
    "        # all_rewards,avg_rewards,critic_losses,actor_losses = agent.train()\n",
    "        print_config(alt_config)\n",
    "        plot_results(results)\n",
    "print('-------------------------------------')\n",
    "print('-------------------------------------')\n",
    "print('Summary :')\n",
    "print('-------------------------------------')\n",
    "print('-------------------------------------')\n",
    "for param in range(len(var_range)):\n",
    "    for main in range(num_runs):\n",
    "        print_config(config_list[param*num_runs+main])\n",
    "        plot_results(result_list[param*num_runs+main])\n",
    "    \n",
    "env.close()"
   ]
  },
  {
   "cell_type": "markdown",
   "metadata": {},
   "source": [
    "# 4. It's Your Turn!\n",
    "\n",
    "Now it's your turn to train your own agent to solve the environment!  When training the environment, set `train_mode=True`, so that the line for resetting the environment looks like the following:\n",
    "```python\n",
    "env_info = env.reset(train_mode=True)[brain_name]\n",
    "```"
   ]
  },
  {
   "cell_type": "code",
   "execution_count": null,
   "metadata": {},
   "outputs": [],
   "source": []
  }
 ],
 "metadata": {
  "kernelspec": {
   "display_name": "Python 3",
   "language": "python",
   "name": "python3"
  },
  "language_info": {
   "codemirror_mode": {
    "name": "ipython",
    "version": 3
   },
   "file_extension": ".py",
   "mimetype": "text/x-python",
   "name": "python",
   "nbconvert_exporter": "python",
   "pygments_lexer": "ipython3",
   "version": "3.6.10"
  }
 },
 "nbformat": 4,
 "nbformat_minor": 2
}
