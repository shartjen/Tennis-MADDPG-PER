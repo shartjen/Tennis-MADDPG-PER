{
 "cells": [
  {
   "cell_type": "markdown",
   "metadata": {},
   "source": [
    "# Collaboration and Competition\n",
    "\n",
    "---\n",
    "\n",
    "In this notebook, you will learn how to use the Unity ML-Agents environment for the third project of the [Deep Reinforcement Learning Nanodegree](https://www.udacity.com/course/deep-reinforcement-learning-nanodegree--nd893) program.\n",
    "\n",
    "### 1. Start the Environment\n",
    "\n",
    "We begin by importing the necessary packages.  If the code cell below returns an error, please revisit the project instructions to double-check that you have installed [Unity ML-Agents](https://github.com/Unity-Technologies/ml-agents/blob/master/docs/Installation.md) and [NumPy](http://www.numpy.org/)."
   ]
  },
  {
   "cell_type": "code",
   "execution_count": 1,
   "metadata": {},
   "outputs": [],
   "source": [
    "from unityagents import UnityEnvironment\n",
    "import numpy as np"
   ]
  },
  {
   "cell_type": "markdown",
   "metadata": {},
   "source": [
    "Next, we will start the environment!  **_Before running the code cell below_**, change the `file_name` parameter to match the location of the Unity environment that you downloaded.\n",
    "\n",
    "- **Mac**: `\"path/to/Tennis.app\"`\n",
    "- **Windows** (x86): `\"path/to/Tennis_Windows_x86/Tennis.exe\"`\n",
    "- **Windows** (x86_64): `\"path/to/Tennis_Windows_x86_64/Tennis.exe\"`\n",
    "- **Linux** (x86): `\"path/to/Tennis_Linux/Tennis.x86\"`\n",
    "- **Linux** (x86_64): `\"path/to/Tennis_Linux/Tennis.x86_64\"`\n",
    "- **Linux** (x86, headless): `\"path/to/Tennis_Linux_NoVis/Tennis.x86\"`\n",
    "- **Linux** (x86_64, headless): `\"path/to/Tennis_Linux_NoVis/Tennis.x86_64\"`\n",
    "\n",
    "For instance, if you are using a Mac, then you downloaded `Tennis.app`.  If this file is in the same folder as the notebook, then the line below should appear as follows:\n",
    "```\n",
    "env = UnityEnvironment(file_name=\"Tennis.app\")\n",
    "```"
   ]
  },
  {
   "cell_type": "code",
   "execution_count": 2,
   "metadata": {},
   "outputs": [
    {
     "name": "stderr",
     "output_type": "stream",
     "text": [
      "INFO:unityagents:\n",
      "'Academy' started successfully!\n",
      "Unity Academy name: Academy\n",
      "        Number of Brains: 1\n",
      "        Number of External Brains : 1\n",
      "        Lesson number : 0\n",
      "        Reset Parameters :\n",
      "\t\t\n",
      "Unity brain name: TennisBrain\n",
      "        Number of Visual Observations (per agent): 0\n",
      "        Vector Observation space type: continuous\n",
      "        Vector Observation space size (per agent): 8\n",
      "        Number of stacked Vector Observation: 3\n",
      "        Vector Action space type: continuous\n",
      "        Vector Action space size (per agent): 2\n",
      "        Vector Action descriptions: , \n"
     ]
    }
   ],
   "source": [
    "env_file_name = \"Tennis_Windows_x86_64/Tennis.exe\"\n",
    "# env = UnityEnvironment(file_name=env_file_name)\n",
    "env = UnityEnvironment(file_name=env_file_name,no_graphics=True)"
   ]
  },
  {
   "cell_type": "markdown",
   "metadata": {},
   "source": [
    "Environments contain **_brains_** which are responsible for deciding the actions of their associated agents. Here we check for the first brain available, and set it as the default brain we will be controlling from Python."
   ]
  },
  {
   "cell_type": "code",
   "execution_count": 3,
   "metadata": {},
   "outputs": [],
   "source": [
    "# get the default brain\n",
    "brain_name = env.brain_names[0]\n",
    "brain = env.brains[brain_name]"
   ]
  },
  {
   "cell_type": "markdown",
   "metadata": {},
   "source": [
    "### 2. Examine the State and Action Spaces\n",
    "\n",
    "In this environment, two agents control rackets to bounce a ball over a net. If an agent hits the ball over the net, it receives a reward of +0.1.  If an agent lets a ball hit the ground or hits the ball out of bounds, it receives a reward of -0.01.  Thus, the goal of each agent is to keep the ball in play.\n",
    "\n",
    "The observation space consists of 8 variables corresponding to the position and velocity of the ball and racket. Two continuous actions are available, corresponding to movement toward (or away from) the net, and jumping. \n",
    "\n",
    "Run the code cell below to print some information about the environment."
   ]
  },
  {
   "cell_type": "code",
   "execution_count": 4,
   "metadata": {},
   "outputs": [
    {
     "name": "stdout",
     "output_type": "stream",
     "text": [
      "Number of agents: 2\n",
      "Size of each action: 2\n",
      "There are 2 agents. Each observes a state with length: 24\n",
      "The state for the first agent looks like: [ 0.          0.          0.          0.          0.          0.\n",
      "  0.          0.          0.          0.          0.          0.\n",
      "  0.          0.          0.          0.         -6.65278625 -1.5\n",
      " -0.          0.          6.83172083  6.         -0.          0.        ]\n",
      "states shape :  (2, 24)\n",
      "Both states look like :  [[ 0.          0.          0.          0.          0.          0.\n",
      "   0.          0.          0.          0.          0.          0.\n",
      "   0.          0.          0.          0.         -6.65278625 -1.5\n",
      "  -0.          0.          6.83172083  6.         -0.          0.        ]\n",
      " [ 0.          0.          0.          0.          0.          0.\n",
      "   0.          0.          0.          0.          0.          0.\n",
      "   0.          0.          0.          0.         -6.4669857  -1.5\n",
      "   0.          0.         -6.83172083  6.          0.          0.        ]]\n",
      "[[  0.           0.           0.           0.           0.\n",
      "    0.           0.           0.           0.           0.\n",
      "    0.           0.           0.           0.           0.\n",
      "    0.         -13.30557251  -3.          -0.           0.\n",
      "   13.66344166  12.          -0.           0.        ]\n",
      " [  0.           0.           0.           0.           0.\n",
      "    0.           0.           0.           0.           0.\n",
      "    0.           0.           0.           0.           0.\n",
      "    0.         -12.93397141  -3.           0.           0.\n",
      "  -13.66344166  12.           0.           0.        ]]\n"
     ]
    }
   ],
   "source": [
    "# reset the environment\n",
    "env_info = env.reset(train_mode=True)[brain_name]\n",
    "\n",
    "# number of agents \n",
    "num_agents = len(env_info.agents)\n",
    "print('Number of agents:', num_agents)\n",
    "\n",
    "# size of each action\n",
    "action_size = brain.vector_action_space_size\n",
    "print('Size of each action:', action_size)\n",
    "\n",
    "# examine the state space \n",
    "states = env_info.vector_observations\n",
    "state_size = states.shape[1]\n",
    "print('There are {} agents. Each observes a state with length: {}'.format(states.shape[0], state_size))\n",
    "print('The state for the first agent looks like:', states[0])\n",
    "print('states shape : ',states.shape)\n",
    "print('Both states look like : ',states)\n",
    "print(2*states)"
   ]
  },
  {
   "cell_type": "markdown",
   "metadata": {},
   "source": [
    "### 3. Take Random Actions in the Environment\n",
    "\n",
    "In the next code cell, you will learn how to use the Python API to control the agents and receive feedback from the environment.\n",
    "\n",
    "Once this cell is executed, you will watch the agents' performance, if they select actions at random with each time step.  A window should pop up that allows you to observe the agents.\n",
    "\n",
    "Of course, as part of the project, you'll have to change the code so that the agents are able to use their experiences to gradually choose better actions when interacting with the environment!"
   ]
  },
  {
   "cell_type": "code",
   "execution_count": 5,
   "metadata": {
    "scrolled": false
   },
   "outputs": [],
   "source": [
    "if False:\n",
    "    total_scores = []\n",
    "    for i in range(100):                                        # play game for 5 episodes\n",
    "        env_info = env.reset(train_mode=True)[brain_name]     # reset the environment    \n",
    "        states = env_info.vector_observations                  # get the current state (for each agent)\n",
    "        scores = np.zeros(num_agents)                          # initialize the score (for each agent)\n",
    "        t = 0\n",
    "        while True:\n",
    "            actions = np.random.randn(num_agents, action_size) # select an action (for each agent)\n",
    "            actions = np.clip(actions, -1, 1)                  # all actions between -1 and 1\n",
    "            # print('actions : ',actions)\n",
    "            env_info = env.step(actions)[brain_name]           # send all actions to tne environment\n",
    "            t += 1\n",
    "            next_states = env_info.vector_observations         # get next state (for each agent)\n",
    "            rewards = env_info.rewards                         # get reward (for each agent)\n",
    "            dones = env_info.local_done                        # see if episode finished\n",
    "            scores += env_info.rewards                         # update the score (for each agent)\n",
    "            states = next_states                               # roll over states to next time step\n",
    "            if np.any(dones):                                  # exit loop if episode finished\n",
    "                break\n",
    "        print('Score (max over agents) from episode {}: {}, and {} steps taken'.format(i, np.max(scores),t))\n",
    "        print(scores)\n",
    "        total_scores.append(scores)\n",
    "    print('Average Random Score : ', np.mean(total_scores))\n",
    "        \n",
    "def plot_results(results):\n",
    "    import matplotlib.pyplot as plt\n",
    "    import torch\n",
    "    plt.ion()\n",
    "\n",
    "    fig = plt.figure()\n",
    "    ax = fig.add_subplot(111)\n",
    "    plt.plot(np.arange(len(results.all_rewards)), results.all_rewards)\n",
    "    plt.plot(np.arange(len(results.avg_rewards)), results.avg_rewards)\n",
    "    plt.ylabel('Rewards')\n",
    "    plt.xlabel('Episode #')\n",
    "    plt.show()\n",
    "\n",
    "    fig = plt.figure()\n",
    "    ax = fig.add_subplot(111)\n",
    "    plt.plot(np.arange(len(results.critic_loss)), results.critic_loss)\n",
    "    plt.ylabel('critic_losses')\n",
    "    plt.xlabel('Learn Step #')\n",
    "    plt.show()\n",
    "\n",
    "    fig = plt.figure()\n",
    "    ax = fig.add_subplot(111)\n",
    "    plt.plot(np.arange(len(results.actor_loss)), results.actor_loss)\n",
    "    plt.ylabel('actor_losses')\n",
    "    plt.xlabel('Learn Step #')\n",
    "    plt.show()\n"
   ]
  },
  {
   "cell_type": "markdown",
   "metadata": {},
   "source": [
    "When finished, you can close the environment."
   ]
  },
  {
   "cell_type": "code",
   "execution_count": 6,
   "metadata": {
    "scrolled": false
   },
   "outputs": [
    {
     "name": "stderr",
     "output_type": "stream",
     "text": [
      "episode: 0/2000   0% ETA:  --:--:-- |                                        | \r"
     ]
    },
    {
     "name": "stdout",
     "output_type": "stream",
     "text": [
      "Config Parameters    : \n",
      "gamma                : 0.99\n",
      "tau                  : 0.01\n",
      "action_size          : 2\n",
      "state_size           : 24\n",
      "hidden_size          : 256\n",
      "buffer_size          : 50000\n",
      "batch_size           : 512\n",
      "dropout              : 0.01\n",
      "seed                 : 89\n",
      "max_episodes         : 2000\n",
      "learn_every          : 10\n",
      "critic_learning_rate : 0.001\n",
      "actor_learning_rate  : 0.001\n",
      "noise_decay          : 0.9995\n",
      "num_agents           : 2\n",
      "env_file_name        : Tennis_Windows_x86_64/Tennis.exe\n",
      "train_mode           : True\n",
      "brain_name           : TennisBrain\n",
      "Running on device :  cpu\n",
      "Episode 0 || Reward : [ 0.   -0.01] || avg reward :  0.000 || Noise  1.000 || 0.073 seconds, mem : 15\n",
      "\u001b[0m"
     ]
    },
    {
     "name": "stderr",
     "output_type": "stream",
     "text": [
      "c:\\programdata\\anaconda3\\envs\\drlnd\\lib\\site-packages\\numpy\\core\\fromnumeric.py:3335: RuntimeWarning: Mean of empty slice.\n",
      "  out=out, **kwargs)\n",
      "c:\\programdata\\anaconda3\\envs\\drlnd\\lib\\site-packages\\numpy\\core\\_methods.py:161: RuntimeWarning: invalid value encountered in double_scalars\n",
      "  ret = ret.dtype.type(ret / rcount)\n",
      "episode: 13/2000   0% ETA:  0:02:40 |                                        | \r"
     ]
    },
    {
     "name": "stdout",
     "output_type": "stream",
     "text": [
      "Episode 20 || Reward : [ 0.   -0.01] || avg reward :  0.000 || Noise  0.990 || 0.064 seconds, mem : 299\n",
      "\u001b[0m"
     ]
    },
    {
     "name": "stderr",
     "output_type": "stream",
     "text": [
      "episode: 32/2000   1% ETA:  0:02:06 |                                        | \r"
     ]
    },
    {
     "name": "stdout",
     "output_type": "stream",
     "text": [
      "--------------------------------------\n",
      "Agent 0 and episode 40 \n",
      "update - q expected : mean : 0.0479 - sd : 0.0079 min-max 0.0217|0.0612\n",
      "update - reward : mean : -0.0002 - sd : 0.0014 min-max -0.0100|0.0000\n",
      "update - TD-Error : mean : -0.0048 - sd : 0.0102 min-max -0.0493|0.0040\n",
      "--------------------------------------\n",
      "Agent 1 and episode 40 \n",
      "update - q expected : mean : 0.0478 - sd : 0.0076 min-max 0.0255|0.0618\n",
      "update - reward : mean : -0.0005 - sd : 0.0022 min-max -0.0100|0.0000\n",
      "update - TD-Error : mean : -0.0054 - sd : 0.0113 min-max -0.0577|0.0051\n",
      "Episode 40 || Reward : [-0.01  0.  ] || avg reward :  0.000 || Noise  0.980 || 0.284 seconds, mem : 583\n",
      "\u001b[0m"
     ]
    },
    {
     "name": "stderr",
     "output_type": "stream",
     "text": [
      "episode: 47/2000   2% ETA:  0:02:08 |                                        | \r"
     ]
    },
    {
     "name": "stdout",
     "output_type": "stream",
     "text": [
      "--------------------------------------\n",
      "Agent 0 and episode 50 \n",
      "update - q expected : mean : 0.0105 - sd : 0.0136 min-max -0.0359|0.0372\n",
      "update - reward : mean : -0.0002 - sd : 0.0013 min-max -0.0100|0.0000\n",
      "update - TD-Error : mean : 0.0328 - sd : 0.0117 min-max -0.0135|0.0561\n",
      "--------------------------------------\n",
      "Agent 1 and episode 50 \n",
      "update - q expected : mean : 0.0101 - sd : 0.0132 min-max -0.0490|0.0342\n",
      "update - reward : mean : -0.0004 - sd : 0.0020 min-max -0.0100|0.0000\n",
      "update - TD-Error : mean : 0.0328 - sd : 0.0137 min-max -0.0333|0.0582\n"
     ]
    },
    {
     "name": "stderr",
     "output_type": "stream",
     "text": [
      "episode: 63/2000   3% ETA:  0:02:06 ||                                       | \r"
     ]
    },
    {
     "name": "stdout",
     "output_type": "stream",
     "text": [
      "--------------------------------------\n",
      "Agent 0 and episode 60 \n",
      "update - q expected : mean : 0.0351 - sd : 0.0119 min-max -0.0040|0.0504\n",
      "update - reward : mean : -0.0003 - sd : 0.0016 min-max -0.0100|0.0000\n",
      "update - TD-Error : mean : 0.0074 - sd : 0.0086 min-max -0.0342|0.0239\n",
      "--------------------------------------\n",
      "Agent 1 and episode 60 \n",
      "update - q expected : mean : 0.0343 - sd : 0.0112 min-max -0.0054|0.0482\n",
      "update - reward : mean : -0.0004 - sd : 0.0020 min-max -0.0100|0.0000\n",
      "update - TD-Error : mean : 0.0077 - sd : 0.0093 min-max -0.0402|0.0269\n",
      "Episode 60 || Reward : [-0.01  0.  ] || avg reward :  0.000 || Noise  0.970 || 0.150 seconds, mem : 867\n",
      "\u001b[0m--------------------------------------\n",
      "Agent 0 and episode 70 \n",
      "update - q expected : mean : 0.0547 - sd : 0.0137 min-max 0.0187|0.0785\n",
      "update - reward : mean : -0.0003 - sd : 0.0017 min-max -0.0100|0.0000\n",
      "update - TD-Error : mean : -0.0126 - sd : 0.0103 min-max -0.0488|0.0021\n",
      "--------------------------------------\n",
      "Agent 1 and episode 70 \n",
      "update - q expected : mean : 0.0538 - sd : 0.0136 min-max 0.0188|0.0816\n",
      "update - reward : mean : -0.0005 - sd : 0.0022 min-max -0.0100|0.0000\n",
      "update - TD-Error : mean : -0.0123 - sd : 0.0109 min-max -0.0572|0.0084\n"
     ]
    },
    {
     "name": "stderr",
     "output_type": "stream",
     "text": [
      "episode: 79/2000   3% ETA:  0:02:04 |/                                       | \r"
     ]
    },
    {
     "name": "stdout",
     "output_type": "stream",
     "text": [
      "--------------------------------------\n",
      "Agent 0 and episode 80 \n",
      "update - q expected : mean : 0.0612 - sd : 0.0132 min-max 0.0325|0.0882\n",
      "update - reward : mean : -0.0003 - sd : 0.0016 min-max -0.0100|0.0000\n",
      "update - TD-Error : mean : -0.0181 - sd : 0.0104 min-max -0.0561|-0.0010\n",
      "--------------------------------------\n",
      "Agent 1 and episode 80 \n",
      "update - q expected : mean : 0.0607 - sd : 0.0138 min-max 0.0271|0.0911\n",
      "update - reward : mean : -0.0004 - sd : 0.0020 min-max -0.0100|0.0000\n",
      "update - TD-Error : mean : -0.0182 - sd : 0.0107 min-max -0.0617|0.0011\n",
      "Episode 80 || Reward : [ 0.   -0.01] || avg reward :  0.000 || Noise  0.960 || 0.158 seconds, mem : 1151\n",
      "\u001b[0m--------------------------------------\n",
      "Agent 0 and episode 90 \n",
      "update - q expected : mean : 0.0595 - sd : 0.0115 min-max 0.0277|0.0814\n",
      "update - reward : mean : -0.0003 - sd : 0.0017 min-max -0.0100|0.0000\n",
      "update - TD-Error : mean : -0.0172 - sd : 0.0104 min-max -0.0547|0.0005\n",
      "--------------------------------------\n",
      "Agent 1 and episode 90 \n",
      "update - q expected : mean : 0.0592 - sd : 0.0123 min-max 0.0292|0.0868\n",
      "update - reward : mean : -0.0005 - sd : 0.0023 min-max -0.0100|0.0000\n",
      "update - TD-Error : mean : -0.0177 - sd : 0.0111 min-max -0.0622|0.0019\n"
     ]
    },
    {
     "name": "stderr",
     "output_type": "stream",
     "text": [
      "episode: 95/2000   4% ETA:  0:02:03 |-                                       | \r"
     ]
    },
    {
     "name": "stdout",
     "output_type": "stream",
     "text": [
      "\u001b[41mEpisode 95 || Reward : [0.1  0.09] || avg reward :  0.001 || Noise  0.953 || 0.135 seconds, mem : 1390\n",
      "\u001b[0m\u001b[41mEpisode 99 || Reward : [0.   0.09] || avg reward :  0.002 || Noise  0.951 || 0.118 seconds, mem : 1474\n",
      "\u001b[0m--------------------------------------\n",
      "Agent 0 and episode 100 \n",
      "update - q expected : mean : 0.0547 - sd : 0.0092 min-max 0.0217|0.0705\n",
      "update - reward : mean : -0.0001 - sd : 0.0012 min-max -0.0100|0.0000\n",
      "update - TD-Error : mean : -0.0107 - sd : 0.0085 min-max -0.0482|0.0045\n",
      "--------------------------------------\n",
      "Agent 1 and episode 100 \n",
      "update - q expected : mean : 0.0544 - sd : 0.0109 min-max 0.0215|0.0734\n",
      "update - reward : mean : -0.0005 - sd : 0.0022 min-max -0.0100|0.0000\n",
      "update - TD-Error : mean : -0.0113 - sd : 0.0091 min-max -0.0630|0.0117\n",
      "Episode 100 || Reward : [ 0.   -0.01] || avg reward :  0.002 || Noise  0.951 || 0.148 seconds, mem : 1488\n",
      "\u001b[0m\u001b[41mEpisode 101 || Reward : [-0.01  0.1 ] || avg reward :  0.003 || Noise  0.950 || 0.117 seconds, mem : 1520\n",
      "\u001b[0m"
     ]
    },
    {
     "name": "stderr",
     "output_type": "stream",
     "text": [
      "episode: 107/2000   5% ETA:  0:02:07 |\\\\                                     | \r"
     ]
    },
    {
     "name": "stdout",
     "output_type": "stream",
     "text": [
      "\u001b[41mEpisode 105 || Reward : [ 0.1  -0.01] || avg reward :  0.004 || Noise  0.948 || 0.081 seconds, mem : 1602\n",
      "\u001b[0m\u001b[41mEpisode 106 || Reward : [0.   0.09] || avg reward :  0.005 || Noise  0.948 || 0.066 seconds, mem : 1621\n",
      "\u001b[0m\u001b[41mEpisode 107 || Reward : [-0.01  0.1 ] || avg reward :  0.006 || Noise  0.947 || 0.081 seconds, mem : 1644\n",
      "\u001b[0m\u001b[41mEpisode 109 || Reward : [ 0.1  -0.01] || avg reward :  0.007 || Noise  0.946 || 0.092 seconds, mem : 1685\n",
      "\u001b[0m--------------------------------------\n",
      "Agent 0 and episode 110 \n",
      "update - q expected : mean : 0.0493 - sd : 0.0088 min-max 0.0221|0.0618\n",
      "update - reward : mean : -0.0003 - sd : 0.0017 min-max -0.0100|0.0000\n",
      "update - TD-Error : mean : -0.0070 - sd : 0.0103 min-max -0.0622|0.0088\n",
      "--------------------------------------\n",
      "Agent 1 and episode 110 \n",
      "update - q expected : mean : 0.0490 - sd : 0.0105 min-max 0.0139|0.0639\n",
      "\u001b[42mupdate - reward : mean : 0.0002 - sd : 0.0092 min-max -0.0100|0.1000\n",
      "\u001b[0mupdate - TD-Error : mean : -0.0064 - sd : 0.0137 min-max -0.0589|0.0986\n",
      "\u001b[41mEpisode 110 || Reward : [-0.01  0.1 ] || avg reward :  0.008 || Noise  0.946 || 0.198 seconds, mem : 1707\n",
      "\u001b[0m\u001b[41mEpisode 114 || Reward : [-0.01  0.1 ] || avg reward :  0.009 || Noise  0.944 || 0.083 seconds, mem : 1775\n",
      "\u001b[0m\u001b[41mEpisode 115 || Reward : [ 0.1  -0.01] || avg reward :  0.010 || Noise  0.944 || 0.076 seconds, mem : 1798\n",
      "\u001b[0m\u001b[41mEpisode 116 || Reward : [ 0.1  -0.01] || avg reward :  0.011 || Noise  0.943 || 0.073 seconds, mem : 1822\n",
      "\u001b[0m"
     ]
    },
    {
     "name": "stderr",
     "output_type": "stream",
     "text": [
      "episode: 120/2000   6% ETA:  0:02:08 |||                                     | \r"
     ]
    },
    {
     "name": "stdout",
     "output_type": "stream",
     "text": [
      "\u001b[41mEpisode 119 || Reward : [-0.01  0.1 ] || avg reward :  0.012 || Noise  0.942 || 0.078 seconds, mem : 1878\n",
      "\u001b[0m--------------------------------------\n",
      "Agent 0 and episode 120 \n",
      "update - q expected : mean : 0.0444 - sd : 0.0094 min-max 0.0039|0.0549\n",
      "\u001b[42mupdate - reward : mean : 0.0002 - sd : 0.0064 min-max -0.0100|0.1000\n",
      "\u001b[0mupdate - TD-Error : mean : 0.0001 - sd : 0.0108 min-max -0.0489|0.1087\n",
      "--------------------------------------\n",
      "Agent 1 and episode 120 \n",
      "update - q expected : mean : 0.0441 - sd : 0.0111 min-max 0.0048|0.0557\n",
      "\u001b[42mupdate - reward : mean : 0.0000 - sd : 0.0065 min-max -0.0100|0.1000\n",
      "\u001b[0mupdate - TD-Error : mean : -0.0001 - sd : 0.0109 min-max -0.0454|0.1019\n",
      "Episode 120 || Reward : [-0.01  0.  ] || avg reward :  0.012 || Noise  0.941 || 0.158 seconds, mem : 1893\n",
      "\u001b[0m\u001b[41mEpisode 125 || Reward : [ 0.1  -0.01] || avg reward :  0.013 || Noise  0.939 || 0.089 seconds, mem : 1980\n",
      "\u001b[0m\u001b[41mEpisode 128 || Reward : [ 0.1  -0.01] || avg reward :  0.014 || Noise  0.938 || 0.086 seconds, mem : 2033\n",
      "\u001b[0m--------------------------------------\n",
      "Agent 0 and episode 130 \n",
      "update - q expected : mean : 0.0405 - sd : 0.0104 min-max 0.0033|0.0523\n",
      "\u001b[42mupdate - reward : mean : 0.0001 - sd : 0.0065 min-max -0.0100|0.1000\n",
      "\u001b[0mupdate - TD-Error : mean : 0.0032 - sd : 0.0112 min-max -0.0548|0.1048\n",
      "--------------------------------------\n",
      "Agent 1 and episode 130 \n",
      "update - q expected : mean : 0.0399 - sd : 0.0128 min-max -0.0093|0.0520\n",
      "\u001b[42mupdate - reward : mean : -0.0003 - sd : 0.0049 min-max -0.0100|0.1000\n",
      "\u001b[0mupdate - TD-Error : mean : 0.0030 - sd : 0.0101 min-max -0.0508|0.1014\n"
     ]
    },
    {
     "name": "stderr",
     "output_type": "stream",
     "text": [
      "episode: 134/2000   6% ETA:  0:02:08 |//                                     | \r"
     ]
    },
    {
     "name": "stdout",
     "output_type": "stream",
     "text": [
      "--------------------------------------\n",
      "Agent 0 and episode 140 \n",
      "update - q expected : mean : 0.0376 - sd : 0.0118 min-max -0.0123|0.0506\n",
      "\u001b[42mupdate - reward : mean : 0.0002 - sd : 0.0064 min-max -0.0100|0.1000\n",
      "\u001b[0mupdate - TD-Error : mean : 0.0074 - sd : 0.0104 min-max -0.0482|0.1180\n",
      "--------------------------------------\n",
      "Agent 1 and episode 140 \n",
      "update - q expected : mean : 0.0377 - sd : 0.0129 min-max -0.0128|0.0508\n",
      "\u001b[42mupdate - reward : mean : 0.0003 - sd : 0.0076 min-max -0.0100|0.1000\n",
      "\u001b[0mupdate - TD-Error : mean : 0.0073 - sd : 0.0114 min-max -0.0411|0.1104\n",
      "Episode 140 || Reward : [-0.01  0.  ] || avg reward :  0.014 || Noise  0.932 || 0.160 seconds, mem : 2204\n",
      "\u001b[0m"
     ]
    },
    {
     "name": "stderr",
     "output_type": "stream",
     "text": [
      "episode: 151/2000   7% ETA:  0:02:06 |--                                     | \r"
     ]
    },
    {
     "name": "stdout",
     "output_type": "stream",
     "text": [
      "--------------------------------------\n",
      "Agent 0 and episode 150 \n",
      "update - q expected : mean : 0.0365 - sd : 0.0123 min-max -0.0125|0.0499\n",
      "\u001b[42mupdate - reward : mean : 0.0003 - sd : 0.0079 min-max -0.0100|0.1000\n",
      "\u001b[0mupdate - TD-Error : mean : 0.0075 - sd : 0.0119 min-max -0.0479|0.1051\n",
      "--------------------------------------\n",
      "Agent 1 and episode 150 \n",
      "update - q expected : mean : 0.0366 - sd : 0.0130 min-max -0.0195|0.0502\n",
      "update - reward : mean : -0.0004 - sd : 0.0018 min-max -0.0100|0.0000\n",
      "update - TD-Error : mean : 0.0065 - sd : 0.0100 min-max -0.0396|0.0482\n",
      "--------------------------------------\n",
      "Agent 0 and episode 160 \n",
      "update - q expected : mean : 0.0368 - sd : 0.0122 min-max -0.0149|0.0509\n",
      "update - reward : mean : -0.0003 - sd : 0.0016 min-max -0.0100|0.0000\n",
      "update - TD-Error : mean : 0.0072 - sd : 0.0093 min-max -0.0374|0.0451\n",
      "--------------------------------------\n",
      "Agent 1 and episode 160 \n",
      "update - q expected : mean : 0.0370 - sd : 0.0129 min-max -0.0196|0.0493\n",
      "\u001b[42mupdate - reward : mean : 0.0003 - sd : 0.0079 min-max -0.0100|0.1000\n",
      "\u001b[0mupdate - TD-Error : mean : 0.0073 - sd : 0.0116 min-max -0.0406|0.1042\n",
      "Episode 160 || Reward : [ 0.   -0.01] || avg reward :  0.014 || Noise  0.923 || 0.153 seconds, mem : 2488\n",
      "\u001b[0m"
     ]
    },
    {
     "name": "stderr",
     "output_type": "stream",
     "text": [
      "episode: 168/2000   8% ETA:  0:02:03 |\\\\\\                                    | \r"
     ]
    },
    {
     "name": "stdout",
     "output_type": "stream",
     "text": [
      "--------------------------------------\n",
      "Agent 0 and episode 170 \n",
      "update - q expected : mean : 0.0379 - sd : 0.0117 min-max -0.0071|0.0507\n",
      "\u001b[42mupdate - reward : mean : -0.0001 - sd : 0.0047 min-max -0.0100|0.1000\n",
      "\u001b[0mupdate - TD-Error : mean : 0.0057 - sd : 0.0101 min-max -0.0378|0.1158\n",
      "--------------------------------------\n",
      "Agent 1 and episode 170 \n",
      "update - q expected : mean : 0.0382 - sd : 0.0115 min-max -0.0065|0.0500\n",
      "\u001b[42mupdate - reward : mean : -0.0002 - sd : 0.0048 min-max -0.0100|0.1000\n",
      "\u001b[0mupdate - TD-Error : mean : 0.0050 - sd : 0.0099 min-max -0.0430|0.1002\n",
      "--------------------------------------\n",
      "Agent 0 and episode 180 \n",
      "update - q expected : mean : 0.0396 - sd : 0.0104 min-max -0.0006|0.0513\n",
      "\u001b[42mupdate - reward : mean : 0.0002 - sd : 0.0064 min-max -0.0100|0.1000\n",
      "\u001b[0mupdate - TD-Error : mean : 0.0053 - sd : 0.0097 min-max -0.0351|0.1033\n",
      "--------------------------------------\n",
      "Agent 1 and episode 180 \n",
      "update - q expected : mean : 0.0401 - sd : 0.0099 min-max -0.0040|0.0501\n",
      "\u001b[42mupdate - reward : mean : 0.0001 - sd : 0.0065 min-max -0.0100|0.1000\n",
      "\u001b[0mupdate - TD-Error : mean : 0.0046 - sd : 0.0100 min-max -0.0407|0.1082\n",
      "Episode 180 || Reward : [-0.01  0.  ] || avg reward :  0.014 || Noise  0.913 || 0.146 seconds, mem : 2772\n",
      "\u001b[0m"
     ]
    },
    {
     "name": "stderr",
     "output_type": "stream",
     "text": [
      "episode: 184/2000   9% ETA:  0:02:01 ||||                                    | \r"
     ]
    },
    {
     "name": "stdout",
     "output_type": "stream",
     "text": [
      "--------------------------------------\n",
      "Agent 0 and episode 190 \n",
      "update - q expected : mean : 0.0413 - sd : 0.0090 min-max 0.0076|0.0521\n",
      "\u001b[42mupdate - reward : mean : -0.0001 - sd : 0.0048 min-max -0.0100|0.1000\n",
      "\u001b[0mupdate - TD-Error : mean : 0.0015 - sd : 0.0109 min-max -0.0381|0.1099\n",
      "--------------------------------------\n",
      "Agent 1 and episode 190 \n",
      "update - q expected : mean : 0.0417 - sd : 0.0086 min-max 0.0078|0.0511\n",
      "\u001b[42mupdate - reward : mean : -0.0000 - sd : 0.0066 min-max -0.0100|0.1000\n",
      "\u001b[0mupdate - TD-Error : mean : 0.0013 - sd : 0.0122 min-max -0.0445|0.1009\n"
     ]
    },
    {
     "name": "stderr",
     "output_type": "stream",
     "text": [
      "episode: 198/2000   9% ETA:  0:02:01 |///                                    | \r"
     ]
    },
    {
     "name": "stdout",
     "output_type": "stream",
     "text": [
      "--------------------------------------\n",
      "Agent 0 and episode 200 \n",
      "update - q expected : mean : 0.0431 - sd : 0.0084 min-max 0.0055|0.0526\n",
      "\u001b[42mupdate - reward : mean : 0.0001 - sd : 0.0065 min-max -0.0100|0.1000\n",
      "\u001b[0mupdate - TD-Error : mean : 0.0003 - sd : 0.0110 min-max -0.0381|0.0988\n",
      "--------------------------------------\n",
      "Agent 1 and episode 200 \n",
      "update - q expected : mean : 0.0431 - sd : 0.0081 min-max 0.0123|0.0517\n",
      "\u001b[42mupdate - reward : mean : -0.0002 - sd : 0.0049 min-max -0.0100|0.1000\n",
      "\u001b[0mupdate - TD-Error : mean : -0.0001 - sd : 0.0105 min-max -0.0430|0.0986\n",
      "Episode 200 || Reward : [-0.01  0.  ] || avg reward :  0.012 || Noise  0.904 || 0.144 seconds, mem : 3056\n",
      "\u001b[0m--------------------------------------\n",
      "Agent 0 and episode 210 \n",
      "update - q expected : mean : 0.0440 - sd : 0.0083 min-max 0.0095|0.0528\n",
      "\u001b[42mupdate - reward : mean : 0.0000 - sd : 0.0065 min-max -0.0100|0.1000\n",
      "\u001b[0mupdate - TD-Error : mean : -0.0007 - sd : 0.0112 min-max -0.0554|0.1043\n",
      "--------------------------------------\n",
      "Agent 1 and episode 210 \n",
      "update - q expected : mean : 0.0439 - sd : 0.0076 min-max 0.0144|0.0519\n",
      "\u001b[42mupdate - reward : mean : -0.0001 - sd : 0.0048 min-max -0.0100|0.1000\n",
      "\u001b[0mupdate - TD-Error : mean : -0.0011 - sd : 0.0105 min-max -0.0427|0.0949\n"
     ]
    },
    {
     "name": "stderr",
     "output_type": "stream",
     "text": [
      "episode: 214/2000  10% ETA:  0:01:59 |----                                   | \r"
     ]
    },
    {
     "name": "stdout",
     "output_type": "stream",
     "text": [
      "--------------------------------------\n",
      "Agent 0 and episode 220 \n",
      "update - q expected : mean : 0.0450 - sd : 0.0080 min-max 0.0123|0.0534\n",
      "\u001b[42mupdate - reward : mean : -0.0000 - sd : 0.0047 min-max -0.0100|0.1000\n",
      "\u001b[0mupdate - TD-Error : mean : -0.0025 - sd : 0.0104 min-max -0.0373|0.1027\n",
      "--------------------------------------\n",
      "Agent 1 and episode 220 \n",
      "update - q expected : mean : 0.0445 - sd : 0.0079 min-max 0.0148|0.0521\n",
      "\u001b[42mupdate - reward : mean : -0.0004 - sd : 0.0050 min-max -0.0100|0.1000\n",
      "\u001b[0mupdate - TD-Error : mean : -0.0025 - sd : 0.0111 min-max -0.0462|0.0957\n",
      "Episode 220 || Reward : [ 0.   -0.01] || avg reward :  0.002 || Noise  0.895 || 0.165 seconds, mem : 3340\n",
      "\u001b[0m"
     ]
    },
    {
     "name": "stderr",
     "output_type": "stream",
     "text": [
      "episode: 231/2000  11% ETA:  0:01:58 |\\\\\\\\                                   | \r"
     ]
    },
    {
     "name": "stdout",
     "output_type": "stream",
     "text": [
      "--------------------------------------\n",
      "Agent 0 and episode 230 \n",
      "update - q expected : mean : 0.0453 - sd : 0.0085 min-max 0.0125|0.0536\n",
      "\u001b[42mupdate - reward : mean : 0.0001 - sd : 0.0065 min-max -0.0100|0.1000\n",
      "\u001b[0mupdate - TD-Error : mean : -0.0019 - sd : 0.0101 min-max -0.0358|0.0948\n",
      "--------------------------------------\n",
      "Agent 1 and episode 230 \n",
      "update - q expected : mean : 0.0448 - sd : 0.0082 min-max 0.0150|0.0532\n",
      "\u001b[42mupdate - reward : mean : 0.0001 - sd : 0.0065 min-max -0.0100|0.1000\n",
      "\u001b[0mupdate - TD-Error : mean : -0.0014 - sd : 0.0100 min-max -0.0397|0.0957\n",
      "--------------------------------------\n",
      "Agent 0 and episode 240 \n",
      "update - q expected : mean : 0.0454 - sd : 0.0090 min-max 0.0144|0.0546\n",
      "\u001b[42mupdate - reward : mean : -0.0000 - sd : 0.0047 min-max -0.0100|0.1000\n",
      "\u001b[0mupdate - TD-Error : mean : -0.0017 - sd : 0.0090 min-max -0.0347|0.0945\n",
      "--------------------------------------\n",
      "Agent 1 and episode 240 \n",
      "update - q expected : mean : 0.0445 - sd : 0.0092 min-max 0.0164|0.0532\n",
      "\u001b[42mupdate - reward : mean : -0.0001 - sd : 0.0048 min-max -0.0100|0.1000\n",
      "\u001b[0mupdate - TD-Error : mean : -0.0009 - sd : 0.0093 min-max -0.0388|0.1008\n",
      "Episode 240 || Reward : [-0.01  0.  ] || avg reward :  0.000 || Noise  0.886 || 0.147 seconds, mem : 3624\n",
      "\u001b[0m"
     ]
    },
    {
     "name": "stderr",
     "output_type": "stream",
     "text": [
      "episode: 248/2000  12% ETA:  0:01:56 |||||                                   | \r"
     ]
    },
    {
     "name": "stdout",
     "output_type": "stream",
     "text": [
      "--------------------------------------\n",
      "Agent 0 and episode 250 \n",
      "update - q expected : mean : 0.0450 - sd : 0.0098 min-max 0.0122|0.0550\n",
      "update - reward : mean : -0.0003 - sd : 0.0016 min-max -0.0100|0.0000\n",
      "update - TD-Error : mean : -0.0020 - sd : 0.0086 min-max -0.0362|0.0206\n",
      "--------------------------------------\n",
      "Agent 1 and episode 250 \n",
      "update - q expected : mean : 0.0440 - sd : 0.0100 min-max 0.0140|0.0533\n",
      "update - reward : mean : -0.0004 - sd : 0.0019 min-max -0.0100|0.0000\n",
      "update - TD-Error : mean : -0.0014 - sd : 0.0086 min-max -0.0439|0.0210\n"
     ]
    },
    {
     "name": "stderr",
     "output_type": "stream",
     "text": [
      "episode: 262/2000  13% ETA:  0:01:56 |/////                                  | \r"
     ]
    },
    {
     "name": "stdout",
     "output_type": "stream",
     "text": [
      "--------------------------------------\n",
      "Agent 0 and episode 260 \n",
      "update - q expected : mean : 0.0444 - sd : 0.0106 min-max 0.0090|0.0556\n",
      "\u001b[42mupdate - reward : mean : 0.0001 - sd : 0.0065 min-max -0.0100|0.1000\n",
      "\u001b[0mupdate - TD-Error : mean : -0.0014 - sd : 0.0101 min-max -0.0420|0.0941\n",
      "--------------------------------------\n",
      "Agent 1 and episode 260 \n",
      "update - q expected : mean : 0.0435 - sd : 0.0112 min-max 0.0107|0.0538\n",
      "update - reward : mean : -0.0004 - sd : 0.0020 min-max -0.0100|0.0000\n",
      "update - TD-Error : mean : -0.0010 - sd : 0.0083 min-max -0.0294|0.0228\n",
      "Episode 260 || Reward : [-0.01  0.  ] || avg reward :  0.000 || Noise  0.878 || 0.149 seconds, mem : 3908\n",
      "\u001b[0m--------------------------------------\n",
      "Agent 0 and episode 270 \n",
      "update - q expected : mean : 0.0439 - sd : 0.0121 min-max 0.0084|0.0556\n",
      "update - reward : mean : -0.0003 - sd : 0.0016 min-max -0.0100|0.0000\n",
      "update - TD-Error : mean : -0.0016 - sd : 0.0082 min-max -0.0553|0.0237\n",
      "--------------------------------------\n",
      "Agent 1 and episode 270 \n",
      "update - q expected : mean : 0.0429 - sd : 0.0127 min-max 0.0025|0.0540\n",
      "\u001b[42mupdate - reward : mean : -0.0002 - sd : 0.0049 min-max -0.0100|0.1000\n",
      "\u001b[0mupdate - TD-Error : mean : -0.0007 - sd : 0.0096 min-max -0.0458|0.0975\n"
     ]
    },
    {
     "name": "stderr",
     "output_type": "stream",
     "text": [
      "episode: 280/2000  14% ETA:  0:01:54 |-----                                  | \r"
     ]
    },
    {
     "name": "stdout",
     "output_type": "stream",
     "text": [
      "--------------------------------------\n",
      "Agent 0 and episode 280 \n",
      "update - q expected : mean : 0.0435 - sd : 0.0125 min-max 0.0071|0.0555\n",
      "\u001b[42mupdate - reward : mean : -0.0001 - sd : 0.0047 min-max -0.0100|0.1000\n",
      "\u001b[0mupdate - TD-Error : mean : -0.0013 - sd : 0.0089 min-max -0.0261|0.0946\n",
      "--------------------------------------\n",
      "Agent 1 and episode 280 \n",
      "update - q expected : mean : 0.0426 - sd : 0.0132 min-max 0.0011|0.0546\n",
      "\u001b[42mupdate - reward : mean : -0.0001 - sd : 0.0066 min-max -0.0100|0.1000\n",
      "\u001b[0mupdate - TD-Error : mean : -0.0005 - sd : 0.0102 min-max -0.0328|0.1025\n",
      "Episode 280 || Reward : [ 0.   -0.01] || avg reward :  0.000 || Noise  0.869 || 0.163 seconds, mem : 4192\n",
      "\u001b[0m--------------------------------------\n",
      "Agent 0 and episode 290 \n",
      "update - q expected : mean : 0.0428 - sd : 0.0134 min-max -0.0033|0.0552\n",
      "update - reward : mean : -0.0004 - sd : 0.0019 min-max -0.0100|0.0000\n",
      "update - TD-Error : mean : -0.0007 - sd : 0.0084 min-max -0.0538|0.0235\n",
      "--------------------------------------\n",
      "Agent 1 and episode 290 \n",
      "update - q expected : mean : 0.0422 - sd : 0.0143 min-max -0.0059|0.0540\n",
      "\u001b[42mupdate - reward : mean : 0.0004 - sd : 0.0088 min-max -0.0100|0.1000\n",
      "\u001b[0mupdate - TD-Error : mean : 0.0006 - sd : 0.0115 min-max -0.0438|0.1058\n"
     ]
    },
    {
     "name": "stderr",
     "output_type": "stream",
     "text": [
      "episode: 296/2000  14% ETA:  0:01:52 |\\\\\\\\\\                                  | \r"
     ]
    },
    {
     "name": "stdout",
     "output_type": "stream",
     "text": [
      "--------------------------------------\n",
      "Agent 0 and episode 300 \n",
      "update - q expected : mean : 0.0424 - sd : 0.0138 min-max -0.0002|0.0548\n",
      "\u001b[42mupdate - reward : mean : 0.0001 - sd : 0.0065 min-max -0.0100|0.1000\n",
      "\u001b[0mupdate - TD-Error : mean : 0.0000 - sd : 0.0100 min-max -0.0533|0.0960\n",
      "--------------------------------------\n",
      "Agent 1 and episode 300 \n",
      "update - q expected : mean : 0.0421 - sd : 0.0140 min-max -0.0051|0.0541\n",
      "\u001b[42mupdate - reward : mean : -0.0002 - sd : 0.0049 min-max -0.0100|0.1000\n",
      "\u001b[0mupdate - TD-Error : mean : -0.0000 - sd : 0.0091 min-max -0.0449|0.0975\n",
      "Episode 300 || Reward : [-0.01  0.  ] || avg reward :  0.000 || Noise  0.860 || 0.143 seconds, mem : 4476\n",
      "\u001b[0m"
     ]
    },
    {
     "name": "stderr",
     "output_type": "stream",
     "text": [
      "episode: 312/2000  15% ETA:  0:01:51 |||||||                                 | \r"
     ]
    },
    {
     "name": "stdout",
     "output_type": "stream",
     "text": [
      "--------------------------------------\n",
      "Agent 0 and episode 310 \n",
      "update - q expected : mean : 0.0422 - sd : 0.0143 min-max -0.0059|0.0545\n",
      "\u001b[42mupdate - reward : mean : 0.0004 - sd : 0.0078 min-max -0.0100|0.1000\n",
      "\u001b[0mupdate - TD-Error : mean : 0.0010 - sd : 0.0106 min-max -0.0515|0.0983\n",
      "--------------------------------------\n",
      "Agent 1 and episode 310 \n",
      "update - q expected : mean : 0.0425 - sd : 0.0145 min-max -0.0076|0.0545\n",
      "\u001b[42mupdate - reward : mean : -0.0002 - sd : 0.0048 min-max -0.0100|0.1000\n",
      "\u001b[0mupdate - TD-Error : mean : 0.0004 - sd : 0.0088 min-max -0.0433|0.1021\n",
      "--------------------------------------\n",
      "Agent 0 and episode 320 \n",
      "update - q expected : mean : 0.0421 - sd : 0.0143 min-max -0.0094|0.0543\n",
      "update - reward : mean : -0.0004 - sd : 0.0021 min-max -0.0100|0.0000\n",
      "update - TD-Error : mean : -0.0010 - sd : 0.0082 min-max -0.0297|0.0218\n",
      "--------------------------------------\n",
      "Agent 1 and episode 320 \n",
      "update - q expected : mean : 0.0424 - sd : 0.0140 min-max -0.0123|0.0548\n",
      "update - reward : mean : -0.0004 - sd : 0.0019 min-max -0.0100|0.0000\n",
      "update - TD-Error : mean : -0.0015 - sd : 0.0078 min-max -0.0265|0.0224\n",
      "Episode 320 || Reward : [ 0.   -0.01] || avg reward :  0.000 || Noise  0.852 || 0.189 seconds, mem : 4760\n",
      "\u001b[0m"
     ]
    },
    {
     "name": "stderr",
     "output_type": "stream",
     "text": [
      "episode: 327/2000  16% ETA:  0:01:50 |//////                                 | \r"
     ]
    },
    {
     "name": "stdout",
     "output_type": "stream",
     "text": [
      "--------------------------------------\n",
      "Agent 0 and episode 330 \n",
      "update - q expected : mean : 0.0421 - sd : 0.0142 min-max -0.0087|0.0541\n",
      "update - reward : mean : -0.0003 - sd : 0.0016 min-max -0.0100|0.0000\n",
      "update - TD-Error : mean : -0.0002 - sd : 0.0078 min-max -0.0335|0.0243\n",
      "--------------------------------------\n",
      "Agent 1 and episode 330 \n",
      "update - q expected : mean : 0.0427 - sd : 0.0139 min-max -0.0062|0.0543\n",
      "\u001b[42mupdate - reward : mean : -0.0002 - sd : 0.0049 min-max -0.0100|0.1000\n",
      "\u001b[0mupdate - TD-Error : mean : -0.0006 - sd : 0.0088 min-max -0.0316|0.1000\n"
     ]
    },
    {
     "name": "stderr",
     "output_type": "stream",
     "text": [
      "episode: 341/2000  17% ETA:  0:01:51 |------                                 | \r"
     ]
    },
    {
     "name": "stdout",
     "output_type": "stream",
     "text": [
      "--------------------------------------\n",
      "Agent 0 and episode 340 \n",
      "update - q expected : mean : 0.0426 - sd : 0.0131 min-max -0.0014|0.0542\n",
      "update - reward : mean : -0.0002 - sd : 0.0014 min-max -0.0100|0.0000\n",
      "update - TD-Error : mean : 0.0002 - sd : 0.0076 min-max -0.0404|0.0237\n",
      "--------------------------------------\n",
      "Agent 1 and episode 340 \n",
      "update - q expected : mean : 0.0430 - sd : 0.0127 min-max -0.0013|0.0544\n",
      "\u001b[42mupdate - reward : mean : 0.0001 - sd : 0.0062 min-max -0.0100|0.1000\n",
      "\u001b[0mupdate - TD-Error : mean : -0.0000 - sd : 0.0087 min-max -0.0428|0.0994\n",
      "Episode 340 || Reward : [-0.01  0.  ] || avg reward :  0.000 || Noise  0.843 || 0.236 seconds, mem : 5044\n",
      "\u001b[0m--------------------------------------\n",
      "Agent 0 and episode 350 \n",
      "update - q expected : mean : 0.0429 - sd : 0.0132 min-max -0.0042|0.0537\n",
      "update - reward : mean : -0.0004 - sd : 0.0019 min-max -0.0100|0.0000\n",
      "update - TD-Error : mean : -0.0019 - sd : 0.0068 min-max -0.0340|0.0179\n",
      "--------------------------------------\n",
      "Agent 1 and episode 350 \n",
      "update - q expected : mean : 0.0435 - sd : 0.0124 min-max -0.0036|0.0543\n",
      "\u001b[42mupdate - reward : mean : -0.0002 - sd : 0.0048 min-max -0.0100|0.1000\n",
      "\u001b[0mupdate - TD-Error : mean : -0.0021 - sd : 0.0079 min-max -0.0439|0.0980\n"
     ]
    },
    {
     "name": "stderr",
     "output_type": "stream",
     "text": [
      "episode: 354/2000  17% ETA:  0:01:50 |\\\\\\\\\\\\                                 | \r"
     ]
    },
    {
     "name": "stdout",
     "output_type": "stream",
     "text": [
      "--------------------------------------\n",
      "Agent 0 and episode 360 \n",
      "update - q expected : mean : 0.0433 - sd : 0.0127 min-max -0.0084|0.0534\n",
      "\u001b[42mupdate - reward : mean : 0.0001 - sd : 0.0065 min-max -0.0100|0.1000\n",
      "\u001b[0mupdate - TD-Error : mean : -0.0012 - sd : 0.0091 min-max -0.0504|0.0980\n",
      "--------------------------------------\n",
      "Agent 1 and episode 360 \n",
      "update - q expected : mean : 0.0435 - sd : 0.0126 min-max -0.0022|0.0544\n",
      "\u001b[42mupdate - reward : mean : -0.0001 - sd : 0.0048 min-max -0.0100|0.1000\n",
      "\u001b[0mupdate - TD-Error : mean : -0.0015 - sd : 0.0076 min-max -0.0433|0.0988\n",
      "Episode 360 || Reward : [-0.01  0.  ] || avg reward :  0.000 || Noise  0.835 || 0.157 seconds, mem : 5328\n",
      "\u001b[0m"
     ]
    },
    {
     "name": "stderr",
     "output_type": "stream",
     "text": [
      "episode: 371/2000  18% ETA:  0:01:49 ||||||||                                | \r"
     ]
    },
    {
     "name": "stdout",
     "output_type": "stream",
     "text": [
      "--------------------------------------\n",
      "Agent 0 and episode 370 \n",
      "update - q expected : mean : 0.0430 - sd : 0.0120 min-max -0.0009|0.0536\n",
      "\u001b[42mupdate - reward : mean : -0.0002 - sd : 0.0049 min-max -0.0100|0.1000\n",
      "\u001b[0mupdate - TD-Error : mean : -0.0018 - sd : 0.0087 min-max -0.0516|0.0969\n",
      "--------------------------------------\n",
      "Agent 1 and episode 370 \n",
      "update - q expected : mean : 0.0430 - sd : 0.0123 min-max 0.0074|0.0540\n",
      "\u001b[42mupdate - reward : mean : 0.0001 - sd : 0.0062 min-max -0.0100|0.1000\n",
      "\u001b[0mupdate - TD-Error : mean : -0.0016 - sd : 0.0086 min-max -0.0437|0.1029\n",
      "--------------------------------------\n",
      "Agent 0 and episode 380 \n",
      "update - q expected : mean : 0.0430 - sd : 0.0120 min-max 0.0001|0.0535\n",
      "update - reward : mean : -0.0003 - sd : 0.0016 min-max -0.0100|0.0000\n",
      "update - TD-Error : mean : -0.0022 - sd : 0.0067 min-max -0.0270|0.0218\n",
      "--------------------------------------\n",
      "Agent 1 and episode 380 \n",
      "update - q expected : mean : 0.0428 - sd : 0.0123 min-max 0.0049|0.0541\n",
      "\u001b[42mupdate - reward : mean : -0.0004 - sd : 0.0050 min-max -0.0100|0.1000\n",
      "\u001b[0mupdate - TD-Error : mean : -0.0022 - sd : 0.0082 min-max -0.0332|0.0970\n",
      "Episode 380 || Reward : [ 0.   -0.01] || avg reward :  0.000 || Noise  0.827 || 0.146 seconds, mem : 5612\n",
      "\u001b[0m"
     ]
    },
    {
     "name": "stderr",
     "output_type": "stream",
     "text": [
      "episode: 389/2000  19% ETA:  0:01:47 |///////                                | \r"
     ]
    },
    {
     "name": "stdout",
     "output_type": "stream",
     "text": [
      "--------------------------------------\n",
      "Agent 0 and episode 390 \n",
      "update - q expected : mean : 0.0424 - sd : 0.0128 min-max -0.0004|0.0531\n",
      "update - reward : mean : -0.0004 - sd : 0.0019 min-max -0.0100|0.0000\n",
      "update - TD-Error : mean : -0.0012 - sd : 0.0060 min-max -0.0269|0.0259\n",
      "--------------------------------------\n",
      "Agent 1 and episode 390 \n",
      "update - q expected : mean : 0.0422 - sd : 0.0131 min-max -0.0024|0.0533\n",
      "\u001b[42mupdate - reward : mean : -0.0001 - sd : 0.0047 min-max -0.0100|0.1000\n",
      "\u001b[0mupdate - TD-Error : mean : -0.0006 - sd : 0.0074 min-max -0.0246|0.0977\n",
      "--------------------------------------\n",
      "Agent 0 and episode 400 \n",
      "update - q expected : mean : 0.0422 - sd : 0.0124 min-max -0.0053|0.0531\n",
      "\u001b[42mupdate - reward : mean : 0.0002 - sd : 0.0064 min-max -0.0100|0.1000\n",
      "\u001b[0mupdate - TD-Error : mean : 0.0002 - sd : 0.0089 min-max -0.0319|0.0963\n",
      "--------------------------------------\n",
      "Agent 1 and episode 400 \n",
      "update - q expected : mean : 0.0417 - sd : 0.0130 min-max -0.0097|0.0536\n",
      "update - reward : mean : -0.0003 - sd : 0.0017 min-max -0.0100|0.0000\n",
      "update - TD-Error : mean : 0.0001 - sd : 0.0069 min-max -0.0253|0.0296\n",
      "Episode 400 || Reward : [-0.01  0.  ] || avg reward :  0.000 || Noise  0.818 || 0.146 seconds, mem : 5896\n",
      "\u001b[0m"
     ]
    },
    {
     "name": "stderr",
     "output_type": "stream",
     "text": [
      "episode: 406/2000  20% ETA:  0:01:46 |-------                                | \r"
     ]
    },
    {
     "name": "stdout",
     "output_type": "stream",
     "text": [
      "--------------------------------------\n",
      "Agent 0 and episode 410 \n",
      "update - q expected : mean : 0.0415 - sd : 0.0126 min-max -0.0035|0.0526\n",
      "\u001b[42mupdate - reward : mean : -0.0001 - sd : 0.0048 min-max -0.0100|0.1000\n",
      "\u001b[0mupdate - TD-Error : mean : -0.0005 - sd : 0.0077 min-max -0.0249|0.0945\n",
      "--------------------------------------\n",
      "Agent 1 and episode 410 \n",
      "update - q expected : mean : 0.0414 - sd : 0.0130 min-max -0.0052|0.0530\n",
      "\u001b[42mupdate - reward : mean : -0.0002 - sd : 0.0048 min-max -0.0100|0.1000\n",
      "\u001b[0mupdate - TD-Error : mean : -0.0003 - sd : 0.0075 min-max -0.0302|0.0987\n"
     ]
    },
    {
     "name": "stderr",
     "output_type": "stream",
     "text": [
      "episode: 422/2000  21% ETA:  0:01:44 |\\\\\\\\\\\\\\\\                               | \r"
     ]
    },
    {
     "name": "stdout",
     "output_type": "stream",
     "text": [
      "--------------------------------------\n",
      "Agent 0 and episode 420 \n",
      "update - q expected : mean : 0.0412 - sd : 0.0130 min-max -0.0090|0.0528\n",
      "update - reward : mean : -0.0002 - sd : 0.0015 min-max -0.0100|0.0000\n",
      "update - TD-Error : mean : -0.0003 - sd : 0.0064 min-max -0.0383|0.0326\n",
      "--------------------------------------\n",
      "Agent 1 and episode 420 \n",
      "update - q expected : mean : 0.0412 - sd : 0.0136 min-max -0.0109|0.0529\n",
      "\u001b[42mupdate - reward : mean : -0.0001 - sd : 0.0063 min-max -0.0100|0.1000\n",
      "\u001b[0mupdate - TD-Error : mean : -0.0002 - sd : 0.0076 min-max -0.0257|0.0958\n",
      "Episode 420 || Reward : [-0.01  0.  ] || avg reward :  0.000 || Noise  0.810 || 0.139 seconds, mem : 6180\n",
      "\u001b[0m--------------------------------------\n",
      "Agent 0 and episode 430 \n",
      "update - q expected : mean : 0.0411 - sd : 0.0130 min-max -0.0052|0.0524\n",
      "\u001b[42mupdate - reward : mean : -0.0001 - sd : 0.0047 min-max -0.0100|0.1000\n",
      "\u001b[0mupdate - TD-Error : mean : 0.0007 - sd : 0.0070 min-max -0.0189|0.0938\n",
      "--------------------------------------\n",
      "Agent 1 and episode 430 \n",
      "update - q expected : mean : 0.0412 - sd : 0.0126 min-max -0.0090|0.0532\n",
      "\u001b[42mupdate - reward : mean : 0.0001 - sd : 0.0065 min-max -0.0100|0.1000\n",
      "\u001b[0mupdate - TD-Error : mean : 0.0007 - sd : 0.0080 min-max -0.0218|0.0981\n"
     ]
    },
    {
     "name": "stderr",
     "output_type": "stream",
     "text": [
      "episode: 440/2000  22% ETA:  0:01:42 |||||||||                               | \r"
     ]
    },
    {
     "name": "stdout",
     "output_type": "stream",
     "text": [
      "--------------------------------------\n",
      "Agent 0 and episode 440 \n",
      "update - q expected : mean : 0.0414 - sd : 0.0123 min-max -0.0066|0.0524\n",
      "\u001b[42mupdate - reward : mean : -0.0001 - sd : 0.0048 min-max -0.0100|0.1000\n",
      "\u001b[0mupdate - TD-Error : mean : 0.0002 - sd : 0.0067 min-max -0.0199|0.0927\n",
      "--------------------------------------\n",
      "Agent 1 and episode 440 \n",
      "update - q expected : mean : 0.0415 - sd : 0.0120 min-max 0.0015|0.0527\n",
      "update - reward : mean : -0.0003 - sd : 0.0016 min-max -0.0100|0.0000\n",
      "update - TD-Error : mean : -0.0000 - sd : 0.0052 min-max -0.0218|0.0267\n",
      "Episode 440 || Reward : [-0.01  0.  ] || avg reward :  0.000 || Noise  0.802 || 0.152 seconds, mem : 6464\n",
      "\u001b[0m--------------------------------------\n",
      "Agent 0 and episode 450 \n",
      "update - q expected : mean : 0.0413 - sd : 0.0114 min-max -0.0015|0.0521\n",
      "update - reward : mean : -0.0003 - sd : 0.0017 min-max -0.0100|0.0000\n",
      "update - TD-Error : mean : -0.0002 - sd : 0.0057 min-max -0.0325|0.0189\n",
      "--------------------------------------\n",
      "Agent 1 and episode 450 \n",
      "update - q expected : mean : 0.0414 - sd : 0.0117 min-max -0.0060|0.0527\n",
      "\u001b[42mupdate - reward : mean : 0.0001 - sd : 0.0065 min-max -0.0100|0.1000\n",
      "\u001b[0mupdate - TD-Error : mean : 0.0001 - sd : 0.0086 min-max -0.0348|0.1062\n"
     ]
    },
    {
     "name": "stderr",
     "output_type": "stream",
     "text": [
      "episode: 456/2000  22% ETA:  0:01:41 |////////                               | \r"
     ]
    },
    {
     "name": "stdout",
     "output_type": "stream",
     "text": [
      "--------------------------------------\n",
      "Agent 0 and episode 460 \n",
      "update - q expected : mean : 0.0412 - sd : 0.0114 min-max -0.0061|0.0521\n",
      "update - reward : mean : -0.0003 - sd : 0.0017 min-max -0.0100|0.0000\n",
      "update - TD-Error : mean : -0.0003 - sd : 0.0058 min-max -0.0282|0.0216\n",
      "--------------------------------------\n",
      "Agent 1 and episode 460 \n",
      "update - q expected : mean : 0.0413 - sd : 0.0113 min-max -0.0024|0.0523\n",
      "update - reward : mean : -0.0003 - sd : 0.0017 min-max -0.0100|0.0000\n",
      "update - TD-Error : mean : -0.0004 - sd : 0.0053 min-max -0.0286|0.0207\n",
      "Episode 460 || Reward : [ 0.   -0.01] || avg reward :  0.000 || Noise  0.794 || 0.151 seconds, mem : 6748\n",
      "\u001b[0m"
     ]
    },
    {
     "name": "stderr",
     "output_type": "stream",
     "text": [
      "episode: 472/2000  23% ETA:  0:01:40 |---------                              | \r"
     ]
    },
    {
     "name": "stdout",
     "output_type": "stream",
     "text": [
      "--------------------------------------\n",
      "Agent 0 and episode 470 \n",
      "update - q expected : mean : 0.0413 - sd : 0.0115 min-max -0.0031|0.0518\n",
      "\u001b[42mupdate - reward : mean : 0.0003 - sd : 0.0079 min-max -0.0100|0.1000\n",
      "\u001b[0mupdate - TD-Error : mean : -0.0001 - sd : 0.0096 min-max -0.0319|0.1029\n",
      "--------------------------------------\n",
      "Agent 1 and episode 470 \n",
      "update - q expected : mean : 0.0414 - sd : 0.0119 min-max -0.0045|0.0522\n",
      "update - reward : mean : -0.0003 - sd : 0.0018 min-max -0.0100|0.0000\n",
      "update - TD-Error : mean : -0.0007 - sd : 0.0056 min-max -0.0321|0.0201\n",
      "--------------------------------------\n",
      "Agent 0 and episode 480 \n",
      "update - q expected : mean : 0.0410 - sd : 0.0122 min-max -0.0118|0.0556\n",
      "update - reward : mean : -0.0003 - sd : 0.0017 min-max -0.0100|0.0000\n",
      "update - TD-Error : mean : -0.0004 - sd : 0.0055 min-max -0.0395|0.0254\n",
      "--------------------------------------\n",
      "Agent 1 and episode 480 \n",
      "update - q expected : mean : 0.0408 - sd : 0.0125 min-max -0.0117|0.0525\n",
      "update - reward : mean : -0.0004 - sd : 0.0018 min-max -0.0100|0.0000\n",
      "update - TD-Error : mean : -0.0002 - sd : 0.0044 min-max -0.0242|0.0192\n",
      "Episode 480 || Reward : [ 0.   -0.01] || avg reward :  0.000 || Noise  0.786 || 0.135 seconds, mem : 7032\n",
      "\u001b[0m"
     ]
    },
    {
     "name": "stderr",
     "output_type": "stream",
     "text": [
      "episode: 490/2000  24% ETA:  0:01:38 |\\\\\\\\\\\\\\\\\\                              | \r"
     ]
    },
    {
     "name": "stdout",
     "output_type": "stream",
     "text": [
      "--------------------------------------\n",
      "Agent 0 and episode 490 \n",
      "update - q expected : mean : 0.0408 - sd : 0.0115 min-max -0.0038|0.0521\n",
      "update - reward : mean : -0.0003 - sd : 0.0016 min-max -0.0100|0.0000\n",
      "update - TD-Error : mean : -0.0006 - sd : 0.0058 min-max -0.0273|0.0196\n",
      "--------------------------------------\n",
      "Agent 1 and episode 490 \n",
      "update - q expected : mean : 0.0403 - sd : 0.0122 min-max -0.0052|0.0523\n",
      "update - reward : mean : -0.0004 - sd : 0.0020 min-max -0.0100|0.0000\n",
      "update - TD-Error : mean : -0.0001 - sd : 0.0051 min-max -0.0288|0.0181\n",
      "--------------------------------------\n",
      "Agent 0 and episode 500 \n",
      "update - q expected : mean : 0.0400 - sd : 0.0127 min-max -0.0042|0.0570\n",
      "\u001b[42mupdate - reward : mean : -0.0002 - sd : 0.0048 min-max -0.0100|0.1000\n",
      "\u001b[0mupdate - TD-Error : mean : 0.0003 - sd : 0.0067 min-max -0.0227|0.0893\n",
      "--------------------------------------\n",
      "Agent 1 and episode 500 \n",
      "update - q expected : mean : 0.0394 - sd : 0.0139 min-max -0.0170|0.0520\n",
      "update - reward : mean : -0.0003 - sd : 0.0016 min-max -0.0100|0.0000\n",
      "update - TD-Error : mean : 0.0010 - sd : 0.0045 min-max -0.0186|0.0260\n",
      "Episode 500 || Reward : [-0.01  0.  ] || avg reward :  0.000 || Noise  0.778 || 0.155 seconds, mem : 7316\n",
      "\u001b[0m"
     ]
    },
    {
     "name": "stderr",
     "output_type": "stream",
     "text": [
      "episode: 506/2000  25% ETA:  0:01:37 ||||||||||                              | \r"
     ]
    },
    {
     "name": "stdout",
     "output_type": "stream",
     "text": [
      "--------------------------------------\n",
      "Agent 0 and episode 510 \n",
      "update - q expected : mean : 0.0399 - sd : 0.0120 min-max -0.0030|0.0512\n",
      "\u001b[42mupdate - reward : mean : -0.0001 - sd : 0.0047 min-max -0.0100|0.1000\n",
      "\u001b[0mupdate - TD-Error : mean : 0.0007 - sd : 0.0075 min-max -0.0416|0.1001\n",
      "--------------------------------------\n",
      "Agent 1 and episode 510 \n",
      "update - q expected : mean : 0.0390 - sd : 0.0144 min-max -0.0214|0.0521\n",
      "\u001b[42mupdate - reward : mean : -0.0002 - sd : 0.0048 min-max -0.0100|0.1000\n",
      "\u001b[0mupdate - TD-Error : mean : 0.0017 - sd : 0.0061 min-max -0.0107|0.0927\n",
      "\u001b[41mEpisode 513 || Reward : [ 0.1  -0.01] || avg reward :  0.001 || Noise  0.773 || 0.178 seconds, mem : 7538\n",
      "\u001b[0m"
     ]
    },
    {
     "name": "stderr",
     "output_type": "stream",
     "text": [
      "episode: 521/2000  26% ETA:  0:01:37 |//////////                             | \r"
     ]
    },
    {
     "name": "stdout",
     "output_type": "stream",
     "text": [
      "--------------------------------------\n",
      "Agent 0 and episode 520 \n",
      "update - q expected : mean : 0.0397 - sd : 0.0128 min-max -0.0069|0.0536\n",
      "\u001b[42mupdate - reward : mean : -0.0002 - sd : 0.0048 min-max -0.0100|0.1000\n",
      "\u001b[0mupdate - TD-Error : mean : -0.0003 - sd : 0.0076 min-max -0.0529|0.0912\n",
      "--------------------------------------\n",
      "Agent 1 and episode 520 \n",
      "update - q expected : mean : 0.0389 - sd : 0.0145 min-max -0.0156|0.0524\n",
      "update - reward : mean : -0.0005 - sd : 0.0021 min-max -0.0100|0.0000\n",
      "update - TD-Error : mean : 0.0002 - sd : 0.0046 min-max -0.0214|0.0238\n",
      "Episode 520 || Reward : [-0.01  0.  ] || avg reward :  0.001 || Noise  0.771 || 0.159 seconds, mem : 7638\n",
      "\u001b[0m--------------------------------------\n",
      "Agent 0 and episode 530 \n",
      "update - q expected : mean : 0.0391 - sd : 0.0129 min-max -0.0089|0.0526\n",
      "update - reward : mean : -0.0003 - sd : 0.0017 min-max -0.0100|0.0000\n",
      "update - TD-Error : mean : 0.0012 - sd : 0.0070 min-max -0.0463|0.0318\n",
      "--------------------------------------\n",
      "Agent 1 and episode 530 \n",
      "update - q expected : mean : 0.0394 - sd : 0.0136 min-max -0.0129|0.0522\n",
      "update - reward : mean : -0.0003 - sd : 0.0017 min-max -0.0100|0.0000\n",
      "update - TD-Error : mean : 0.0009 - sd : 0.0048 min-max -0.0157|0.0258\n",
      "\u001b[41mEpisode 531 || Reward : [0.1  0.09] || avg reward :  0.002 || Noise  0.766 || 0.172 seconds, mem : 7829\n",
      "\u001b[0m"
     ]
    },
    {
     "name": "stderr",
     "output_type": "stream",
     "text": [
      "episode: 536/2000  26% ETA:  0:01:36 |----------                             | \r"
     ]
    },
    {
     "name": "stdout",
     "output_type": "stream",
     "text": [
      "--------------------------------------\n",
      "Agent 0 and episode 540 \n",
      "update - q expected : mean : 0.0392 - sd : 0.0129 min-max -0.0123|0.0551\n",
      "\u001b[42mupdate - reward : mean : -0.0001 - sd : 0.0047 min-max -0.0100|0.1000\n",
      "\u001b[0mupdate - TD-Error : mean : 0.0013 - sd : 0.0072 min-max -0.0320|0.0881\n",
      "--------------------------------------\n",
      "Agent 1 and episode 540 \n",
      "update - q expected : mean : 0.0399 - sd : 0.0129 min-max -0.0115|0.0515\n",
      "update - reward : mean : -0.0004 - sd : 0.0019 min-max -0.0100|0.0000\n",
      "update - TD-Error : mean : 0.0002 - sd : 0.0046 min-max -0.0241|0.0426\n",
      "Episode 540 || Reward : [-0.01  0.  ] || avg reward :  0.002 || Noise  0.763 || 0.142 seconds, mem : 7957\n",
      "\u001b[0m\u001b[41mEpisode 545 || Reward : [ 0.1  -0.01] || avg reward :  0.003 || Noise  0.761 || 0.111 seconds, mem : 8045\n",
      "\u001b[0m"
     ]
    },
    {
     "name": "stderr",
     "output_type": "stream",
     "text": [
      "episode: 551/2000  27% ETA:  0:01:35 |\\\\\\\\\\\\\\\\\\\\                             | \r"
     ]
    },
    {
     "name": "stdout",
     "output_type": "stream",
     "text": [
      "--------------------------------------\n",
      "Agent 0 and episode 550 \n",
      "update - q expected : mean : 0.0394 - sd : 0.0129 min-max -0.0064|0.0539\n",
      "update - reward : mean : -0.0003 - sd : 0.0017 min-max -0.0100|0.0000\n",
      "update - TD-Error : mean : 0.0005 - sd : 0.0064 min-max -0.0566|0.0276\n",
      "--------------------------------------\n",
      "Agent 1 and episode 550 \n",
      "update - q expected : mean : 0.0403 - sd : 0.0131 min-max -0.0119|0.0530\n",
      "update - reward : mean : -0.0004 - sd : 0.0020 min-max -0.0100|0.0000\n",
      "update - TD-Error : mean : -0.0006 - sd : 0.0050 min-max -0.0402|0.0196\n",
      "\u001b[41mEpisode 550 || Reward : [ 0.1  -0.01] || avg reward :  0.004 || Noise  0.759 || 0.227 seconds, mem : 8131\n",
      "\u001b[0m--------------------------------------\n",
      "Agent 0 and episode 560 \n",
      "update - q expected : mean : 0.0394 - sd : 0.0130 min-max -0.0088|0.0516\n",
      "update - reward : mean : -0.0004 - sd : 0.0019 min-max -0.0100|0.0000\n",
      "update - TD-Error : mean : 0.0003 - sd : 0.0058 min-max -0.0383|0.0255\n",
      "--------------------------------------\n",
      "Agent 1 and episode 560 \n",
      "update - q expected : mean : 0.0408 - sd : 0.0122 min-max -0.0023|0.0524\n",
      "\u001b[42mupdate - reward : mean : 0.0001 - sd : 0.0062 min-max -0.0100|0.1000\n",
      "\u001b[0mupdate - TD-Error : mean : -0.0004 - sd : 0.0064 min-max -0.0250|0.0886\n",
      "Episode 560 || Reward : [ 0.   -0.01] || avg reward :  0.004 || Noise  0.755 || 0.147 seconds, mem : 8273\n",
      "\u001b[0m"
     ]
    },
    {
     "name": "stderr",
     "output_type": "stream",
     "text": [
      "episode: 568/2000  28% ETA:  0:01:34 ||||||||||||                            | \r"
     ]
    },
    {
     "name": "stdout",
     "output_type": "stream",
     "text": [
      "--------------------------------------\n",
      "Agent 0 and episode 570 \n",
      "update - q expected : mean : 0.0400 - sd : 0.0122 min-max -0.0085|0.0607\n",
      "\u001b[42mupdate - reward : mean : 0.0002 - sd : 0.0064 min-max -0.0100|0.1000\n",
      "\u001b[0mupdate - TD-Error : mean : 0.0006 - sd : 0.0080 min-max -0.0191|0.0922\n",
      "--------------------------------------\n",
      "Agent 1 and episode 570 \n",
      "update - q expected : mean : 0.0409 - sd : 0.0116 min-max -0.0047|0.0527\n",
      "update - reward : mean : -0.0004 - sd : 0.0019 min-max -0.0100|0.0000\n",
      "update - TD-Error : mean : -0.0007 - sd : 0.0047 min-max -0.0301|0.0163\n",
      "--------------------------------------\n",
      "Agent 0 and episode 580 \n",
      "update - q expected : mean : 0.0405 - sd : 0.0120 min-max -0.0071|0.0545\n",
      "\u001b[42mupdate - reward : mean : -0.0001 - sd : 0.0048 min-max -0.0100|0.1000\n",
      "\u001b[0mupdate - TD-Error : mean : -0.0004 - sd : 0.0070 min-max -0.0290|0.0964\n",
      "--------------------------------------\n",
      "Agent 1 and episode 580 \n",
      "update - q expected : mean : 0.0408 - sd : 0.0122 min-max -0.0147|0.0522\n",
      "update - reward : mean : -0.0003 - sd : 0.0017 min-max -0.0100|0.0000\n",
      "update - TD-Error : mean : -0.0008 - sd : 0.0040 min-max -0.0234|0.0145\n",
      "Episode 580 || Reward : [ 0.   -0.01] || avg reward :  0.004 || Noise  0.748 || 0.162 seconds, mem : 8557\n",
      "\u001b[0m"
     ]
    },
    {
     "name": "stderr",
     "output_type": "stream",
     "text": [
      "episode: 584/2000  29% ETA:  0:01:33 |///////////                            | \r"
     ]
    },
    {
     "name": "stdout",
     "output_type": "stream",
     "text": [
      "--------------------------------------\n",
      "Agent 0 and episode 590 \n",
      "update - q expected : mean : 0.0410 - sd : 0.0111 min-max -0.0009|0.0623\n",
      "\u001b[42mupdate - reward : mean : -0.0001 - sd : 0.0048 min-max -0.0100|0.1000\n",
      "\u001b[0mupdate - TD-Error : mean : -0.0016 - sd : 0.0073 min-max -0.0331|0.0845\n",
      "--------------------------------------\n",
      "Agent 1 and episode 590 \n",
      "update - q expected : mean : 0.0406 - sd : 0.0119 min-max -0.0082|0.0532\n",
      "\u001b[42mupdate - reward : mean : -0.0002 - sd : 0.0049 min-max -0.0100|0.1000\n",
      "\u001b[0mupdate - TD-Error : mean : -0.0011 - sd : 0.0063 min-max -0.0244|0.0914\n"
     ]
    },
    {
     "name": "stderr",
     "output_type": "stream",
     "text": [
      "episode: 601/2000  30% ETA:  0:01:32 |-----------                            | \r"
     ]
    },
    {
     "name": "stdout",
     "output_type": "stream",
     "text": [
      "--------------------------------------\n",
      "Agent 0 and episode 600 \n",
      "update - q expected : mean : 0.0409 - sd : 0.0110 min-max -0.0050|0.0571\n",
      "\u001b[42mupdate - reward : mean : -0.0001 - sd : 0.0047 min-max -0.0100|0.1000\n",
      "\u001b[0mupdate - TD-Error : mean : -0.0004 - sd : 0.0066 min-max -0.0247|0.0857\n",
      "--------------------------------------\n",
      "Agent 1 and episode 600 \n",
      "update - q expected : mean : 0.0402 - sd : 0.0127 min-max -0.0234|0.0524\n",
      "update - reward : mean : -0.0002 - sd : 0.0015 min-max -0.0100|0.0000\n",
      "update - TD-Error : mean : 0.0004 - sd : 0.0044 min-max -0.0181|0.0266\n",
      "Episode 600 || Reward : [-0.01  0.  ] || avg reward :  0.004 || Noise  0.740 || 0.145 seconds, mem : 8841\n",
      "\u001b[0m--------------------------------------\n",
      "Agent 0 and episode 610 \n",
      "update - q expected : mean : 0.0403 - sd : 0.0124 min-max -0.0134|0.0526\n",
      "\u001b[42mupdate - reward : mean : -0.0001 - sd : 0.0047 min-max -0.0100|0.1000\n",
      "\u001b[0mupdate - TD-Error : mean : -0.0001 - sd : 0.0071 min-max -0.0245|0.1022\n",
      "--------------------------------------\n",
      "Agent 1 and episode 610 \n",
      "update - q expected : mean : 0.0392 - sd : 0.0143 min-max -0.0264|0.0518\n",
      "update - reward : mean : -0.0003 - sd : 0.0017 min-max -0.0100|0.0000\n",
      "update - TD-Error : mean : 0.0007 - sd : 0.0045 min-max -0.0407|0.0291\n"
     ]
    },
    {
     "name": "stderr",
     "output_type": "stream",
     "text": [
      "episode: 618/2000  30% ETA:  0:01:31 |\\\\\\\\\\\\\\\\\\\\\\\\                           | \r"
     ]
    },
    {
     "name": "stdout",
     "output_type": "stream",
     "text": [
      "--------------------------------------\n",
      "Agent 0 and episode 620 \n",
      "update - q expected : mean : 0.0396 - sd : 0.0130 min-max -0.0120|0.0526\n",
      "\u001b[42mupdate - reward : mean : -0.0003 - sd : 0.0049 min-max -0.0100|0.1000\n",
      "\u001b[0mupdate - TD-Error : mean : -0.0008 - sd : 0.0071 min-max -0.0393|0.0855\n",
      "--------------------------------------\n",
      "Agent 1 and episode 620 \n",
      "update - q expected : mean : 0.0390 - sd : 0.0147 min-max -0.0248|0.0520\n",
      "\u001b[42mupdate - reward : mean : 0.0000 - sd : 0.0062 min-max -0.0100|0.1000\n",
      "\u001b[0mupdate - TD-Error : mean : 0.0002 - sd : 0.0065 min-max -0.0179|0.1016\n",
      "Episode 620 || Reward : [ 0.   -0.01] || avg reward :  0.003 || Noise  0.733 || 0.144 seconds, mem : 9125\n",
      "\u001b[0m--------------------------------------\n",
      "Agent 0 and episode 630 \n",
      "update - q expected : mean : 0.0389 - sd : 0.0138 min-max -0.0174|0.0602\n",
      "\u001b[42mupdate - reward : mean : -0.0003 - sd : 0.0049 min-max -0.0100|0.1000\n",
      "\u001b[0mupdate - TD-Error : mean : -0.0007 - sd : 0.0074 min-max -0.0326|0.0811\n",
      "--------------------------------------\n",
      "Agent 1 and episode 630 \n",
      "update - q expected : mean : 0.0394 - sd : 0.0132 min-max -0.0078|0.0516\n",
      "update - reward : mean : -0.0004 - sd : 0.0021 min-max -0.0100|0.0000\n",
      "update - TD-Error : mean : -0.0013 - sd : 0.0048 min-max -0.0412|0.0154\n"
     ]
    },
    {
     "name": "stderr",
     "output_type": "stream",
     "text": [
      "episode: 634/2000  31% ETA:  0:01:30 |||||||||||||                           | \r"
     ]
    },
    {
     "name": "stdout",
     "output_type": "stream",
     "text": [
      "--------------------------------------\n",
      "Agent 0 and episode 640 \n",
      "update - q expected : mean : 0.0385 - sd : 0.0147 min-max -0.0276|0.0571\n",
      "update - reward : mean : -0.0003 - sd : 0.0016 min-max -0.0100|0.0000\n",
      "update - TD-Error : mean : 0.0015 - sd : 0.0065 min-max -0.0227|0.0390\n",
      "--------------------------------------\n",
      "Agent 1 and episode 640 \n",
      "update - q expected : mean : 0.0392 - sd : 0.0138 min-max -0.0210|0.0514\n",
      "update - reward : mean : -0.0003 - sd : 0.0016 min-max -0.0100|0.0000\n",
      "update - TD-Error : mean : 0.0008 - sd : 0.0040 min-max -0.0193|0.0215\n",
      "Episode 640 || Reward : [-0.01  0.  ] || avg reward :  0.002 || Noise  0.726 || 0.154 seconds, mem : 9409\n",
      "\u001b[0m"
     ]
    },
    {
     "name": "stderr",
     "output_type": "stream",
     "text": [
      "episode: 651/2000  32% ETA:  0:01:28 |////////////                           | \r"
     ]
    },
    {
     "name": "stdout",
     "output_type": "stream",
     "text": [
      "--------------------------------------\n",
      "Agent 0 and episode 650 \n",
      "update - q expected : mean : 0.0384 - sd : 0.0147 min-max -0.0251|0.0514\n",
      "update - reward : mean : -0.0002 - sd : 0.0015 min-max -0.0100|0.0000\n",
      "update - TD-Error : mean : 0.0015 - sd : 0.0066 min-max -0.0145|0.0423\n",
      "--------------------------------------\n",
      "Agent 1 and episode 650 \n",
      "update - q expected : mean : 0.0393 - sd : 0.0135 min-max -0.0191|0.0523\n",
      "\u001b[42mupdate - reward : mean : -0.0001 - sd : 0.0048 min-max -0.0100|0.1000\n",
      "\u001b[0mupdate - TD-Error : mean : 0.0007 - sd : 0.0060 min-max -0.0336|0.0984\n",
      "--------------------------------------\n",
      "Agent 0 and episode 660 \n",
      "update - q expected : mean : 0.0389 - sd : 0.0135 min-max -0.0159|0.0537\n",
      "update - reward : mean : -0.0003 - sd : 0.0017 min-max -0.0100|0.0000\n",
      "update - TD-Error : mean : 0.0002 - sd : 0.0050 min-max -0.0285|0.0207\n",
      "--------------------------------------\n",
      "Agent 1 and episode 660 \n",
      "update - q expected : mean : 0.0394 - sd : 0.0133 min-max -0.0132|0.0528\n",
      "update - reward : mean : -0.0004 - sd : 0.0019 min-max -0.0100|0.0000\n",
      "update - TD-Error : mean : -0.0004 - sd : 0.0036 min-max -0.0272|0.0136\n",
      "Episode 660 || Reward : [-0.01  0.  ] || avg reward :  0.000 || Noise  0.719 || 0.161 seconds, mem : 9693\n",
      "\u001b[0m"
     ]
    },
    {
     "name": "stderr",
     "output_type": "stream",
     "text": [
      "episode: 669/2000  33% ETA:  0:01:27 |-------------                          | \r"
     ]
    },
    {
     "name": "stdout",
     "output_type": "stream",
     "text": [
      "--------------------------------------\n",
      "Agent 0 and episode 670 \n",
      "update - q expected : mean : 0.0401 - sd : 0.0114 min-max -0.0029|0.0539\n",
      "update - reward : mean : -0.0003 - sd : 0.0017 min-max -0.0100|0.0000\n",
      "update - TD-Error : mean : -0.0004 - sd : 0.0058 min-max -0.0539|0.0235\n",
      "--------------------------------------\n",
      "Agent 1 and episode 670 \n",
      "update - q expected : mean : 0.0399 - sd : 0.0113 min-max -0.0078|0.0523\n",
      "update - reward : mean : -0.0002 - sd : 0.0015 min-max -0.0100|0.0000\n",
      "update - TD-Error : mean : 0.0001 - sd : 0.0040 min-max -0.0314|0.0210\n",
      "--------------------------------------\n",
      "Agent 0 and episode 680 \n",
      "update - q expected : mean : 0.0407 - sd : 0.0109 min-max -0.0076|0.0563\n",
      "\u001b[42mupdate - reward : mean : 0.0001 - sd : 0.0065 min-max -0.0100|0.1000\n",
      "\u001b[0mupdate - TD-Error : mean : -0.0015 - sd : 0.0084 min-max -0.0362|0.1025\n",
      "--------------------------------------\n",
      "Agent 1 and episode 680 \n",
      "update - q expected : mean : 0.0394 - sd : 0.0129 min-max -0.0125|0.0518\n",
      "update - reward : mean : -0.0004 - sd : 0.0020 min-max -0.0100|0.0000\n",
      "update - TD-Error : mean : -0.0007 - sd : 0.0034 min-max -0.0261|0.0112\n",
      "Episode 680 || Reward : [-0.01  0.  ] || avg reward :  0.000 || Noise  0.711 || 0.207 seconds, mem : 9977\n",
      "\u001b[0m"
     ]
    },
    {
     "name": "stderr",
     "output_type": "stream",
     "text": [
      "episode: 684/2000  34% ETA:  0:01:26 |\\\\\\\\\\\\\\\\\\\\\\\\\\                          | \r"
     ]
    },
    {
     "name": "stdout",
     "output_type": "stream",
     "text": [
      "--------------------------------------\n",
      "Agent 0 and episode 690 \n",
      "update - q expected : mean : 0.0410 - sd : 0.0108 min-max -0.0116|0.0516\n",
      "update - reward : mean : -0.0004 - sd : 0.0019 min-max -0.0100|0.0000\n",
      "update - TD-Error : mean : -0.0022 - sd : 0.0062 min-max -0.0530|0.0137\n",
      "--------------------------------------\n",
      "Agent 1 and episode 690 \n",
      "update - q expected : mean : 0.0392 - sd : 0.0132 min-max -0.0140|0.0508\n",
      "\u001b[42mupdate - reward : mean : -0.0001 - sd : 0.0048 min-max -0.0100|0.1000\n",
      "\u001b[0mupdate - TD-Error : mean : 0.0000 - sd : 0.0056 min-max -0.0385|0.0951\n"
     ]
    },
    {
     "name": "stderr",
     "output_type": "stream",
     "text": [
      "episode: 701/2000  35% ETA:  0:01:25 ||||||||||||||                          | \r"
     ]
    },
    {
     "name": "stdout",
     "output_type": "stream",
     "text": [
      "--------------------------------------\n",
      "Agent 0 and episode 700 \n",
      "update - q expected : mean : 0.0406 - sd : 0.0106 min-max -0.0052|0.0514\n",
      "update - reward : mean : -0.0002 - sd : 0.0014 min-max -0.0100|0.0000\n",
      "update - TD-Error : mean : -0.0007 - sd : 0.0051 min-max -0.0325|0.0213\n",
      "--------------------------------------\n",
      "Agent 1 and episode 700 \n",
      "update - q expected : mean : 0.0389 - sd : 0.0138 min-max -0.0258|0.0518\n",
      "update - reward : mean : -0.0003 - sd : 0.0017 min-max -0.0100|0.0000\n",
      "update - TD-Error : mean : 0.0009 - sd : 0.0033 min-max -0.0135|0.0220\n",
      "Episode 700 || Reward : [ 0.   -0.01] || avg reward :  0.000 || Noise  0.704 || 0.163 seconds, mem : 10261\n",
      "\u001b[0m--------------------------------------\n",
      "Agent 0 and episode 710 \n",
      "update - q expected : mean : 0.0398 - sd : 0.0114 min-max -0.0107|0.0575\n",
      "\u001b[42mupdate - reward : mean : -0.0001 - sd : 0.0047 min-max -0.0100|0.1000\n",
      "\u001b[0mupdate - TD-Error : mean : -0.0005 - sd : 0.0064 min-max -0.0303|0.0873\n",
      "--------------------------------------\n",
      "Agent 1 and episode 710 \n",
      "update - q expected : mean : 0.0391 - sd : 0.0130 min-max -0.0221|0.0516\n",
      "update - reward : mean : -0.0003 - sd : 0.0018 min-max -0.0100|0.0000\n",
      "update - TD-Error : mean : -0.0000 - sd : 0.0033 min-max -0.0201|0.0187\n"
     ]
    },
    {
     "name": "stderr",
     "output_type": "stream",
     "text": [
      "episode: 719/2000  35% ETA:  0:01:24 |//////////////                         | \r"
     ]
    },
    {
     "name": "stdout",
     "output_type": "stream",
     "text": [
      "--------------------------------------\n",
      "Agent 0 and episode 720 \n",
      "update - q expected : mean : 0.0385 - sd : 0.0127 min-max -0.0155|0.0508\n",
      "update - reward : mean : -0.0005 - sd : 0.0021 min-max -0.0100|0.0000\n",
      "update - TD-Error : mean : 0.0003 - sd : 0.0050 min-max -0.0314|0.0219\n",
      "--------------------------------------\n",
      "Agent 1 and episode 720 \n",
      "update - q expected : mean : 0.0390 - sd : 0.0137 min-max -0.0226|0.0512\n",
      "\u001b[42mupdate - reward : mean : 0.0000 - sd : 0.0046 min-max -0.0100|0.1000\n",
      "\u001b[0mupdate - TD-Error : mean : 0.0005 - sd : 0.0052 min-max -0.0109|0.0962\n",
      "Episode 720 || Reward : [ 0.   -0.01] || avg reward :  0.000 || Noise  0.697 || 0.149 seconds, mem : 10545\n",
      "\u001b[0m--------------------------------------\n",
      "Agent 0 and episode 730 \n",
      "update - q expected : mean : 0.0379 - sd : 0.0141 min-max -0.0171|0.0654\n",
      "update - reward : mean : -0.0005 - sd : 0.0022 min-max -0.0100|0.0000\n",
      "update - TD-Error : mean : 0.0004 - sd : 0.0047 min-max -0.0250|0.0195\n",
      "--------------------------------------\n",
      "Agent 1 and episode 730 \n",
      "update - q expected : mean : 0.0388 - sd : 0.0145 min-max -0.0240|0.0517\n",
      "\u001b[42mupdate - reward : mean : -0.0001 - sd : 0.0047 min-max -0.0100|0.1000\n",
      "\u001b[0mupdate - TD-Error : mean : 0.0000 - sd : 0.0055 min-max -0.0213|0.0942\n"
     ]
    },
    {
     "name": "stderr",
     "output_type": "stream",
     "text": [
      "episode: 736/2000  36% ETA:  0:01:22 |--------------                         | \r"
     ]
    },
    {
     "name": "stdout",
     "output_type": "stream",
     "text": [
      "--------------------------------------\n",
      "Agent 0 and episode 740 \n",
      "update - q expected : mean : 0.0377 - sd : 0.0133 min-max -0.0079|0.0578\n",
      "\u001b[42mupdate - reward : mean : -0.0002 - sd : 0.0048 min-max -0.0100|0.1000\n",
      "\u001b[0mupdate - TD-Error : mean : 0.0009 - sd : 0.0067 min-max -0.0285|0.0866\n",
      "--------------------------------------\n",
      "Agent 1 and episode 740 \n",
      "update - q expected : mean : 0.0390 - sd : 0.0130 min-max -0.0135|0.0519\n",
      "update - reward : mean : -0.0004 - sd : 0.0019 min-max -0.0100|0.0000\n",
      "update - TD-Error : mean : -0.0006 - sd : 0.0041 min-max -0.0206|0.0322\n",
      "Episode 740 || Reward : [-0.01  0.  ] || avg reward :  0.000 || Noise  0.690 || 0.168 seconds, mem : 10829\n",
      "\u001b[0m"
     ]
    },
    {
     "name": "stderr",
     "output_type": "stream",
     "text": [
      "episode: 752/2000  37% ETA:  0:01:21 |\\\\\\\\\\\\\\\\\\\\\\\\\\\\                         | \r"
     ]
    },
    {
     "name": "stdout",
     "output_type": "stream",
     "text": [
      "--------------------------------------\n",
      "Agent 0 and episode 750 \n",
      "update - q expected : mean : 0.0374 - sd : 0.0135 min-max -0.0254|0.0662\n",
      "\u001b[42mupdate - reward : mean : -0.0000 - sd : 0.0047 min-max -0.0100|0.1000\n",
      "\u001b[0mupdate - TD-Error : mean : 0.0023 - sd : 0.0068 min-max -0.0180|0.0921\n",
      "--------------------------------------\n",
      "Agent 1 and episode 750 \n",
      "update - q expected : mean : 0.0393 - sd : 0.0132 min-max -0.0191|0.0527\n",
      "update - reward : mean : -0.0003 - sd : 0.0017 min-max -0.0100|0.0000\n",
      "update - TD-Error : mean : -0.0000 - sd : 0.0030 min-max -0.0183|0.0168\n",
      "--------------------------------------\n",
      "Agent 0 and episode 760 \n",
      "update - q expected : mean : 0.0374 - sd : 0.0135 min-max -0.0168|0.0593\n",
      "update - reward : mean : -0.0003 - sd : 0.0018 min-max -0.0100|0.0000\n",
      "update - TD-Error : mean : 0.0004 - sd : 0.0056 min-max -0.0343|0.0225\n",
      "--------------------------------------\n",
      "Agent 1 and episode 760 \n",
      "update - q expected : mean : 0.0386 - sd : 0.0137 min-max -0.0121|0.0518\n",
      "\u001b[42mupdate - reward : mean : -0.0003 - sd : 0.0050 min-max -0.0100|0.1000\n",
      "\u001b[0mupdate - TD-Error : mean : -0.0006 - sd : 0.0062 min-max -0.0495|0.1010\n",
      "Episode 760 || Reward : [ 0.   -0.01] || avg reward :  0.000 || Noise  0.683 || 0.128 seconds, mem : 11113\n",
      "\u001b[0m"
     ]
    },
    {
     "name": "stderr",
     "output_type": "stream",
     "text": [
      "episode: 771/2000  38% ETA:  0:01:20 ||||||||||||||||                        | \r"
     ]
    },
    {
     "name": "stdout",
     "output_type": "stream",
     "text": [
      "--------------------------------------\n",
      "Agent 0 and episode 770 \n",
      "update - q expected : mean : 0.0389 - sd : 0.0116 min-max -0.0102|0.0661\n",
      "\u001b[42mupdate - reward : mean : -0.0002 - sd : 0.0048 min-max -0.0100|0.1000\n",
      "\u001b[0mupdate - TD-Error : mean : -0.0006 - sd : 0.0069 min-max -0.0289|0.0824\n",
      "--------------------------------------\n",
      "Agent 1 and episode 770 \n",
      "update - q expected : mean : 0.0385 - sd : 0.0143 min-max -0.0188|0.0524\n",
      "update - reward : mean : -0.0004 - sd : 0.0020 min-max -0.0100|0.0000\n",
      "update - TD-Error : mean : -0.0003 - sd : 0.0032 min-max -0.0210|0.0141\n",
      "--------------------------------------\n",
      "Agent 0 and episode 780 \n",
      "update - q expected : mean : 0.0386 - sd : 0.0134 min-max -0.0254|0.0594\n",
      "update - reward : mean : -0.0003 - sd : 0.0017 min-max -0.0100|0.0000\n",
      "update - TD-Error : mean : 0.0004 - sd : 0.0044 min-max -0.0205|0.0231\n",
      "--------------------------------------\n",
      "Agent 1 and episode 780 \n",
      "update - q expected : mean : 0.0381 - sd : 0.0156 min-max -0.0276|0.0545\n",
      "\u001b[42mupdate - reward : mean : -0.0001 - sd : 0.0048 min-max -0.0100|0.1000\n",
      "\u001b[0mupdate - TD-Error : mean : 0.0012 - sd : 0.0051 min-max -0.0128|0.0880\n",
      "Episode 780 || Reward : [-0.01  0.  ] || avg reward :  0.000 || Noise  0.677 || 0.142 seconds, mem : 11397\n",
      "\u001b[0m"
     ]
    },
    {
     "name": "stderr",
     "output_type": "stream",
     "text": [
      "episode: 788/2000  39% ETA:  0:01:19 |///////////////                        | \r"
     ]
    },
    {
     "name": "stdout",
     "output_type": "stream",
     "text": [
      "--------------------------------------\n",
      "Agent 0 and episode 790 \n",
      "update - q expected : mean : 0.0391 - sd : 0.0121 min-max -0.0086|0.0613\n",
      "update - reward : mean : -0.0003 - sd : 0.0016 min-max -0.0100|0.0000\n",
      "update - TD-Error : mean : -0.0005 - sd : 0.0049 min-max -0.0197|0.0193\n",
      "--------------------------------------\n",
      "Agent 1 and episode 790 \n",
      "update - q expected : mean : 0.0379 - sd : 0.0156 min-max -0.0272|0.0550\n",
      "\u001b[42mupdate - reward : mean : -0.0003 - sd : 0.0049 min-max -0.0100|0.1000\n",
      "\u001b[0mupdate - TD-Error : mean : 0.0007 - sd : 0.0051 min-max -0.0134|0.0899\n"
     ]
    },
    {
     "name": "stderr",
     "output_type": "stream",
     "text": [
      "episode: 801/2000  40% ETA:  0:01:18 |---------------                        | \r"
     ]
    },
    {
     "name": "stdout",
     "output_type": "stream",
     "text": [
      "--------------------------------------\n",
      "Agent 0 and episode 800 \n",
      "update - q expected : mean : 0.0390 - sd : 0.0114 min-max -0.0121|0.0652\n",
      "\u001b[42mupdate - reward : mean : 0.0001 - sd : 0.0065 min-max -0.0100|0.1000\n",
      "\u001b[0mupdate - TD-Error : mean : -0.0007 - sd : 0.0078 min-max -0.0377|0.1005\n",
      "--------------------------------------\n",
      "Agent 1 and episode 800 \n",
      "update - q expected : mean : 0.0388 - sd : 0.0138 min-max -0.0167|0.0574\n",
      "\u001b[42mupdate - reward : mean : -0.0001 - sd : 0.0063 min-max -0.0100|0.1000\n",
      "\u001b[0mupdate - TD-Error : mean : -0.0004 - sd : 0.0055 min-max -0.0201|0.0852\n",
      "Episode 800 || Reward : [ 0.   -0.01] || avg reward :  0.000 || Noise  0.670 || 0.249 seconds, mem : 11681\n",
      "\u001b[0m--------------------------------------\n",
      "Agent 0 and episode 810 \n",
      "update - q expected : mean : 0.0385 - sd : 0.0126 min-max -0.0188|0.0524\n",
      "update - reward : mean : -0.0004 - sd : 0.0021 min-max -0.0100|0.0000\n",
      "update - TD-Error : mean : -0.0006 - sd : 0.0053 min-max -0.0319|0.0275\n",
      "--------------------------------------\n",
      "Agent 1 and episode 810 \n",
      "update - q expected : mean : 0.0388 - sd : 0.0144 min-max -0.0202|0.0591\n",
      "\u001b[42mupdate - reward : mean : -0.0001 - sd : 0.0048 min-max -0.0100|0.1000\n",
      "\u001b[0mupdate - TD-Error : mean : -0.0004 - sd : 0.0047 min-max -0.0167|0.0775\n"
     ]
    },
    {
     "name": "stderr",
     "output_type": "stream",
     "text": [
      "episode: 815/2000  40% ETA:  0:01:17 |\\\\\\\\\\\\\\\\\\\\\\\\\\\\\\                        | \r"
     ]
    },
    {
     "name": "stdout",
     "output_type": "stream",
     "text": [
      "--------------------------------------\n",
      "Agent 0 and episode 820 \n",
      "update - q expected : mean : 0.0380 - sd : 0.0128 min-max -0.0177|0.0633\n",
      "update - reward : mean : -0.0003 - sd : 0.0016 min-max -0.0100|0.0000\n",
      "update - TD-Error : mean : 0.0004 - sd : 0.0051 min-max -0.0238|0.0357\n",
      "--------------------------------------\n",
      "Agent 1 and episode 820 \n",
      "update - q expected : mean : 0.0387 - sd : 0.0141 min-max -0.0202|0.0526\n",
      "update - reward : mean : -0.0004 - sd : 0.0020 min-max -0.0100|0.0000\n",
      "update - TD-Error : mean : -0.0004 - sd : 0.0032 min-max -0.0196|0.0146\n",
      "Episode 820 || Reward : [ 0.   -0.01] || avg reward :  0.000 || Noise  0.663 || 0.147 seconds, mem : 11965\n",
      "\u001b[0m"
     ]
    },
    {
     "name": "stderr",
     "output_type": "stream",
     "text": [
      "episode: 831/2000  41% ETA:  0:01:16 |||||||||||||||||                       | \r"
     ]
    },
    {
     "name": "stdout",
     "output_type": "stream",
     "text": [
      "--------------------------------------\n",
      "Agent 0 and episode 830 \n",
      "update - q expected : mean : 0.0371 - sd : 0.0151 min-max -0.0319|0.0531\n",
      "\u001b[42mupdate - reward : mean : -0.0002 - sd : 0.0048 min-max -0.0100|0.1000\n",
      "\u001b[0mupdate - TD-Error : mean : 0.0019 - sd : 0.0069 min-max -0.0182|0.0892\n",
      "--------------------------------------\n",
      "Agent 1 and episode 830 \n",
      "update - q expected : mean : 0.0387 - sd : 0.0138 min-max -0.0157|0.0630\n",
      "\u001b[42mupdate - reward : mean : 0.0000 - sd : 0.0046 min-max -0.0100|0.1000\n",
      "\u001b[0mupdate - TD-Error : mean : 0.0005 - sd : 0.0044 min-max -0.0167|0.0719\n",
      "--------------------------------------\n",
      "Agent 0 and episode 840 \n",
      "update - q expected : mean : 0.0373 - sd : 0.0156 min-max -0.0237|0.0708\n",
      "\u001b[42mupdate - reward : mean : -0.0001 - sd : 0.0066 min-max -0.0100|0.1000\n",
      "\u001b[0mupdate - TD-Error : mean : 0.0008 - sd : 0.0072 min-max -0.0348|0.0892\n",
      "--------------------------------------\n",
      "Agent 1 and episode 840 \n",
      "update - q expected : mean : 0.0384 - sd : 0.0151 min-max -0.0178|0.0560\n",
      "\u001b[42mupdate - reward : mean : -0.0002 - sd : 0.0044 min-max -0.0100|0.0900\n",
      "\u001b[0mupdate - TD-Error : mean : -0.0006 - sd : 0.0039 min-max -0.0206|0.0529\n",
      "Episode 840 || Reward : [ 0.   -0.01] || avg reward :  0.000 || Noise  0.657 || 0.149 seconds, mem : 12249\n",
      "\u001b[0m"
     ]
    },
    {
     "name": "stderr",
     "output_type": "stream",
     "text": [
      "episode: 849/2000  42% ETA:  0:01:15 |////////////////                       | \r"
     ]
    },
    {
     "name": "stdout",
     "output_type": "stream",
     "text": [
      "--------------------------------------\n",
      "Agent 0 and episode 850 \n",
      "update - q expected : mean : 0.0389 - sd : 0.0120 min-max -0.0169|0.0639\n",
      "update - reward : mean : -0.0004 - sd : 0.0019 min-max -0.0100|0.0000\n",
      "update - TD-Error : mean : -0.0003 - sd : 0.0051 min-max -0.0249|0.0263\n",
      "--------------------------------------\n",
      "Agent 1 and episode 850 \n",
      "update - q expected : mean : 0.0399 - sd : 0.0112 min-max -0.0074|0.0707\n",
      "update - reward : mean : -0.0002 - sd : 0.0015 min-max -0.0100|0.0000\n",
      "update - TD-Error : mean : -0.0011 - sd : 0.0042 min-max -0.0484|0.0087\n",
      "--------------------------------------\n",
      "Agent 0 and episode 860 \n",
      "update - q expected : mean : 0.0392 - sd : 0.0128 min-max -0.0186|0.0727\n",
      "\u001b[42mupdate - reward : mean : -0.0001 - sd : 0.0047 min-max -0.0100|0.1000\n",
      "\u001b[0mupdate - TD-Error : mean : -0.0008 - sd : 0.0057 min-max -0.0248|0.0760\n",
      "--------------------------------------\n",
      "Agent 1 and episode 860 \n",
      "update - q expected : mean : 0.0387 - sd : 0.0136 min-max -0.0122|0.0659\n",
      "update - reward : mean : -0.0004 - sd : 0.0020 min-max -0.0100|0.0000\n",
      "update - TD-Error : mean : -0.0005 - sd : 0.0032 min-max -0.0227|0.0115\n",
      "Episode 860 || Reward : [-0.01  0.  ] || avg reward :  0.000 || Noise  0.650 || 0.144 seconds, mem : 12533\n",
      "\u001b[0m"
     ]
    },
    {
     "name": "stderr",
     "output_type": "stream",
     "text": [
      "episode: 866/2000  43% ETA:  0:01:14 |----------------                       | \r"
     ]
    },
    {
     "name": "stdout",
     "output_type": "stream",
     "text": [
      "--------------------------------------\n",
      "Agent 0 and episode 870 \n",
      "update - q expected : mean : 0.0397 - sd : 0.0114 min-max -0.0078|0.0603\n",
      "\u001b[42mupdate - reward : mean : -0.0001 - sd : 0.0047 min-max -0.0100|0.1000\n",
      "\u001b[0mupdate - TD-Error : mean : -0.0007 - sd : 0.0065 min-max -0.0334|0.1007\n",
      "--------------------------------------\n",
      "Agent 1 and episode 870 \n",
      "update - q expected : mean : 0.0384 - sd : 0.0138 min-max -0.0203|0.0517\n",
      "\u001b[42mupdate - reward : mean : -0.0001 - sd : 0.0048 min-max -0.0100|0.1000\n",
      "\u001b[0mupdate - TD-Error : mean : 0.0006 - sd : 0.0056 min-max -0.0467|0.1009\n"
     ]
    },
    {
     "name": "stderr",
     "output_type": "stream",
     "text": [
      "episode: 882/2000  44% ETA:  0:01:12 |\\\\\\\\\\\\\\\\\\\\\\\\\\\\\\\\\\                      | \r"
     ]
    },
    {
     "name": "stdout",
     "output_type": "stream",
     "text": [
      "--------------------------------------\n",
      "Agent 0 and episode 880 \n",
      "update - q expected : mean : 0.0397 - sd : 0.0116 min-max -0.0059|0.0664\n",
      "\u001b[42mupdate - reward : mean : -0.0000 - sd : 0.0047 min-max -0.0100|0.1000\n",
      "\u001b[0mupdate - TD-Error : mean : -0.0004 - sd : 0.0055 min-max -0.0188|0.0797\n",
      "--------------------------------------\n",
      "Agent 1 and episode 880 \n",
      "update - q expected : mean : 0.0379 - sd : 0.0142 min-max -0.0207|0.0654\n",
      "update - reward : mean : -0.0003 - sd : 0.0016 min-max -0.0100|0.0000\n",
      "update - TD-Error : mean : 0.0010 - sd : 0.0032 min-max -0.0278|0.0160\n",
      "Episode 880 || Reward : [ 0.   -0.01] || avg reward :  0.000 || Noise  0.644 || 0.141 seconds, mem : 12817\n",
      "\u001b[0m--------------------------------------\n",
      "Agent 0 and episode 890 \n",
      "update - q expected : mean : 0.0397 - sd : 0.0121 min-max -0.0132|0.0763\n",
      "\u001b[42mupdate - reward : mean : -0.0002 - sd : 0.0048 min-max -0.0100|0.1000\n",
      "\u001b[0mupdate - TD-Error : mean : -0.0011 - sd : 0.0054 min-max -0.0272|0.0741\n",
      "--------------------------------------\n",
      "Agent 1 and episode 890 \n",
      "update - q expected : mean : 0.0381 - sd : 0.0144 min-max -0.0219|0.0524\n",
      "update - reward : mean : -0.0002 - sd : 0.0015 min-max -0.0100|0.0000\n",
      "update - TD-Error : mean : 0.0005 - sd : 0.0027 min-max -0.0146|0.0150\n"
     ]
    },
    {
     "name": "stderr",
     "output_type": "stream",
     "text": [
      "episode: 900/2000  45% ETA:  0:01:11 ||||||||||||||||||                      | \r"
     ]
    },
    {
     "name": "stdout",
     "output_type": "stream",
     "text": [
      "--------------------------------------\n",
      "Agent 0 and episode 900 \n",
      "update - q expected : mean : 0.0391 - sd : 0.0127 min-max -0.0136|0.0746\n",
      "\u001b[42mupdate - reward : mean : -0.0000 - sd : 0.0047 min-max -0.0100|0.1000\n",
      "\u001b[0mupdate - TD-Error : mean : -0.0005 - sd : 0.0053 min-max -0.0368|0.0679\n",
      "--------------------------------------\n",
      "Agent 1 and episode 900 \n",
      "update - q expected : mean : 0.0385 - sd : 0.0135 min-max -0.0152|0.0519\n",
      "\u001b[42mupdate - reward : mean : -0.0002 - sd : 0.0044 min-max -0.0100|0.0900\n",
      "\u001b[0mupdate - TD-Error : mean : -0.0001 - sd : 0.0035 min-max -0.0165|0.0568\n",
      "Episode 900 || Reward : [ 0.   -0.01] || avg reward :  0.000 || Noise  0.637 || 0.173 seconds, mem : 13101\n",
      "\u001b[0m--------------------------------------\n",
      "Agent 0 and episode 910 \n",
      "update - q expected : mean : 0.0383 - sd : 0.0128 min-max -0.0105|0.0693\n",
      "update - reward : mean : -0.0005 - sd : 0.0021 min-max -0.0100|0.0000\n",
      "update - TD-Error : mean : -0.0014 - sd : 0.0052 min-max -0.0297|0.0165\n",
      "--------------------------------------\n",
      "Agent 1 and episode 910 \n",
      "update - q expected : mean : 0.0386 - sd : 0.0129 min-max -0.0060|0.0524\n",
      "update - reward : mean : -0.0004 - sd : 0.0020 min-max -0.0100|0.0000\n",
      "update - TD-Error : mean : -0.0016 - sd : 0.0040 min-max -0.0266|0.0074\n"
     ]
    },
    {
     "name": "stderr",
     "output_type": "stream",
     "text": [
      "episode: 914/2000  45% ETA:  0:01:10 |/////////////////                      | \r"
     ]
    },
    {
     "name": "stdout",
     "output_type": "stream",
     "text": [
      "--------------------------------------\n",
      "Agent 0 and episode 920 \n",
      "update - q expected : mean : 0.0380 - sd : 0.0138 min-max -0.0244|0.0718\n",
      "update - reward : mean : -0.0003 - sd : 0.0018 min-max -0.0100|0.0000\n",
      "update - TD-Error : mean : 0.0001 - sd : 0.0042 min-max -0.0265|0.0192\n",
      "--------------------------------------\n",
      "Agent 1 and episode 920 \n",
      "update - q expected : mean : 0.0384 - sd : 0.0129 min-max -0.0103|0.0559\n",
      "\u001b[42mupdate - reward : mean : -0.0001 - sd : 0.0048 min-max -0.0100|0.1000\n",
      "\u001b[0mupdate - TD-Error : mean : -0.0001 - sd : 0.0048 min-max -0.0198|0.0869\n",
      "Episode 920 || Reward : [-0.01  0.  ] || avg reward :  0.000 || Noise  0.631 || 0.135 seconds, mem : 13385\n",
      "\u001b[0m"
     ]
    },
    {
     "name": "stderr",
     "output_type": "stream",
     "text": [
      "episode: 931/2000  46% ETA:  0:01:09 |------------------                     | \r"
     ]
    },
    {
     "name": "stdout",
     "output_type": "stream",
     "text": [
      "--------------------------------------\n",
      "Agent 0 and episode 930 \n",
      "update - q expected : mean : 0.0375 - sd : 0.0145 min-max -0.0326|0.0510\n",
      "update - reward : mean : -0.0002 - sd : 0.0015 min-max -0.0100|0.0000\n",
      "update - TD-Error : mean : 0.0014 - sd : 0.0052 min-max -0.0217|0.0307\n",
      "--------------------------------------\n",
      "Agent 1 and episode 930 \n",
      "update - q expected : mean : 0.0377 - sd : 0.0148 min-max -0.0250|0.0521\n",
      "update - reward : mean : -0.0003 - sd : 0.0017 min-max -0.0100|0.0000\n",
      "update - TD-Error : mean : 0.0012 - sd : 0.0029 min-max -0.0107|0.0178\n",
      "--------------------------------------\n",
      "Agent 0 and episode 940 \n",
      "update - q expected : mean : 0.0367 - sd : 0.0142 min-max -0.0217|0.0586\n",
      "update - reward : mean : -0.0004 - sd : 0.0021 min-max -0.0100|0.0000\n",
      "update - TD-Error : mean : 0.0002 - sd : 0.0045 min-max -0.0269|0.0200\n",
      "--------------------------------------\n",
      "Agent 1 and episode 940 \n",
      "update - q expected : mean : 0.0376 - sd : 0.0136 min-max -0.0138|0.0527\n",
      "\u001b[42mupdate - reward : mean : -0.0002 - sd : 0.0048 min-max -0.0100|0.1000\n",
      "\u001b[0mupdate - TD-Error : mean : -0.0004 - sd : 0.0053 min-max -0.0235|0.0884\n",
      "Episode 940 || Reward : [-0.01  0.  ] || avg reward :  0.000 || Noise  0.625 || 0.153 seconds, mem : 13669\n",
      "\u001b[0m"
     ]
    },
    {
     "name": "stderr",
     "output_type": "stream",
     "text": [
      "episode: 949/2000  47% ETA:  0:01:08 |\\\\\\\\\\\\\\\\\\\\\\\\\\\\\\\\\\\\                     | \r"
     ]
    },
    {
     "name": "stdout",
     "output_type": "stream",
     "text": [
      "--------------------------------------\n",
      "Agent 0 and episode 950 \n",
      "update - q expected : mean : 0.0367 - sd : 0.0141 min-max -0.0229|0.0530\n",
      "update - reward : mean : -0.0004 - sd : 0.0021 min-max -0.0100|0.0000\n",
      "update - TD-Error : mean : 0.0003 - sd : 0.0044 min-max -0.0178|0.0180\n",
      "--------------------------------------\n",
      "Agent 1 and episode 950 \n",
      "update - q expected : mean : 0.0372 - sd : 0.0152 min-max -0.0204|0.0505\n",
      "update - reward : mean : -0.0004 - sd : 0.0019 min-max -0.0100|0.0000\n",
      "update - TD-Error : mean : 0.0000 - sd : 0.0031 min-max -0.0209|0.0125\n",
      "--------------------------------------\n",
      "Agent 0 and episode 960 \n",
      "update - q expected : mean : 0.0375 - sd : 0.0135 min-max -0.0247|0.0562\n",
      "update - reward : mean : -0.0002 - sd : 0.0015 min-max -0.0100|0.0000\n",
      "update - TD-Error : mean : 0.0012 - sd : 0.0046 min-max -0.0163|0.0258\n",
      "--------------------------------------\n",
      "Agent 1 and episode 960 \n",
      "update - q expected : mean : 0.0374 - sd : 0.0150 min-max -0.0278|0.0505\n",
      "update - reward : mean : -0.0003 - sd : 0.0017 min-max -0.0100|0.0000\n",
      "update - TD-Error : mean : 0.0012 - sd : 0.0037 min-max -0.0207|0.0202\n",
      "Episode 960 || Reward : [ 0.   -0.01] || avg reward :  0.000 || Noise  0.618 || 0.162 seconds, mem : 13953\n",
      "\u001b[0m"
     ]
    },
    {
     "name": "stderr",
     "output_type": "stream",
     "text": [
      "episode: 966/2000  48% ETA:  0:01:07 |||||||||||||||||||                     | \r"
     ]
    },
    {
     "name": "stdout",
     "output_type": "stream",
     "text": [
      "--------------------------------------\n",
      "Agent 0 and episode 970 \n",
      "update - q expected : mean : 0.0384 - sd : 0.0117 min-max -0.0184|0.0717\n",
      "update - reward : mean : -0.0002 - sd : 0.0015 min-max -0.0100|0.0000\n",
      "update - TD-Error : mean : 0.0001 - sd : 0.0046 min-max -0.0268|0.0162\n",
      "--------------------------------------\n",
      "Agent 1 and episode 970 \n",
      "update - q expected : mean : 0.0381 - sd : 0.0135 min-max -0.0160|0.0547\n",
      "\u001b[42mupdate - reward : mean : -0.0001 - sd : 0.0048 min-max -0.0100|0.1000\n",
      "\u001b[0mupdate - TD-Error : mean : 0.0004 - sd : 0.0049 min-max -0.0208|0.0833\n"
     ]
    },
    {
     "name": "stderr",
     "output_type": "stream",
     "text": [
      "episode: 983/2000  49% ETA:  0:01:05 |///////////////////                    | \r"
     ]
    },
    {
     "name": "stdout",
     "output_type": "stream",
     "text": [
      "--------------------------------------\n",
      "Agent 0 and episode 980 \n",
      "update - q expected : mean : 0.0391 - sd : 0.0115 min-max -0.0207|0.0711\n",
      "\u001b[42mupdate - reward : mean : -0.0001 - sd : 0.0047 min-max -0.0100|0.1000\n",
      "\u001b[0mupdate - TD-Error : mean : 0.0002 - sd : 0.0050 min-max -0.0162|0.0779\n",
      "--------------------------------------\n",
      "Agent 1 and episode 980 \n",
      "update - q expected : mean : 0.0389 - sd : 0.0132 min-max -0.0240|0.0599\n",
      "\u001b[42mupdate - reward : mean : 0.0002 - sd : 0.0064 min-max -0.0100|0.1000\n",
      "\u001b[0mupdate - TD-Error : mean : 0.0010 - sd : 0.0063 min-max -0.0190|0.1005\n",
      "Episode 980 || Reward : [-0.01  0.  ] || avg reward :  0.000 || Noise  0.612 || 0.129 seconds, mem : 14237\n",
      "\u001b[0m--------------------------------------\n",
      "Agent 0 and episode 990 \n",
      "update - q expected : mean : 0.0388 - sd : 0.0114 min-max -0.0127|0.0530\n",
      "update - reward : mean : -0.0004 - sd : 0.0020 min-max -0.0100|0.0000\n",
      "update - TD-Error : mean : -0.0012 - sd : 0.0045 min-max -0.0356|0.0172\n",
      "--------------------------------------\n",
      "Agent 1 and episode 990 \n",
      "update - q expected : mean : 0.0394 - sd : 0.0120 min-max -0.0074|0.0611\n",
      "\u001b[42mupdate - reward : mean : -0.0001 - sd : 0.0043 min-max -0.0100|0.0900\n",
      "\u001b[0mupdate - TD-Error : mean : -0.0013 - sd : 0.0045 min-max -0.0425|0.0530\n"
     ]
    },
    {
     "name": "stderr",
     "output_type": "stream",
     "text": [
      "episode: 1001/2000  50% ETA:  0:01:04 |-------------------                   | \r"
     ]
    },
    {
     "name": "stdout",
     "output_type": "stream",
     "text": [
      "--------------------------------------\n",
      "Agent 0 and episode 1000 \n",
      "update - q expected : mean : 0.0391 - sd : 0.0114 min-max -0.0095|0.0795\n",
      "\u001b[42mupdate - reward : mean : 0.0000 - sd : 0.0065 min-max -0.0100|0.1000\n",
      "\u001b[0mupdate - TD-Error : mean : -0.0006 - sd : 0.0071 min-max -0.0199|0.1028\n",
      "--------------------------------------\n",
      "Agent 1 and episode 1000 \n",
      "update - q expected : mean : 0.0395 - sd : 0.0125 min-max -0.0073|0.0660\n",
      "\u001b[42mupdate - reward : mean : -0.0001 - sd : 0.0047 min-max -0.0100|0.1000\n",
      "\u001b[0mupdate - TD-Error : mean : -0.0012 - sd : 0.0048 min-max -0.0244|0.0767\n",
      "Episode 1000 || Reward : [-0.01  0.  ] || avg reward :  0.000 || Noise  0.606 || 0.144 seconds, mem : 14521\n",
      "\u001b[0m--------------------------------------\n",
      "Agent 0 and episode 1010 \n",
      "update - q expected : mean : 0.0386 - sd : 0.0120 min-max -0.0144|0.0528\n",
      "update - reward : mean : -0.0003 - sd : 0.0018 min-max -0.0100|0.0000\n",
      "update - TD-Error : mean : -0.0015 - sd : 0.0048 min-max -0.0226|0.0103\n",
      "--------------------------------------\n",
      "Agent 1 and episode 1010 \n",
      "update - q expected : mean : 0.0390 - sd : 0.0125 min-max -0.0060|0.0508\n",
      "update - reward : mean : -0.0005 - sd : 0.0022 min-max -0.0100|0.0000\n",
      "update - TD-Error : mean : -0.0020 - sd : 0.0045 min-max -0.0285|0.0069\n"
     ]
    },
    {
     "name": "stderr",
     "output_type": "stream",
     "text": [
      "episode: 1018/2000  50% ETA:  0:01:03 |\\\\\\\\\\\\\\\\\\\\\\\\\\\\\\\\\\\\\\                   | \r"
     ]
    },
    {
     "name": "stdout",
     "output_type": "stream",
     "text": [
      "--------------------------------------\n",
      "Agent 0 and episode 1020 \n",
      "update - q expected : mean : 0.0378 - sd : 0.0133 min-max -0.0213|0.0531\n",
      "update - reward : mean : -0.0003 - sd : 0.0017 min-max -0.0100|0.0000\n",
      "update - TD-Error : mean : -0.0003 - sd : 0.0038 min-max -0.0186|0.0182\n",
      "--------------------------------------\n",
      "Agent 1 and episode 1020 \n",
      "update - q expected : mean : 0.0379 - sd : 0.0147 min-max -0.0165|0.0520\n",
      "update - reward : mean : -0.0005 - sd : 0.0021 min-max -0.0100|0.0000\n",
      "update - TD-Error : mean : -0.0005 - sd : 0.0028 min-max -0.0204|0.0102\n",
      "Episode 1020 || Reward : [ 0.   -0.01] || avg reward :  0.000 || Noise  0.600 || 0.135 seconds, mem : 14805\n",
      "\u001b[0m--------------------------------------\n",
      "Agent 0 and episode 1030 \n",
      "update - q expected : mean : 0.0370 - sd : 0.0139 min-max -0.0176|0.0751\n",
      "\u001b[42mupdate - reward : mean : -0.0001 - sd : 0.0048 min-max -0.0100|0.1000\n",
      "\u001b[0mupdate - TD-Error : mean : 0.0007 - sd : 0.0059 min-max -0.0242|0.0864\n",
      "--------------------------------------\n",
      "Agent 1 and episode 1030 \n",
      "update - q expected : mean : 0.0371 - sd : 0.0147 min-max -0.0186|0.0529\n",
      "update - reward : mean : -0.0004 - sd : 0.0019 min-max -0.0100|0.0000\n",
      "update - TD-Error : mean : 0.0007 - sd : 0.0036 min-max -0.0157|0.0148\n"
     ]
    },
    {
     "name": "stderr",
     "output_type": "stream",
     "text": [
      "episode: 1032/2000  51% ETA:  0:01:02 ||||||||||||||||||||                   | \r"
     ]
    },
    {
     "name": "stdout",
     "output_type": "stream",
     "text": [
      "--------------------------------------\n",
      "Agent 0 and episode 1040 \n",
      "update - q expected : mean : 0.0361 - sd : 0.0167 min-max -0.0374|0.0809\n",
      "\u001b[42mupdate - reward : mean : -0.0001 - sd : 0.0048 min-max -0.0100|0.1000\n",
      "\u001b[0mupdate - TD-Error : mean : 0.0016 - sd : 0.0057 min-max -0.0126|0.0710\n",
      "--------------------------------------\n",
      "Agent 1 and episode 1040 \n",
      "update - q expected : mean : 0.0362 - sd : 0.0169 min-max -0.0286|0.0523\n",
      "update - reward : mean : -0.0004 - sd : 0.0020 min-max -0.0100|0.0000\n",
      "update - TD-Error : mean : 0.0014 - sd : 0.0037 min-max -0.0165|0.0186\n",
      "Episode 1040 || Reward : [-0.01  0.  ] || avg reward :  0.000 || Noise  0.594 || 0.163 seconds, mem : 15089\n",
      "\u001b[0m"
     ]
    },
    {
     "name": "stderr",
     "output_type": "stream",
     "text": [
      "episode: 1050/2000  52% ETA:  0:01:01 |///////////////////                   | \r"
     ]
    },
    {
     "name": "stdout",
     "output_type": "stream",
     "text": [
      "--------------------------------------\n",
      "Agent 0 and episode 1050 \n",
      "update - q expected : mean : 0.0368 - sd : 0.0143 min-max -0.0254|0.0713\n",
      "update - reward : mean : -0.0003 - sd : 0.0016 min-max -0.0100|0.0000\n",
      "update - TD-Error : mean : 0.0009 - sd : 0.0046 min-max -0.0258|0.0243\n",
      "--------------------------------------\n",
      "Agent 1 and episode 1050 \n",
      "update - q expected : mean : 0.0359 - sd : 0.0172 min-max -0.0296|0.0644\n",
      "update - reward : mean : -0.0004 - sd : 0.0020 min-max -0.0100|0.0000\n",
      "update - TD-Error : mean : 0.0016 - sd : 0.0045 min-max -0.0231|0.0204\n"
     ]
    },
    {
     "name": "stderr",
     "output_type": "stream",
     "text": [
      "episode: 1061/2000  53% ETA:  0:01:01 |--------------------                  | \r"
     ]
    },
    {
     "name": "stdout",
     "output_type": "stream",
     "text": [
      "--------------------------------------\n",
      "Agent 0 and episode 1060 \n",
      "update - q expected : mean : 0.0373 - sd : 0.0132 min-max -0.0197|0.0507\n",
      "update - reward : mean : -0.0003 - sd : 0.0017 min-max -0.0100|0.0000\n",
      "update - TD-Error : mean : 0.0004 - sd : 0.0044 min-max -0.0283|0.0289\n",
      "--------------------------------------\n",
      "Agent 1 and episode 1060 \n",
      "update - q expected : mean : 0.0374 - sd : 0.0140 min-max -0.0176|0.0614\n",
      "\u001b[42mupdate - reward : mean : -0.0001 - sd : 0.0048 min-max -0.0100|0.1000\n",
      "\u001b[0mupdate - TD-Error : mean : 0.0007 - sd : 0.0050 min-max -0.0268|0.0796\n",
      "Episode 1060 || Reward : [ 0.   -0.01] || avg reward :  0.000 || Noise  0.588 || 0.203 seconds, mem : 15373\n",
      "\u001b[0m--------------------------------------\n",
      "Agent 0 and episode 1070 \n",
      "update - q expected : mean : 0.0378 - sd : 0.0133 min-max -0.0167|0.0683\n",
      "\u001b[42mupdate - reward : mean : -0.0003 - sd : 0.0050 min-max -0.0100|0.1000\n",
      "\u001b[0mupdate - TD-Error : mean : -0.0009 - sd : 0.0055 min-max -0.0251|0.0754\n",
      "--------------------------------------\n",
      "Agent 1 and episode 1070 \n",
      "update - q expected : mean : 0.0386 - sd : 0.0122 min-max -0.0045|0.0525\n",
      "update - reward : mean : -0.0003 - sd : 0.0017 min-max -0.0100|0.0000\n",
      "update - TD-Error : mean : -0.0017 - sd : 0.0041 min-max -0.0242|0.0068\n"
     ]
    },
    {
     "name": "stderr",
     "output_type": "stream",
     "text": [
      "episode: 1073/2000  53% ETA:  0:01:00 |\\\\\\\\\\\\\\\\\\\\\\\\\\\\\\\\\\\\\\\\                  | \r"
     ]
    },
    {
     "name": "stdout",
     "output_type": "stream",
     "text": [
      "--------------------------------------\n",
      "Agent 0 and episode 1080 \n",
      "update - q expected : mean : 0.0385 - sd : 0.0119 min-max -0.0095|0.0826\n",
      "\u001b[42mupdate - reward : mean : -0.0002 - sd : 0.0048 min-max -0.0100|0.1000\n",
      "\u001b[0mupdate - TD-Error : mean : -0.0010 - sd : 0.0058 min-max -0.0323|0.0691\n",
      "--------------------------------------\n",
      "Agent 1 and episode 1080 \n",
      "update - q expected : mean : 0.0385 - sd : 0.0123 min-max -0.0070|0.0506\n",
      "update - reward : mean : -0.0004 - sd : 0.0018 min-max -0.0100|0.0000\n",
      "update - TD-Error : mean : -0.0012 - sd : 0.0047 min-max -0.0468|0.0078\n",
      "Episode 1080 || Reward : [ 0.   -0.01] || avg reward :  0.000 || Noise  0.582 || 0.227 seconds, mem : 15657\n",
      "\u001b[0m"
     ]
    },
    {
     "name": "stderr",
     "output_type": "stream",
     "text": [
      "episode: 1085/2000  54% ETA:  0:01:00 |||||||||||||||||||||                  | \r"
     ]
    },
    {
     "name": "stdout",
     "output_type": "stream",
     "text": [
      "--------------------------------------\n",
      "Agent 0 and episode 1090 \n",
      "update - q expected : mean : 0.0377 - sd : 0.0136 min-max -0.0177|0.0849\n",
      "\u001b[42mupdate - reward : mean : -0.0002 - sd : 0.0049 min-max -0.0100|0.1000\n",
      "\u001b[0mupdate - TD-Error : mean : -0.0008 - sd : 0.0050 min-max -0.0216|0.0675\n",
      "--------------------------------------\n",
      "Agent 1 and episode 1090 \n",
      "update - q expected : mean : 0.0383 - sd : 0.0135 min-max -0.0104|0.0657\n",
      "update - reward : mean : -0.0004 - sd : 0.0019 min-max -0.0100|0.0000\n",
      "update - TD-Error : mean : -0.0011 - sd : 0.0035 min-max -0.0251|0.0075\n"
     ]
    },
    {
     "name": "stderr",
     "output_type": "stream",
     "text": [
      "episode: 1098/2000  54% ETA:  0:00:59 |////////////////////                  | \r"
     ]
    },
    {
     "name": "stdout",
     "output_type": "stream",
     "text": [
      "--------------------------------------\n",
      "Agent 0 and episode 1100 \n",
      "update - q expected : mean : 0.0374 - sd : 0.0137 min-max -0.0225|0.0853\n",
      "\u001b[42mupdate - reward : mean : -0.0002 - sd : 0.0049 min-max -0.0100|0.1000\n",
      "\u001b[0mupdate - TD-Error : mean : -0.0005 - sd : 0.0051 min-max -0.0167|0.0654\n",
      "--------------------------------------\n",
      "Agent 1 and episode 1100 \n",
      "update - q expected : mean : 0.0376 - sd : 0.0137 min-max -0.0121|0.0514\n",
      "update - reward : mean : -0.0004 - sd : 0.0019 min-max -0.0100|0.0000\n",
      "update - TD-Error : mean : -0.0006 - sd : 0.0039 min-max -0.0275|0.0082\n",
      "Episode 1100 || Reward : [ 0.   -0.01] || avg reward :  0.000 || Noise  0.577 || 0.231 seconds, mem : 15941\n",
      "\u001b[0m"
     ]
    },
    {
     "name": "stderr",
     "output_type": "stream",
     "text": [
      "episode: 1108/2000  55% ETA:  0:00:59 |---------------------                 | \r"
     ]
    },
    {
     "name": "stdout",
     "output_type": "stream",
     "text": [
      "--------------------------------------\n",
      "Agent 0 and episode 1110 \n",
      "update - q expected : mean : 0.0373 - sd : 0.0131 min-max -0.0235|0.0779\n",
      "update - reward : mean : -0.0003 - sd : 0.0017 min-max -0.0100|0.0000\n",
      "update - TD-Error : mean : 0.0006 - sd : 0.0043 min-max -0.0323|0.0185\n",
      "--------------------------------------\n",
      "Agent 1 and episode 1110 \n",
      "update - q expected : mean : 0.0369 - sd : 0.0139 min-max -0.0179|0.0505\n",
      "update - reward : mean : -0.0003 - sd : 0.0016 min-max -0.0100|0.0000\n",
      "update - TD-Error : mean : 0.0012 - sd : 0.0036 min-max -0.0180|0.0142\n"
     ]
    },
    {
     "name": "stderr",
     "output_type": "stream",
     "text": [
      "episode: 1118/2000  55% ETA:  0:00:58 |\\\\\\\\\\\\\\\\\\\\\\\\\\\\\\\\\\\\\\\\\\                 | \r"
     ]
    },
    {
     "name": "stdout",
     "output_type": "stream",
     "text": [
      "--------------------------------------\n",
      "Agent 0 and episode 1120 \n",
      "update - q expected : mean : 0.0364 - sd : 0.0145 min-max -0.0245|0.0685\n",
      "update - reward : mean : -0.0004 - sd : 0.0019 min-max -0.0100|0.0000\n",
      "update - TD-Error : mean : 0.0005 - sd : 0.0042 min-max -0.0185|0.0229\n",
      "--------------------------------------\n",
      "Agent 1 and episode 1120 \n",
      "update - q expected : mean : 0.0361 - sd : 0.0158 min-max -0.0199|0.0695\n",
      "\u001b[42mupdate - reward : mean : -0.0002 - sd : 0.0048 min-max -0.0100|0.1000\n",
      "\u001b[0mupdate - TD-Error : mean : 0.0013 - sd : 0.0048 min-max -0.0284|0.0727\n",
      "Episode 1120 || Reward : [ 0.   -0.01] || avg reward :  0.000 || Noise  0.571 || 0.241 seconds, mem : 16225\n",
      "\u001b[0m"
     ]
    },
    {
     "name": "stderr",
     "output_type": "stream",
     "text": [
      "episode: 1128/2000  56% ETA:  0:00:58 ||||||||||||||||||||||                 | \r"
     ]
    },
    {
     "name": "stdout",
     "output_type": "stream",
     "text": [
      "--------------------------------------\n",
      "Agent 0 and episode 1130 \n",
      "update - q expected : mean : 0.0368 - sd : 0.0145 min-max -0.0327|0.0771\n",
      "update - reward : mean : -0.0003 - sd : 0.0017 min-max -0.0100|0.0000\n",
      "update - TD-Error : mean : 0.0011 - sd : 0.0043 min-max -0.0313|0.0240\n",
      "--------------------------------------\n",
      "Agent 1 and episode 1130 \n",
      "update - q expected : mean : 0.0365 - sd : 0.0155 min-max -0.0250|0.0673\n",
      "\u001b[42mupdate - reward : mean : -0.0001 - sd : 0.0047 min-max -0.0100|0.1000\n",
      "\u001b[0mupdate - TD-Error : mean : 0.0016 - sd : 0.0052 min-max -0.0189|0.0819\n"
     ]
    },
    {
     "name": "stderr",
     "output_type": "stream",
     "text": [
      "episode: 1140/2000  57% ETA:  0:00:57 |/////////////////////                 | \r"
     ]
    },
    {
     "name": "stdout",
     "output_type": "stream",
     "text": [
      "--------------------------------------\n",
      "Agent 0 and episode 1140 \n",
      "update - q expected : mean : 0.0372 - sd : 0.0134 min-max -0.0280|0.0565\n",
      "update - reward : mean : -0.0003 - sd : 0.0017 min-max -0.0100|0.0000\n",
      "update - TD-Error : mean : 0.0004 - sd : 0.0038 min-max -0.0195|0.0180\n",
      "--------------------------------------\n",
      "Agent 1 and episode 1140 \n",
      "update - q expected : mean : 0.0374 - sd : 0.0140 min-max -0.0164|0.0705\n",
      "\u001b[42mupdate - reward : mean : 0.0001 - sd : 0.0065 min-max -0.0100|0.1000\n",
      "\u001b[0mupdate - TD-Error : mean : 0.0007 - sd : 0.0068 min-max -0.0201|0.0964\n",
      "Episode 1140 || Reward : [ 0.   -0.01] || avg reward :  0.000 || Noise  0.565 || 0.231 seconds, mem : 16509\n",
      "\u001b[0m"
     ]
    },
    {
     "name": "stderr",
     "output_type": "stream",
     "text": [
      "episode: 1151/2000  57% ETA:  0:00:57 |---------------------                 | \r"
     ]
    },
    {
     "name": "stdout",
     "output_type": "stream",
     "text": [
      "--------------------------------------\n",
      "Agent 0 and episode 1150 \n",
      "update - q expected : mean : 0.0377 - sd : 0.0130 min-max -0.0211|0.0512\n",
      "update - reward : mean : -0.0003 - sd : 0.0016 min-max -0.0100|0.0000\n",
      "update - TD-Error : mean : -0.0004 - sd : 0.0044 min-max -0.0512|0.0153\n",
      "--------------------------------------\n",
      "Agent 1 and episode 1150 \n",
      "update - q expected : mean : 0.0381 - sd : 0.0132 min-max -0.0132|0.0535\n",
      "\u001b[42mupdate - reward : mean : -0.0003 - sd : 0.0045 min-max -0.0100|0.0900\n",
      "\u001b[0mupdate - TD-Error : mean : -0.0004 - sd : 0.0040 min-max -0.0179|0.0365\n",
      "--------------------------------------\n",
      "Agent 0 and episode 1160 \n",
      "update - q expected : mean : 0.0375 - sd : 0.0130 min-max -0.0181|0.0525\n",
      "update - reward : mean : -0.0004 - sd : 0.0019 min-max -0.0100|0.0000\n",
      "update - TD-Error : mean : -0.0009 - sd : 0.0039 min-max -0.0233|0.0173\n",
      "--------------------------------------\n",
      "Agent 1 and episode 1160 \n",
      "update - q expected : mean : 0.0380 - sd : 0.0134 min-max -0.0118|0.0526\n",
      "update - reward : mean : -0.0004 - sd : 0.0020 min-max -0.0100|0.0000\n",
      "update - TD-Error : mean : -0.0012 - sd : 0.0038 min-max -0.0177|0.0080\n",
      "Episode 1160 || Reward : [-0.01  0.  ] || avg reward :  0.000 || Noise  0.560 || 0.228 seconds, mem : 16793\n",
      "\u001b[0m"
     ]
    },
    {
     "name": "stderr",
     "output_type": "stream",
     "text": [
      "episode: 1163/2000  58% ETA:  0:00:56 |\\\\\\\\\\\\\\\\\\\\\\\\\\\\\\\\\\\\\\\\\\\\                | \r"
     ]
    },
    {
     "name": "stdout",
     "output_type": "stream",
     "text": [
      "--------------------------------------\n",
      "Agent 0 and episode 1170 \n",
      "update - q expected : mean : 0.0375 - sd : 0.0131 min-max -0.0203|0.0750\n",
      "\u001b[42mupdate - reward : mean : -0.0001 - sd : 0.0047 min-max -0.0100|0.1000\n",
      "\u001b[0mupdate - TD-Error : mean : -0.0001 - sd : 0.0052 min-max -0.0294|0.0856\n",
      "--------------------------------------\n",
      "Agent 1 and episode 1170 \n",
      "update - q expected : mean : 0.0385 - sd : 0.0132 min-max -0.0128|0.0702\n",
      "update - reward : mean : -0.0004 - sd : 0.0020 min-max -0.0100|0.0000\n",
      "update - TD-Error : mean : -0.0011 - sd : 0.0042 min-max -0.0326|0.0101\n"
     ]
    },
    {
     "name": "stderr",
     "output_type": "stream",
     "text": [
      "episode: 1174/2000  58% ETA:  0:00:56 |||||||||||||||||||||||                | \r"
     ]
    },
    {
     "name": "stdout",
     "output_type": "stream",
     "text": [
      "--------------------------------------\n",
      "Agent 0 and episode 1180 \n",
      "update - q expected : mean : 0.0377 - sd : 0.0130 min-max -0.0199|0.0727\n",
      "update - reward : mean : -0.0003 - sd : 0.0016 min-max -0.0100|0.0000\n",
      "update - TD-Error : mean : 0.0001 - sd : 0.0038 min-max -0.0258|0.0148\n",
      "--------------------------------------\n",
      "Agent 1 and episode 1180 \n",
      "update - q expected : mean : 0.0382 - sd : 0.0136 min-max -0.0182|0.0560\n",
      "update - reward : mean : -0.0003 - sd : 0.0016 min-max -0.0100|0.0000\n",
      "update - TD-Error : mean : -0.0002 - sd : 0.0036 min-max -0.0166|0.0146\n",
      "Episode 1180 || Reward : [ 0.   -0.01] || avg reward :  0.000 || Noise  0.554 || 0.213 seconds, mem : 17077\n",
      "\u001b[0m"
     ]
    },
    {
     "name": "stderr",
     "output_type": "stream",
     "text": [
      "episode: 1187/2000  59% ETA:  0:00:55 |//////////////////////                | \r"
     ]
    },
    {
     "name": "stdout",
     "output_type": "stream",
     "text": [
      "--------------------------------------\n",
      "Agent 0 and episode 1190 \n",
      "update - q expected : mean : 0.0379 - sd : 0.0131 min-max -0.0189|0.0717\n",
      "update - reward : mean : -0.0003 - sd : 0.0017 min-max -0.0100|0.0000\n",
      "update - TD-Error : mean : 0.0000 - sd : 0.0036 min-max -0.0344|0.0134\n",
      "--------------------------------------\n",
      "Agent 1 and episode 1190 \n",
      "update - q expected : mean : 0.0379 - sd : 0.0145 min-max -0.0245|0.0513\n",
      "update - reward : mean : -0.0003 - sd : 0.0016 min-max -0.0100|0.0000\n",
      "update - TD-Error : mean : 0.0002 - sd : 0.0038 min-max -0.0375|0.0182\n"
     ]
    },
    {
     "name": "stderr",
     "output_type": "stream",
     "text": [
      "episode: 1200/2000  60% ETA:  0:00:54 |----------------------                | \r"
     ]
    },
    {
     "name": "stdout",
     "output_type": "stream",
     "text": [
      "--------------------------------------\n",
      "Agent 0 and episode 1200 \n",
      "update - q expected : mean : 0.0374 - sd : 0.0139 min-max -0.0197|0.0795\n",
      "update - reward : mean : -0.0003 - sd : 0.0018 min-max -0.0100|0.0000\n",
      "update - TD-Error : mean : -0.0001 - sd : 0.0040 min-max -0.0288|0.0226\n",
      "--------------------------------------\n",
      "Agent 1 and episode 1200 \n",
      "update - q expected : mean : 0.0377 - sd : 0.0142 min-max -0.0201|0.0587\n",
      "update - reward : mean : -0.0003 - sd : 0.0017 min-max -0.0100|0.0000\n",
      "update - TD-Error : mean : 0.0001 - sd : 0.0035 min-max -0.0207|0.0156\n",
      "Episode 1200 || Reward : [ 0.   -0.01] || avg reward :  0.000 || Noise  0.548 || 0.230 seconds, mem : 17361\n",
      "\u001b[0m"
     ]
    },
    {
     "name": "stderr",
     "output_type": "stream",
     "text": [
      "episode: 1210/2000  60% ETA:  0:00:54 |\\\\\\\\\\\\\\\\\\\\\\\\\\\\\\\\\\\\\\\\\\\\                | \r"
     ]
    },
    {
     "name": "stdout",
     "output_type": "stream",
     "text": [
      "--------------------------------------\n",
      "Agent 0 and episode 1210 \n",
      "update - q expected : mean : 0.0378 - sd : 0.0123 min-max -0.0180|0.0528\n",
      "update - reward : mean : -0.0003 - sd : 0.0016 min-max -0.0100|0.0000\n",
      "update - TD-Error : mean : -0.0002 - sd : 0.0038 min-max -0.0177|0.0190\n",
      "--------------------------------------\n",
      "Agent 1 and episode 1210 \n",
      "update - q expected : mean : 0.0379 - sd : 0.0135 min-max -0.0193|0.0594\n",
      "\u001b[42mupdate - reward : mean : -0.0001 - sd : 0.0048 min-max -0.0100|0.1000\n",
      "\u001b[0mupdate - TD-Error : mean : -0.0001 - sd : 0.0055 min-max -0.0202|0.0944\n"
     ]
    },
    {
     "name": "stderr",
     "output_type": "stream",
     "text": [
      "episode: 1217/2000  60% ETA:  0:00:54 ||||||||||||||||||||||||               | \r"
     ]
    },
    {
     "name": "stdout",
     "output_type": "stream",
     "text": [
      "--------------------------------------\n",
      "Agent 0 and episode 1220 \n",
      "update - q expected : mean : 0.0374 - sd : 0.0130 min-max -0.0210|0.0658\n",
      "update - reward : mean : -0.0002 - sd : 0.0015 min-max -0.0100|0.0000\n",
      "update - TD-Error : mean : 0.0001 - sd : 0.0036 min-max -0.0183|0.0133\n",
      "--------------------------------------\n",
      "Agent 1 and episode 1220 \n",
      "update - q expected : mean : 0.0377 - sd : 0.0136 min-max -0.0205|0.0516\n",
      "\u001b[42mupdate - reward : mean : -0.0001 - sd : 0.0048 min-max -0.0100|0.1000\n",
      "\u001b[0mupdate - TD-Error : mean : 0.0003 - sd : 0.0056 min-max -0.0137|0.1033\n",
      "Episode 1220 || Reward : [-0.01  0.  ] || avg reward :  0.000 || Noise  0.543 || 0.299 seconds, mem : 17645\n",
      "\u001b[0m"
     ]
    },
    {
     "name": "stderr",
     "output_type": "stream",
     "text": [
      "episode: 1227/2000  61% ETA:  0:00:53 |///////////////////////               | \r"
     ]
    },
    {
     "name": "stdout",
     "output_type": "stream",
     "text": [
      "--------------------------------------\n",
      "Agent 0 and episode 1230 \n",
      "update - q expected : mean : 0.0373 - sd : 0.0130 min-max -0.0187|0.0531\n",
      "update - reward : mean : -0.0003 - sd : 0.0016 min-max -0.0100|0.0000\n",
      "update - TD-Error : mean : 0.0004 - sd : 0.0033 min-max -0.0142|0.0160\n",
      "--------------------------------------\n",
      "Agent 1 and episode 1230 \n",
      "update - q expected : mean : 0.0379 - sd : 0.0129 min-max -0.0158|0.0510\n",
      "update - reward : mean : -0.0003 - sd : 0.0016 min-max -0.0100|0.0000\n",
      "update - TD-Error : mean : 0.0002 - sd : 0.0034 min-max -0.0132|0.0152\n"
     ]
    },
    {
     "name": "stderr",
     "output_type": "stream",
     "text": [
      "episode: 1239/2000  61% ETA:  0:00:52 |-----------------------               | \r"
     ]
    },
    {
     "name": "stdout",
     "output_type": "stream",
     "text": [
      "--------------------------------------\n",
      "Agent 0 and episode 1240 \n",
      "update - q expected : mean : 0.0370 - sd : 0.0135 min-max -0.0145|0.0507\n",
      "update - reward : mean : -0.0003 - sd : 0.0018 min-max -0.0100|0.0000\n",
      "update - TD-Error : mean : 0.0000 - sd : 0.0036 min-max -0.0165|0.0164\n",
      "--------------------------------------\n",
      "Agent 1 and episode 1240 \n",
      "update - q expected : mean : 0.0377 - sd : 0.0140 min-max -0.0162|0.0518\n",
      "update - reward : mean : -0.0004 - sd : 0.0018 min-max -0.0100|0.0000\n",
      "update - TD-Error : mean : -0.0004 - sd : 0.0031 min-max -0.0238|0.0081\n",
      "Episode 1240 || Reward : [ 0.   -0.01] || avg reward :  0.000 || Noise  0.538 || 0.201 seconds, mem : 17929\n",
      "\u001b[0m"
     ]
    },
    {
     "name": "stderr",
     "output_type": "stream",
     "text": [
      "episode: 1251/2000  62% ETA:  0:00:52 |\\\\\\\\\\\\\\\\\\\\\\\\\\\\\\\\\\\\\\\\\\\\\\               | \r"
     ]
    },
    {
     "name": "stdout",
     "output_type": "stream",
     "text": [
      "--------------------------------------\n",
      "Agent 0 and episode 1250 \n",
      "update - q expected : mean : 0.0372 - sd : 0.0134 min-max -0.0199|0.0514\n",
      "update - reward : mean : -0.0004 - sd : 0.0019 min-max -0.0100|0.0000\n",
      "update - TD-Error : mean : 0.0000 - sd : 0.0031 min-max -0.0149|0.0152\n",
      "--------------------------------------\n",
      "Agent 1 and episode 1250 \n",
      "update - q expected : mean : 0.0380 - sd : 0.0131 min-max -0.0143|0.0556\n",
      "update - reward : mean : -0.0003 - sd : 0.0016 min-max -0.0100|0.0000\n",
      "update - TD-Error : mean : -0.0003 - sd : 0.0032 min-max -0.0172|0.0103\n",
      "--------------------------------------\n",
      "Agent 0 and episode 1260 \n",
      "update - q expected : mean : 0.0375 - sd : 0.0124 min-max -0.0174|0.0508\n",
      "update - reward : mean : -0.0002 - sd : 0.0014 min-max -0.0100|0.0000\n",
      "update - TD-Error : mean : -0.0006 - sd : 0.0037 min-max -0.0173|0.0113\n",
      "--------------------------------------\n",
      "Agent 1 and episode 1260 \n",
      "update - q expected : mean : 0.0372 - sd : 0.0149 min-max -0.0164|0.0749\n",
      "\u001b[42mupdate - reward : mean : -0.0004 - sd : 0.0050 min-max -0.0100|0.1000\n",
      "\u001b[0mupdate - TD-Error : mean : -0.0002 - sd : 0.0055 min-max -0.0292|0.0922\n",
      "Episode 1260 || Reward : [-0.01  0.  ] || avg reward :  0.000 || Noise  0.532 || 0.164 seconds, mem : 18213\n",
      "\u001b[0m"
     ]
    },
    {
     "name": "stderr",
     "output_type": "stream",
     "text": [
      "episode: 1266/2000  63% ETA:  0:00:51 |||||||||||||||||||||||||              | \r"
     ]
    },
    {
     "name": "stdout",
     "output_type": "stream",
     "text": [
      "--------------------------------------\n",
      "Agent 0 and episode 1270 \n",
      "update - q expected : mean : 0.0374 - sd : 0.0130 min-max -0.0243|0.0506\n",
      "\u001b[42mupdate - reward : mean : -0.0001 - sd : 0.0047 min-max -0.0100|0.1000\n",
      "\u001b[0mupdate - TD-Error : mean : 0.0005 - sd : 0.0058 min-max -0.0595|0.0856\n",
      "--------------------------------------\n",
      "Agent 1 and episode 1270 \n",
      "update - q expected : mean : 0.0377 - sd : 0.0133 min-max -0.0102|0.0505\n",
      "update - reward : mean : -0.0003 - sd : 0.0016 min-max -0.0100|0.0000\n",
      "update - TD-Error : mean : 0.0003 - sd : 0.0038 min-max -0.0467|0.0133\n"
     ]
    },
    {
     "name": "stderr",
     "output_type": "stream",
     "text": [
      "episode: 1281/2000  64% ETA:  0:00:50 |////////////////////////              | \r"
     ]
    },
    {
     "name": "stdout",
     "output_type": "stream",
     "text": [
      "--------------------------------------\n",
      "Agent 0 and episode 1280 \n",
      "update - q expected : mean : 0.0363 - sd : 0.0148 min-max -0.0225|0.0505\n",
      "\u001b[42mupdate - reward : mean : -0.0003 - sd : 0.0049 min-max -0.0100|0.1000\n",
      "\u001b[0mupdate - TD-Error : mean : 0.0001 - sd : 0.0053 min-max -0.0164|0.0998\n",
      "--------------------------------------\n",
      "Agent 1 and episode 1280 \n",
      "update - q expected : mean : 0.0372 - sd : 0.0149 min-max -0.0182|0.0503\n",
      "update - reward : mean : -0.0004 - sd : 0.0019 min-max -0.0100|0.0000\n",
      "update - TD-Error : mean : -0.0005 - sd : 0.0030 min-max -0.0147|0.0113\n",
      "Episode 1280 || Reward : [-0.01  0.  ] || avg reward :  0.000 || Noise  0.527 || 0.162 seconds, mem : 18497\n",
      "\u001b[0m--------------------------------------\n",
      "Agent 0 and episode 1290 \n",
      "update - q expected : mean : 0.0365 - sd : 0.0139 min-max -0.0198|0.0515\n",
      "update - reward : mean : -0.0004 - sd : 0.0019 min-max -0.0100|0.0000\n",
      "update - TD-Error : mean : 0.0000 - sd : 0.0034 min-max -0.0170|0.0123\n",
      "--------------------------------------\n",
      "Agent 1 and episode 1290 \n",
      "update - q expected : mean : 0.0367 - sd : 0.0151 min-max -0.0192|0.0502\n",
      "update - reward : mean : -0.0004 - sd : 0.0020 min-max -0.0100|0.0000\n",
      "update - TD-Error : mean : 0.0000 - sd : 0.0031 min-max -0.0151|0.0099\n"
     ]
    },
    {
     "name": "stderr",
     "output_type": "stream",
     "text": [
      "episode: 1296/2000  64% ETA:  0:00:49 |------------------------              | \r"
     ]
    },
    {
     "name": "stdout",
     "output_type": "stream",
     "text": [
      "--------------------------------------\n",
      "Agent 0 and episode 1300 \n",
      "update - q expected : mean : 0.0363 - sd : 0.0149 min-max -0.0200|0.0642\n",
      "\u001b[42mupdate - reward : mean : -0.0000 - sd : 0.0066 min-max -0.0100|0.1000\n",
      "\u001b[0mupdate - TD-Error : mean : 0.0004 - sd : 0.0073 min-max -0.0138|0.1080\n",
      "--------------------------------------\n",
      "Agent 1 and episode 1300 \n",
      "update - q expected : mean : 0.0364 - sd : 0.0151 min-max -0.0190|0.0511\n",
      "update - reward : mean : -0.0004 - sd : 0.0020 min-max -0.0100|0.0000\n",
      "update - TD-Error : mean : 0.0000 - sd : 0.0033 min-max -0.0127|0.0111\n",
      "Episode 1300 || Reward : [-0.01  0.  ] || avg reward :  0.000 || Noise  0.522 || 0.168 seconds, mem : 18781\n",
      "\u001b[0m"
     ]
    },
    {
     "name": "stderr",
     "output_type": "stream",
     "text": [
      "episode: 1311/2000  65% ETA:  0:00:48 |\\\\\\\\\\\\\\\\\\\\\\\\\\\\\\\\\\\\\\\\\\\\\\\\              | \r"
     ]
    },
    {
     "name": "stdout",
     "output_type": "stream",
     "text": [
      "--------------------------------------\n",
      "Agent 0 and episode 1310 \n",
      "update - q expected : mean : 0.0360 - sd : 0.0149 min-max -0.0177|0.0519\n",
      "update - reward : mean : -0.0005 - sd : 0.0021 min-max -0.0100|0.0000\n",
      "update - TD-Error : mean : -0.0002 - sd : 0.0033 min-max -0.0134|0.0133\n",
      "--------------------------------------\n",
      "Agent 1 and episode 1310 \n",
      "update - q expected : mean : 0.0367 - sd : 0.0148 min-max -0.0190|0.0504\n",
      "update - reward : mean : -0.0004 - sd : 0.0020 min-max -0.0100|0.0000\n",
      "update - TD-Error : mean : -0.0005 - sd : 0.0032 min-max -0.0156|0.0126\n",
      "--------------------------------------\n",
      "Agent 0 and episode 1320 \n",
      "update - q expected : mean : 0.0367 - sd : 0.0149 min-max -0.0264|0.0513\n",
      "update - reward : mean : -0.0003 - sd : 0.0017 min-max -0.0100|0.0000\n",
      "update - TD-Error : mean : 0.0005 - sd : 0.0035 min-max -0.0310|0.0164\n",
      "--------------------------------------\n",
      "Agent 1 and episode 1320 \n",
      "update - q expected : mean : 0.0367 - sd : 0.0149 min-max -0.0229|0.0636\n",
      "update - reward : mean : -0.0004 - sd : 0.0019 min-max -0.0100|0.0000\n",
      "update - TD-Error : mean : 0.0005 - sd : 0.0040 min-max -0.0440|0.0129\n",
      "Episode 1320 || Reward : [-0.01  0.  ] || avg reward :  0.000 || Noise  0.517 || 0.159 seconds, mem : 19065\n",
      "\u001b[0m"
     ]
    },
    {
     "name": "stderr",
     "output_type": "stream",
     "text": [
      "episode: 1327/2000  66% ETA:  0:00:46 ||||||||||||||||||||||||||             | \r"
     ]
    },
    {
     "name": "stdout",
     "output_type": "stream",
     "text": [
      "--------------------------------------\n",
      "Agent 0 and episode 1330 \n",
      "update - q expected : mean : 0.0366 - sd : 0.0135 min-max -0.0184|0.0531\n",
      "update - reward : mean : -0.0004 - sd : 0.0019 min-max -0.0100|0.0000\n",
      "update - TD-Error : mean : 0.0003 - sd : 0.0034 min-max -0.0187|0.0144\n",
      "--------------------------------------\n",
      "Agent 1 and episode 1330 \n",
      "update - q expected : mean : 0.0369 - sd : 0.0140 min-max -0.0206|0.0512\n",
      "update - reward : mean : -0.0003 - sd : 0.0016 min-max -0.0100|0.0000\n",
      "update - TD-Error : mean : 0.0003 - sd : 0.0035 min-max -0.0243|0.0125\n"
     ]
    },
    {
     "name": "stderr",
     "output_type": "stream",
     "text": [
      "episode: 1341/2000  67% ETA:  0:00:46 |/////////////////////////             | \r"
     ]
    },
    {
     "name": "stdout",
     "output_type": "stream",
     "text": [
      "--------------------------------------\n",
      "Agent 0 and episode 1340 \n",
      "update - q expected : mean : 0.0371 - sd : 0.0132 min-max -0.0162|0.0503\n",
      "update - reward : mean : -0.0004 - sd : 0.0019 min-max -0.0100|0.0000\n",
      "update - TD-Error : mean : -0.0004 - sd : 0.0043 min-max -0.0475|0.0113\n",
      "--------------------------------------\n",
      "Agent 1 and episode 1340 \n",
      "update - q expected : mean : 0.0372 - sd : 0.0133 min-max -0.0140|0.0515\n",
      "\u001b[42mupdate - reward : mean : -0.0001 - sd : 0.0043 min-max -0.0100|0.0900\n",
      "\u001b[0mupdate - TD-Error : mean : -0.0000 - sd : 0.0044 min-max -0.0356|0.0549\n",
      "Episode 1340 || Reward : [-0.01  0.  ] || avg reward :  0.000 || Noise  0.511 || 0.189 seconds, mem : 19349\n",
      "\u001b[0m--------------------------------------\n",
      "Agent 0 and episode 1350 \n",
      "update - q expected : mean : 0.0376 - sd : 0.0132 min-max -0.0185|0.0507\n",
      "update - reward : mean : -0.0003 - sd : 0.0016 min-max -0.0100|0.0000\n",
      "update - TD-Error : mean : -0.0001 - sd : 0.0029 min-max -0.0119|0.0131\n",
      "--------------------------------------\n",
      "Agent 1 and episode 1350 \n",
      "update - q expected : mean : 0.0376 - sd : 0.0131 min-max -0.0136|0.0523\n",
      "\u001b[42mupdate - reward : mean : -0.0002 - sd : 0.0048 min-max -0.0100|0.1000\n",
      "\u001b[0mupdate - TD-Error : mean : 0.0000 - sd : 0.0053 min-max -0.0175|0.0980\n"
     ]
    },
    {
     "name": "stderr",
     "output_type": "stream",
     "text": [
      "episode: 1355/2000  67% ETA:  0:00:45 |-------------------------             | \r"
     ]
    },
    {
     "name": "stdout",
     "output_type": "stream",
     "text": [
      "--------------------------------------\n",
      "Agent 0 and episode 1360 \n",
      "update - q expected : mean : 0.0375 - sd : 0.0136 min-max -0.0234|0.0505\n",
      "update - reward : mean : -0.0003 - sd : 0.0018 min-max -0.0100|0.0000\n",
      "update - TD-Error : mean : -0.0000 - sd : 0.0030 min-max -0.0130|0.0173\n",
      "--------------------------------------\n",
      "Agent 1 and episode 1360 \n",
      "update - q expected : mean : 0.0375 - sd : 0.0133 min-max -0.0188|0.0518\n",
      "update - reward : mean : -0.0002 - sd : 0.0014 min-max -0.0100|0.0000\n",
      "update - TD-Error : mean : 0.0003 - sd : 0.0031 min-max -0.0169|0.0161\n",
      "Episode 1360 || Reward : [-0.01  0.  ] || avg reward :  0.000 || Noise  0.506 || 0.245 seconds, mem : 19633\n",
      "\u001b[0m"
     ]
    },
    {
     "name": "stderr",
     "output_type": "stream",
     "text": [
      "episode: 1367/2000  68% ETA:  0:00:44 |\\\\\\\\\\\\\\\\\\\\\\\\\\\\\\\\\\\\\\\\\\\\\\\\\\             | \r"
     ]
    },
    {
     "name": "stdout",
     "output_type": "stream",
     "text": [
      "--------------------------------------\n",
      "Agent 0 and episode 1370 \n",
      "update - q expected : mean : 0.0373 - sd : 0.0137 min-max -0.0165|0.0503\n",
      "\u001b[42mupdate - reward : mean : -0.0001 - sd : 0.0048 min-max -0.0100|0.1000\n",
      "\u001b[0mupdate - TD-Error : mean : -0.0003 - sd : 0.0055 min-max -0.0155|0.1021\n",
      "--------------------------------------\n",
      "Agent 1 and episode 1370 \n",
      "update - q expected : mean : 0.0372 - sd : 0.0140 min-max -0.0140|0.0513\n",
      "update - reward : mean : -0.0003 - sd : 0.0017 min-max -0.0100|0.0000\n",
      "update - TD-Error : mean : -0.0001 - sd : 0.0029 min-max -0.0142|0.0077\n"
     ]
    },
    {
     "name": "stderr",
     "output_type": "stream",
     "text": [
      "episode: 1380/2000  69% ETA:  0:00:43 |||||||||||||||||||||||||||            | \r"
     ]
    },
    {
     "name": "stdout",
     "output_type": "stream",
     "text": [
      "--------------------------------------\n",
      "Agent 0 and episode 1380 \n",
      "update - q expected : mean : 0.0376 - sd : 0.0131 min-max -0.0178|0.0510\n",
      "update - reward : mean : -0.0003 - sd : 0.0016 min-max -0.0100|0.0000\n",
      "update - TD-Error : mean : -0.0007 - sd : 0.0031 min-max -0.0164|0.0084\n",
      "--------------------------------------\n",
      "Agent 1 and episode 1380 \n",
      "update - q expected : mean : 0.0375 - sd : 0.0137 min-max -0.0131|0.0622\n",
      "update - reward : mean : -0.0004 - sd : 0.0020 min-max -0.0100|0.0000\n",
      "update - TD-Error : mean : -0.0007 - sd : 0.0031 min-max -0.0164|0.0106\n",
      "Episode 1380 || Reward : [ 0.   -0.01] || avg reward :  0.000 || Noise  0.501 || 0.222 seconds, mem : 19917\n",
      "\u001b[0m"
     ]
    },
    {
     "name": "stderr",
     "output_type": "stream",
     "text": [
      "episode: 1391/2000  69% ETA:  0:00:42 |//////////////////////////            | \r"
     ]
    },
    {
     "name": "stdout",
     "output_type": "stream",
     "text": [
      "--------------------------------------\n",
      "Agent 0 and episode 1390 \n",
      "update - q expected : mean : 0.0368 - sd : 0.0143 min-max -0.0170|0.0508\n",
      "\u001b[42mupdate - reward : mean : -0.0002 - sd : 0.0049 min-max -0.0100|0.1000\n",
      "\u001b[0mupdate - TD-Error : mean : -0.0004 - sd : 0.0055 min-max -0.0167|0.1014\n",
      "--------------------------------------\n",
      "Agent 1 and episode 1390 \n",
      "update - q expected : mean : 0.0370 - sd : 0.0143 min-max -0.0158|0.0513\n",
      "update - reward : mean : -0.0004 - sd : 0.0018 min-max -0.0100|0.0000\n",
      "update - TD-Error : mean : -0.0005 - sd : 0.0031 min-max -0.0172|0.0110\n"
     ]
    },
    {
     "name": "stderr",
     "output_type": "stream",
     "text": [
      "episode: 1402/2000  70% ETA:  0:00:42 |--------------------------            | \r"
     ]
    },
    {
     "name": "stdout",
     "output_type": "stream",
     "text": [
      "--------------------------------------\n",
      "Agent 0 and episode 1400 \n",
      "update - q expected : mean : 0.0367 - sd : 0.0147 min-max -0.0221|0.0514\n",
      "\u001b[42mupdate - reward : mean : -0.0002 - sd : 0.0048 min-max -0.0100|0.1000\n",
      "\u001b[0mupdate - TD-Error : mean : 0.0003 - sd : 0.0052 min-max -0.0125|0.0982\n",
      "--------------------------------------\n",
      "Agent 1 and episode 1400 \n",
      "update - q expected : mean : 0.0366 - sd : 0.0148 min-max -0.0180|0.0523\n",
      "update - reward : mean : -0.0003 - sd : 0.0017 min-max -0.0100|0.0000\n",
      "update - TD-Error : mean : 0.0004 - sd : 0.0029 min-max -0.0174|0.0105\n",
      "Episode 1400 || Reward : [ 0.   -0.01] || avg reward :  0.000 || Noise  0.496 || 0.238 seconds, mem : 20201\n",
      "\u001b[0m--------------------------------------\n",
      "Agent 0 and episode 1410 \n",
      "update - q expected : mean : 0.0359 - sd : 0.0165 min-max -0.0248|0.0509\n",
      "\u001b[42mupdate - reward : mean : -0.0004 - sd : 0.0050 min-max -0.0100|0.1000\n",
      "\u001b[0mupdate - TD-Error : mean : 0.0003 - sd : 0.0056 min-max -0.0140|0.1041\n",
      "--------------------------------------\n",
      "Agent 1 and episode 1410 \n",
      "update - q expected : mean : 0.0362 - sd : 0.0150 min-max -0.0199|0.0498\n",
      "update - reward : mean : -0.0003 - sd : 0.0016 min-max -0.0100|0.0000\n",
      "update - TD-Error : mean : 0.0004 - sd : 0.0028 min-max -0.0160|0.0099\n"
     ]
    },
    {
     "name": "stderr",
     "output_type": "stream",
     "text": [
      "episode: 1414/2000  70% ETA:  0:00:41 |\\\\\\\\\\\\\\\\\\\\\\\\\\\\\\\\\\\\\\\\\\\\\\\\\\\\            | \r"
     ]
    },
    {
     "name": "stdout",
     "output_type": "stream",
     "text": [
      "--------------------------------------\n",
      "Agent 0 and episode 1420 \n",
      "update - q expected : mean : 0.0366 - sd : 0.0146 min-max -0.0221|0.0508\n",
      "update - reward : mean : -0.0004 - sd : 0.0018 min-max -0.0100|0.0000\n",
      "update - TD-Error : mean : -0.0003 - sd : 0.0032 min-max -0.0172|0.0121\n",
      "--------------------------------------\n",
      "Agent 1 and episode 1420 \n",
      "update - q expected : mean : 0.0361 - sd : 0.0153 min-max -0.0196|0.0501\n",
      "update - reward : mean : -0.0004 - sd : 0.0020 min-max -0.0100|0.0000\n",
      "update - TD-Error : mean : 0.0003 - sd : 0.0029 min-max -0.0160|0.0114\n",
      "Episode 1420 || Reward : [-0.01  0.  ] || avg reward :  0.000 || Noise  0.491 || 0.263 seconds, mem : 20485\n",
      "\u001b[0m"
     ]
    },
    {
     "name": "stderr",
     "output_type": "stream",
     "text": [
      "episode: 1427/2000  71% ETA:  0:00:40 ||||||||||||||||||||||||||||           | \r"
     ]
    },
    {
     "name": "stdout",
     "output_type": "stream",
     "text": [
      "--------------------------------------\n",
      "Agent 0 and episode 1430 \n",
      "update - q expected : mean : 0.0362 - sd : 0.0150 min-max -0.0207|0.0512\n",
      "update - reward : mean : -0.0005 - sd : 0.0022 min-max -0.0100|0.0000\n",
      "update - TD-Error : mean : -0.0001 - sd : 0.0033 min-max -0.0161|0.0107\n",
      "--------------------------------------\n",
      "Agent 1 and episode 1430 \n",
      "update - q expected : mean : 0.0363 - sd : 0.0149 min-max -0.0188|0.0512\n",
      "update - reward : mean : -0.0003 - sd : 0.0016 min-max -0.0100|0.0000\n",
      "update - TD-Error : mean : 0.0001 - sd : 0.0030 min-max -0.0137|0.0127\n"
     ]
    },
    {
     "name": "stderr",
     "output_type": "stream",
     "text": [
      "episode: 1438/2000  71% ETA:  0:00:39 |///////////////////////////           | \r"
     ]
    },
    {
     "name": "stdout",
     "output_type": "stream",
     "text": [
      "--------------------------------------\n",
      "Agent 0 and episode 1440 \n",
      "update - q expected : mean : 0.0366 - sd : 0.0135 min-max -0.0163|0.0523\n",
      "update - reward : mean : -0.0004 - sd : 0.0018 min-max -0.0100|0.0000\n",
      "update - TD-Error : mean : -0.0003 - sd : 0.0033 min-max -0.0178|0.0117\n",
      "--------------------------------------\n",
      "Agent 1 and episode 1440 \n",
      "update - q expected : mean : 0.0365 - sd : 0.0142 min-max -0.0155|0.0515\n",
      "update - reward : mean : -0.0004 - sd : 0.0020 min-max -0.0100|0.0000\n",
      "update - TD-Error : mean : 0.0000 - sd : 0.0033 min-max -0.0306|0.0121\n",
      "Episode 1440 || Reward : [-0.01  0.  ] || avg reward :  0.000 || Noise  0.486 || 0.298 seconds, mem : 20769\n",
      "\u001b[0m"
     ]
    },
    {
     "name": "stderr",
     "output_type": "stream",
     "text": [
      "episode: 1446/2000  72% ETA:  0:00:39 |---------------------------           | \r"
     ]
    },
    {
     "name": "stdout",
     "output_type": "stream",
     "text": [
      "--------------------------------------\n",
      "Agent 0 and episode 1450 \n",
      "update - q expected : mean : 0.0366 - sd : 0.0138 min-max -0.0181|0.0505\n",
      "update - reward : mean : -0.0004 - sd : 0.0020 min-max -0.0100|0.0000\n",
      "update - TD-Error : mean : -0.0006 - sd : 0.0032 min-max -0.0150|0.0094\n",
      "--------------------------------------\n",
      "Agent 1 and episode 1450 \n",
      "update - q expected : mean : 0.0366 - sd : 0.0147 min-max -0.0165|0.0513\n",
      "\u001b[42mupdate - reward : mean : -0.0002 - sd : 0.0049 min-max -0.0100|0.1000\n",
      "\u001b[0mupdate - TD-Error : mean : -0.0002 - sd : 0.0053 min-max -0.0152|0.0946\n"
     ]
    },
    {
     "name": "stderr",
     "output_type": "stream",
     "text": [
      "episode: 1458/2000  72% ETA:  0:00:38 |\\\\\\\\\\\\\\\\\\\\\\\\\\\\\\\\\\\\\\\\\\\\\\\\\\\\\\           | \r"
     ]
    },
    {
     "name": "stdout",
     "output_type": "stream",
     "text": [
      "--------------------------------------\n",
      "Agent 0 and episode 1460 \n",
      "update - q expected : mean : 0.0358 - sd : 0.0141 min-max -0.0174|0.0501\n",
      "update - reward : mean : -0.0005 - sd : 0.0021 min-max -0.0100|0.0000\n",
      "update - TD-Error : mean : 0.0002 - sd : 0.0032 min-max -0.0117|0.0133\n",
      "--------------------------------------\n",
      "Agent 1 and episode 1460 \n",
      "update - q expected : mean : 0.0363 - sd : 0.0154 min-max -0.0180|0.0519\n",
      "update - reward : mean : -0.0004 - sd : 0.0019 min-max -0.0100|0.0000\n",
      "update - TD-Error : mean : -0.0003 - sd : 0.0027 min-max -0.0170|0.0095\n",
      "Episode 1460 || Reward : [ 0.   -0.01] || avg reward :  0.000 || Noise  0.482 || 0.341 seconds, mem : 21053\n",
      "\u001b[0m"
     ]
    },
    {
     "name": "stderr",
     "output_type": "stream",
     "text": [
      "episode: 1465/2000  73% ETA:  0:00:38 ||||||||||||||||||||||||||||           | \r"
     ]
    },
    {
     "name": "stdout",
     "output_type": "stream",
     "text": [
      "--------------------------------------\n",
      "Agent 0 and episode 1470 \n",
      "update - q expected : mean : 0.0362 - sd : 0.0135 min-max -0.0197|0.0495\n",
      "update - reward : mean : -0.0003 - sd : 0.0017 min-max -0.0100|0.0000\n",
      "update - TD-Error : mean : 0.0009 - sd : 0.0030 min-max -0.0123|0.0130\n",
      "--------------------------------------\n",
      "Agent 1 and episode 1470 \n",
      "update - q expected : mean : 0.0372 - sd : 0.0139 min-max -0.0134|0.0501\n",
      "update - reward : mean : -0.0002 - sd : 0.0015 min-max -0.0100|0.0000\n",
      "update - TD-Error : mean : 0.0002 - sd : 0.0028 min-max -0.0162|0.0103\n"
     ]
    },
    {
     "name": "stderr",
     "output_type": "stream",
     "text": [
      "episode: 1473/2000  73% ETA:  0:00:38 |///////////////////////////           | \r"
     ]
    },
    {
     "name": "stdout",
     "output_type": "stream",
     "text": [
      "--------------------------------------\n",
      "Agent 0 and episode 1480 \n",
      "update - q expected : mean : 0.0359 - sd : 0.0150 min-max -0.0201|0.0518\n",
      "\u001b[42mupdate - reward : mean : -0.0001 - sd : 0.0048 min-max -0.0100|0.1000\n",
      "\u001b[0mupdate - TD-Error : mean : 0.0005 - sd : 0.0053 min-max -0.0207|0.0908\n",
      "--------------------------------------\n",
      "Agent 1 and episode 1480 \n",
      "update - q expected : mean : 0.0367 - sd : 0.0152 min-max -0.0158|0.0569\n",
      "\u001b[42mupdate - reward : mean : -0.0001 - sd : 0.0066 min-max -0.0100|0.1000\n",
      "\u001b[0mupdate - TD-Error : mean : -0.0002 - sd : 0.0064 min-max -0.0368|0.0889\n",
      "Episode 1480 || Reward : [ 0.   -0.01] || avg reward :  0.000 || Noise  0.477 || 0.309 seconds, mem : 21337"
     ]
    },
    {
     "name": "stderr",
     "output_type": "stream",
     "text": [
      "episode: 1482/2000  74% ETA:  0:00:37 |----------------------------          | \r"
     ]
    },
    {
     "name": "stdout",
     "output_type": "stream",
     "text": [
      "\n",
      "\u001b[0m--------------------------------------\n",
      "Agent 0 and episode 1490 \n",
      "update - q expected : mean : 0.0356 - sd : 0.0151 min-max -0.0182|0.0515\n",
      "update - reward : mean : -0.0003 - sd : 0.0018 min-max -0.0100|0.0000\n",
      "update - TD-Error : mean : 0.0003 - sd : 0.0030 min-max -0.0159|0.0115\n",
      "--------------------------------------\n",
      "Agent 1 and episode 1490 \n",
      "update - q expected : mean : 0.0367 - sd : 0.0150 min-max -0.0134|0.0526\n",
      "update - reward : mean : -0.0005 - sd : 0.0022 min-max -0.0100|0.0000\n",
      "update - TD-Error : mean : -0.0008 - sd : 0.0030 min-max -0.0193|0.0091\n"
     ]
    },
    {
     "name": "stderr",
     "output_type": "stream",
     "text": [
      "episode: 1493/2000  74% ETA:  0:00:36 |\\\\\\\\\\\\\\\\\\\\\\\\\\\\\\\\\\\\\\\\\\\\\\\\\\\\\\\\          | \r"
     ]
    },
    {
     "name": "stdout",
     "output_type": "stream",
     "text": [
      "--------------------------------------\n",
      "Agent 0 and episode 1500 \n",
      "update - q expected : mean : 0.0363 - sd : 0.0139 min-max -0.0176|0.0710\n",
      "update - reward : mean : -0.0003 - sd : 0.0017 min-max -0.0100|0.0000\n",
      "update - TD-Error : mean : 0.0003 - sd : 0.0028 min-max -0.0189|0.0082\n",
      "--------------------------------------\n",
      "Agent 1 and episode 1500 \n",
      "update - q expected : mean : 0.0366 - sd : 0.0143 min-max -0.0171|0.0506\n",
      "update - reward : mean : -0.0003 - sd : 0.0016 min-max -0.0100|0.0000\n",
      "update - TD-Error : mean : 0.0003 - sd : 0.0026 min-max -0.0145|0.0093\n",
      "Episode 1500 || Reward : [ 0.   -0.01] || avg reward :  0.000 || Noise  0.472 || 0.266 seconds, mem : 21621\n",
      "\u001b[0m"
     ]
    },
    {
     "name": "stderr",
     "output_type": "stream",
     "text": [
      "episode: 1503/2000  75% ETA:  0:00:36 |||||||||||||||||||||||||||||          | \r"
     ]
    },
    {
     "name": "stdout",
     "output_type": "stream",
     "text": [
      "--------------------------------------\n",
      "Agent 0 and episode 1510 \n",
      "update - q expected : mean : 0.0364 - sd : 0.0141 min-max -0.0138|0.0501\n",
      "update - reward : mean : -0.0003 - sd : 0.0017 min-max -0.0100|0.0000\n",
      "update - TD-Error : mean : -0.0005 - sd : 0.0030 min-max -0.0181|0.0078\n",
      "--------------------------------------\n",
      "Agent 1 and episode 1510 \n",
      "update - q expected : mean : 0.0357 - sd : 0.0155 min-max -0.0172|0.0511\n",
      "update - reward : mean : -0.0004 - sd : 0.0021 min-max -0.0100|0.0000\n",
      "update - TD-Error : mean : 0.0004 - sd : 0.0026 min-max -0.0115|0.0115\n"
     ]
    },
    {
     "name": "stderr",
     "output_type": "stream",
     "text": [
      "episode: 1513/2000  75% ETA:  0:00:35 |////////////////////////////          | \r"
     ]
    },
    {
     "name": "stdout",
     "output_type": "stream",
     "text": [
      "--------------------------------------\n",
      "Agent 0 and episode 1520 \n",
      "update - q expected : mean : 0.0369 - sd : 0.0137 min-max -0.0152|0.0501\n",
      "update - reward : mean : -0.0004 - sd : 0.0019 min-max -0.0100|0.0000\n",
      "update - TD-Error : mean : -0.0008 - sd : 0.0029 min-max -0.0124|0.0066\n",
      "--------------------------------------\n",
      "Agent 1 and episode 1520 \n",
      "update - q expected : mean : 0.0359 - sd : 0.0158 min-max -0.0201|0.0617\n",
      "\u001b[42mupdate - reward : mean : -0.0002 - sd : 0.0048 min-max -0.0100|0.1000\n",
      "\u001b[0mupdate - TD-Error : mean : 0.0006 - sd : 0.0045 min-max -0.0112|0.0805\n",
      "Episode 1520 || Reward : [-0.01  0.  ] || avg reward :  0.000 || Noise  0.467 || 0.331 seconds, mem : 21905\n",
      "\u001b[0m"
     ]
    },
    {
     "name": "stderr",
     "output_type": "stream",
     "text": [
      "episode: 1531/2000  76% ETA:  0:00:34 |\\\\\\\\\\\\\\\\\\\\\\\\\\\\\\\\\\\\\\\\\\\\\\\\\\\\\\\\\\         | \r"
     ]
    },
    {
     "name": "stdout",
     "output_type": "stream",
     "text": [
      "--------------------------------------\n",
      "Agent 0 and episode 1530 \n",
      "update - q expected : mean : 0.0362 - sd : 0.0151 min-max -0.0166|0.0544\n",
      "\u001b[42mupdate - reward : mean : -0.0002 - sd : 0.0048 min-max -0.0100|0.1000\n",
      "\u001b[0mupdate - TD-Error : mean : -0.0005 - sd : 0.0052 min-max -0.0123|0.0960\n",
      "--------------------------------------\n",
      "Agent 1 and episode 1530 \n",
      "update - q expected : mean : 0.0362 - sd : 0.0156 min-max -0.0179|0.0500\n",
      "update - reward : mean : -0.0005 - sd : 0.0022 min-max -0.0100|0.0000\n",
      "update - TD-Error : mean : -0.0005 - sd : 0.0032 min-max -0.0192|0.0079\n"
     ]
    },
    {
     "name": "stderr",
     "output_type": "stream",
     "text": [
      "episode: 1540/2000  77% ETA:  0:00:34 ||||||||||||||||||||||||||||||         | \r"
     ]
    },
    {
     "name": "stdout",
     "output_type": "stream",
     "text": [
      "--------------------------------------\n",
      "Agent 0 and episode 1540 \n",
      "update - q expected : mean : 0.0361 - sd : 0.0151 min-max -0.0210|0.0508\n",
      "update - reward : mean : -0.0004 - sd : 0.0019 min-max -0.0100|0.0000\n",
      "update - TD-Error : mean : -0.0001 - sd : 0.0030 min-max -0.0184|0.0110\n",
      "--------------------------------------\n",
      "Agent 1 and episode 1540 \n",
      "update - q expected : mean : 0.0367 - sd : 0.0150 min-max -0.0200|0.0504\n",
      "update - reward : mean : -0.0004 - sd : 0.0019 min-max -0.0100|0.0000\n",
      "update - TD-Error : mean : -0.0006 - sd : 0.0026 min-max -0.0159|0.0100\n",
      "Episode 1540 || Reward : [-0.01  0.  ] || avg reward :  0.000 || Noise  0.463 || 0.328 seconds, mem : 22189\n",
      "\u001b[0m"
     ]
    },
    {
     "name": "stderr",
     "output_type": "stream",
     "text": [
      "episode: 1548/2000  77% ETA:  0:00:33 |/////////////////////////////         | \r"
     ]
    },
    {
     "name": "stdout",
     "output_type": "stream",
     "text": [
      "--------------------------------------\n",
      "Agent 0 and episode 1550 \n",
      "update - q expected : mean : 0.0361 - sd : 0.0148 min-max -0.0216|0.0853\n",
      "\u001b[42mupdate - reward : mean : -0.0002 - sd : 0.0048 min-max -0.0100|0.1000\n",
      "\u001b[0mupdate - TD-Error : mean : 0.0003 - sd : 0.0044 min-max -0.0140|0.0733\n",
      "--------------------------------------\n",
      "Agent 1 and episode 1550 \n",
      "update - q expected : mean : 0.0369 - sd : 0.0135 min-max -0.0154|0.0585\n",
      "update - reward : mean : -0.0003 - sd : 0.0017 min-max -0.0100|0.0000\n",
      "update - TD-Error : mean : -0.0004 - sd : 0.0032 min-max -0.0209|0.0092\n"
     ]
    },
    {
     "name": "stderr",
     "output_type": "stream",
     "text": [
      "episode: 1558/2000  77% ETA:  0:00:32 |-----------------------------         | \r"
     ]
    },
    {
     "name": "stdout",
     "output_type": "stream",
     "text": [
      "--------------------------------------\n",
      "Agent 0 and episode 1560 \n",
      "update - q expected : mean : 0.0359 - sd : 0.0142 min-max -0.0234|0.0711\n",
      "\u001b[42mupdate - reward : mean : 0.0001 - sd : 0.0046 min-max -0.0100|0.1000\n",
      "\u001b[0mupdate - TD-Error : mean : 0.0018 - sd : 0.0052 min-max -0.0227|0.0857\n",
      "--------------------------------------\n",
      "Agent 1 and episode 1560 \n",
      "update - q expected : mean : 0.0365 - sd : 0.0136 min-max -0.0221|0.0501\n",
      "update - reward : mean : -0.0002 - sd : 0.0014 min-max -0.0100|0.0000\n",
      "update - TD-Error : mean : 0.0013 - sd : 0.0032 min-max -0.0138|0.0121\n",
      "Episode 1560 || Reward : [-0.01  0.  ] || avg reward :  0.000 || Noise  0.458 || 0.254 seconds, mem : 22473\n",
      "\u001b[0m"
     ]
    },
    {
     "name": "stderr",
     "output_type": "stream",
     "text": [
      "episode: 1569/2000  78% ETA:  0:00:32 |\\\\\\\\\\\\\\\\\\\\\\\\\\\\\\\\\\\\\\\\\\\\\\\\\\\\\\\\\\         | \r"
     ]
    },
    {
     "name": "stdout",
     "output_type": "stream",
     "text": [
      "--------------------------------------\n",
      "Agent 0 and episode 1570 \n",
      "update - q expected : mean : 0.0364 - sd : 0.0154 min-max -0.0179|0.0724\n",
      "update - reward : mean : -0.0005 - sd : 0.0022 min-max -0.0100|0.0000\n",
      "update - TD-Error : mean : -0.0009 - sd : 0.0032 min-max -0.0240|0.0096\n",
      "--------------------------------------\n",
      "Agent 1 and episode 1570 \n",
      "update - q expected : mean : 0.0366 - sd : 0.0148 min-max -0.0143|0.0754\n",
      "\u001b[42mupdate - reward : mean : -0.0001 - sd : 0.0048 min-max -0.0100|0.1000\n",
      "\u001b[0mupdate - TD-Error : mean : -0.0005 - sd : 0.0041 min-max -0.0146|0.0678\n",
      "--------------------------------------\n",
      "Agent 0 and episode 1580 \n",
      "update - q expected : mean : 0.0370 - sd : 0.0139 min-max -0.0160|0.0685\n",
      "update - reward : mean : -0.0003 - sd : 0.0016 min-max -0.0100|0.0000\n",
      "update - TD-Error : mean : -0.0004 - sd : 0.0030 min-max -0.0236|0.0095\n"
     ]
    },
    {
     "name": "stderr",
     "output_type": "stream",
     "text": [
      "episode: 1581/2000  79% ETA:  0:00:31 |||||||||||||||||||||||||||||||        | \r"
     ]
    },
    {
     "name": "stdout",
     "output_type": "stream",
     "text": [
      "--------------------------------------\n",
      "Agent 1 and episode 1580 \n",
      "update - q expected : mean : 0.0367 - sd : 0.0143 min-max -0.0120|0.0521\n",
      "update - reward : mean : -0.0004 - sd : 0.0019 min-max -0.0100|0.0000\n",
      "update - TD-Error : mean : -0.0001 - sd : 0.0029 min-max -0.0139|0.0104\n",
      "Episode 1580 || Reward : [-0.01  0.  ] || avg reward :  0.000 || Noise  0.454 || 0.492 seconds, mem : 22757\n",
      "\u001b[0m"
     ]
    },
    {
     "name": "stderr",
     "output_type": "stream",
     "text": [
      "episode: 1592/2000  79% ETA:  0:00:30 |//////////////////////////////        | \r"
     ]
    },
    {
     "name": "stdout",
     "output_type": "stream",
     "text": [
      "--------------------------------------\n",
      "Agent 0 and episode 1590 \n",
      "update - q expected : mean : 0.0372 - sd : 0.0130 min-max -0.0127|0.0520\n",
      "update - reward : mean : -0.0003 - sd : 0.0016 min-max -0.0100|0.0000\n",
      "update - TD-Error : mean : -0.0015 - sd : 0.0033 min-max -0.0191|0.0101\n",
      "--------------------------------------\n",
      "Agent 1 and episode 1590 \n",
      "update - q expected : mean : 0.0365 - sd : 0.0137 min-max -0.0097|0.0504\n",
      "update - reward : mean : -0.0005 - sd : 0.0021 min-max -0.0100|0.0000\n",
      "update - TD-Error : mean : -0.0005 - sd : 0.0039 min-max -0.0514|0.0091\n",
      "--------------------------------------\n",
      "Agent 0 and episode 1600 \n",
      "update - q expected : mean : 0.0368 - sd : 0.0138 min-max -0.0139|0.0525\n",
      "update - reward : mean : -0.0004 - sd : 0.0020 min-max -0.0100|0.0000\n",
      "update - TD-Error : mean : -0.0005 - sd : 0.0029 min-max -0.0187|0.0116\n",
      "--------------------------------------\n",
      "Agent 1 and episode 1600 \n",
      "update - q expected : mean : 0.0368 - sd : 0.0144 min-max -0.0149|0.0830\n",
      "\u001b[42mupdate - reward : mean : -0.0000 - sd : 0.0047 min-max -0.0100|0.1000\n",
      "\u001b[0mupdate - TD-Error : mean : 0.0000 - sd : 0.0039 min-max -0.0171|0.0605\n",
      "Episode 1600 || Reward : [-0.01  0.  ] || avg reward :  0.000 || Noise  0.449 || 0.233 seconds, mem : 23041\n",
      "\u001b[0m"
     ]
    },
    {
     "name": "stderr",
     "output_type": "stream",
     "text": [
      "episode: 1604/2000  80% ETA:  0:00:29 |------------------------------        | \r"
     ]
    },
    {
     "name": "stdout",
     "output_type": "stream",
     "text": [
      "--------------------------------------\n",
      "Agent 0 and episode 1610 \n",
      "update - q expected : mean : 0.0358 - sd : 0.0147 min-max -0.0208|0.0498\n",
      "update - reward : mean : -0.0004 - sd : 0.0018 min-max -0.0100|0.0000\n",
      "update - TD-Error : mean : 0.0002 - sd : 0.0029 min-max -0.0167|0.0114\n",
      "--------------------------------------\n",
      "Agent 1 and episode 1610 \n",
      "update - q expected : mean : 0.0363 - sd : 0.0147 min-max -0.0158|0.0512\n",
      "update - reward : mean : -0.0003 - sd : 0.0018 min-max -0.0100|0.0000\n",
      "update - TD-Error : mean : 0.0001 - sd : 0.0027 min-max -0.0115|0.0091\n"
     ]
    },
    {
     "name": "stderr",
     "output_type": "stream",
     "text": [
      "episode: 1615/2000  80% ETA:  0:00:29 |\\\\\\\\\\\\\\\\\\\\\\\\\\\\\\\\\\\\\\\\\\\\\\\\\\\\\\\\\\\\        | \r"
     ]
    },
    {
     "name": "stdout",
     "output_type": "stream",
     "text": [
      "--------------------------------------\n",
      "Agent 0 and episode 1620 \n",
      "update - q expected : mean : 0.0350 - sd : 0.0159 min-max -0.0221|0.0515\n",
      "update - reward : mean : -0.0004 - sd : 0.0019 min-max -0.0100|0.0000\n",
      "update - TD-Error : mean : 0.0006 - sd : 0.0030 min-max -0.0192|0.0121\n",
      "--------------------------------------\n",
      "Agent 1 and episode 1620 \n",
      "update - q expected : mean : 0.0354 - sd : 0.0162 min-max -0.0209|0.0516\n",
      "update - reward : mean : -0.0004 - sd : 0.0020 min-max -0.0100|0.0000\n",
      "update - TD-Error : mean : 0.0001 - sd : 0.0031 min-max -0.0163|0.0109\n",
      "Episode 1620 || Reward : [-0.01  0.  ] || avg reward :  0.000 || Noise  0.445 || 0.209 seconds, mem : 23325\n",
      "\u001b[0m"
     ]
    },
    {
     "name": "stderr",
     "output_type": "stream",
     "text": [
      "episode: 1627/2000  81% ETA:  0:00:28 |||||||||||||||||||||||||||||||        | \r"
     ]
    },
    {
     "name": "stdout",
     "output_type": "stream",
     "text": [
      "--------------------------------------\n",
      "Agent 0 and episode 1630 \n",
      "update - q expected : mean : 0.0352 - sd : 0.0157 min-max -0.0201|0.0807\n",
      "\u001b[42mupdate - reward : mean : -0.0002 - sd : 0.0048 min-max -0.0100|0.1000\n",
      "\u001b[0mupdate - TD-Error : mean : 0.0013 - sd : 0.0045 min-max -0.0329|0.0661\n",
      "--------------------------------------\n",
      "Agent 1 and episode 1630 \n",
      "update - q expected : mean : 0.0360 - sd : 0.0152 min-max -0.0226|0.0505\n",
      "update - reward : mean : -0.0003 - sd : 0.0016 min-max -0.0100|0.0000\n",
      "update - TD-Error : mean : 0.0005 - sd : 0.0027 min-max -0.0138|0.0126\n"
     ]
    },
    {
     "name": "stderr",
     "output_type": "stream",
     "text": [
      "episode: 1638/2000  81% ETA:  0:00:27 |///////////////////////////////       | \r"
     ]
    },
    {
     "name": "stdout",
     "output_type": "stream",
     "text": [
      "--------------------------------------\n",
      "Agent 0 and episode 1640 \n",
      "update - q expected : mean : 0.0349 - sd : 0.0159 min-max -0.0216|0.0763\n",
      "\u001b[42mupdate - reward : mean : -0.0001 - sd : 0.0048 min-max -0.0100|0.1000\n",
      "\u001b[0mupdate - TD-Error : mean : 0.0007 - sd : 0.0046 min-max -0.0185|0.0758\n",
      "--------------------------------------\n",
      "Agent 1 and episode 1640 \n",
      "update - q expected : mean : 0.0357 - sd : 0.0158 min-max -0.0209|0.0513\n",
      "update - reward : mean : -0.0005 - sd : 0.0022 min-max -0.0100|0.0000\n",
      "update - TD-Error : mean : -0.0002 - sd : 0.0029 min-max -0.0136|0.0109\n",
      "Episode 1640 || Reward : [ 0.   -0.01] || avg reward :  0.000 || Noise  0.440 || 0.223 seconds, mem : 23609\n",
      "\u001b[0m"
     ]
    },
    {
     "name": "stderr",
     "output_type": "stream",
     "text": [
      "episode: 1649/2000  82% ETA:  0:00:26 |-------------------------------       | \r"
     ]
    },
    {
     "name": "stdout",
     "output_type": "stream",
     "text": [
      "--------------------------------------\n",
      "Agent 0 and episode 1650 \n",
      "update - q expected : mean : 0.0365 - sd : 0.0140 min-max -0.0136|0.0837\n",
      "\u001b[42mupdate - reward : mean : -0.0001 - sd : 0.0048 min-max -0.0100|0.1000\n",
      "\u001b[0mupdate - TD-Error : mean : -0.0000 - sd : 0.0037 min-max -0.0126|0.0624\n",
      "--------------------------------------\n",
      "Agent 1 and episode 1650 \n",
      "update - q expected : mean : 0.0369 - sd : 0.0139 min-max -0.0162|0.0509\n",
      "update - reward : mean : -0.0004 - sd : 0.0018 min-max -0.0100|0.0000\n",
      "update - TD-Error : mean : -0.0006 - sd : 0.0025 min-max -0.0122|0.0070\n"
     ]
    },
    {
     "name": "stderr",
     "output_type": "stream",
     "text": [
      "episode: 1659/2000  82% ETA:  0:00:25 |\\\\\\\\\\\\\\\\\\\\\\\\\\\\\\\\\\\\\\\\\\\\\\\\\\\\\\\\\\\\\\       | \r"
     ]
    },
    {
     "name": "stdout",
     "output_type": "stream",
     "text": [
      "--------------------------------------\n",
      "Agent 0 and episode 1660 \n",
      "update - q expected : mean : 0.0368 - sd : 0.0131 min-max -0.0109|0.0507\n",
      "update - reward : mean : -0.0004 - sd : 0.0019 min-max -0.0100|0.0000\n",
      "update - TD-Error : mean : -0.0007 - sd : 0.0028 min-max -0.0165|0.0066\n",
      "--------------------------------------\n",
      "Agent 1 and episode 1660 \n",
      "update - q expected : mean : 0.0368 - sd : 0.0140 min-max -0.0167|0.0519\n",
      "update - reward : mean : -0.0003 - sd : 0.0016 min-max -0.0100|0.0000\n",
      "update - TD-Error : mean : -0.0003 - sd : 0.0031 min-max -0.0246|0.0138\n",
      "Episode 1660 || Reward : [ 0.   -0.01] || avg reward :  0.000 || Noise  0.436 || 0.214 seconds, mem : 23893\n",
      "\u001b[0m"
     ]
    },
    {
     "name": "stderr",
     "output_type": "stream",
     "text": [
      "episode: 1670/2000  83% ETA:  0:00:25 ||||||||||||||||||||||||||||||||       | \r"
     ]
    },
    {
     "name": "stdout",
     "output_type": "stream",
     "text": [
      "--------------------------------------\n",
      "Agent 0 and episode 1670 \n",
      "update - q expected : mean : 0.0361 - sd : 0.0145 min-max -0.0132|0.0494\n",
      "update - reward : mean : -0.0004 - sd : 0.0019 min-max -0.0100|0.0000\n",
      "update - TD-Error : mean : -0.0010 - sd : 0.0029 min-max -0.0152|0.0051\n",
      "--------------------------------------\n",
      "Agent 1 and episode 1670 \n",
      "update - q expected : mean : 0.0358 - sd : 0.0153 min-max -0.0158|0.0519\n",
      "update - reward : mean : -0.0005 - sd : 0.0021 min-max -0.0100|0.0000\n",
      "update - TD-Error : mean : -0.0005 - sd : 0.0028 min-max -0.0151|0.0091\n"
     ]
    },
    {
     "name": "stderr",
     "output_type": "stream",
     "text": [
      "episode: 1681/2000  84% ETA:  0:00:24 |///////////////////////////////       | \r"
     ]
    },
    {
     "name": "stdout",
     "output_type": "stream",
     "text": [
      "--------------------------------------\n",
      "Agent 0 and episode 1680 \n",
      "update - q expected : mean : 0.0360 - sd : 0.0145 min-max -0.0141|0.0867\n",
      "update - reward : mean : -0.0003 - sd : 0.0018 min-max -0.0100|0.0000\n",
      "update - TD-Error : mean : -0.0000 - sd : 0.0031 min-max -0.0346|0.0093\n",
      "--------------------------------------\n",
      "Agent 1 and episode 1680 \n",
      "update - q expected : mean : 0.0360 - sd : 0.0150 min-max -0.0191|0.0893\n",
      "update - reward : mean : -0.0004 - sd : 0.0018 min-max -0.0100|0.0000\n",
      "update - TD-Error : mean : 0.0002 - sd : 0.0031 min-max -0.0410|0.0091\n",
      "Episode 1680 || Reward : [-0.01  0.  ] || avg reward :  0.000 || Noise  0.431 || 0.201 seconds, mem : 24177\n",
      "\u001b[0m--------------------------------------\n",
      "Agent 0 and episode 1690 \n",
      "update - q expected : mean : 0.0355 - sd : 0.0155 min-max -0.0232|0.0573\n",
      "update - reward : mean : -0.0003 - sd : 0.0016 min-max -0.0100|0.0000\n",
      "update - TD-Error : mean : 0.0010 - sd : 0.0036 min-max -0.0287|0.0132\n",
      "--------------------------------------"
     ]
    },
    {
     "name": "stderr",
     "output_type": "stream",
     "text": [
      "episode: 1691/2000  84% ETA:  0:00:23 |--------------------------------      | \r"
     ]
    },
    {
     "name": "stdout",
     "output_type": "stream",
     "text": [
      "\n",
      "Agent 1 and episode 1690 \n",
      "update - q expected : mean : 0.0360 - sd : 0.0144 min-max -0.0165|0.0506\n",
      "update - reward : mean : -0.0003 - sd : 0.0017 min-max -0.0100|0.0000\n",
      "update - TD-Error : mean : 0.0007 - sd : 0.0032 min-max -0.0402|0.0126\n",
      "--------------------------------------\n",
      "Agent 0 and episode 1700 \n",
      "update - q expected : mean : 0.0362 - sd : 0.0144 min-max -0.0215|0.0564\n",
      "update - reward : mean : -0.0003 - sd : 0.0016 min-max -0.0100|0.0000\n",
      "update - TD-Error : mean : -0.0001 - sd : 0.0030 min-max -0.0314|0.0134\n",
      "--------------------------------------\n",
      "Agent 1 and episode 1700 \n",
      "update - q expected : mean : 0.0360 - sd : 0.0148 min-max -0.0188|0.0514\n",
      "update - reward : mean : -0.0004 - sd : 0.0018 min-max -0.0100|0.0000\n",
      "update - TD-Error : mean : 0.0004 - sd : 0.0032 min-max -0.0357|0.0098\n",
      "Episode 1700 || Reward : [ 0.   -0.01] || avg reward :  0.000 || Noise  0.427 || 0.196 seconds, mem : 24461\n",
      "\u001b[0m"
     ]
    },
    {
     "name": "stderr",
     "output_type": "stream",
     "text": [
      "episode: 1704/2000  85% ETA:  0:00:22 |\\\\\\\\\\\\\\\\\\\\\\\\\\\\\\\\\\\\\\\\\\\\\\\\\\\\\\\\\\\\\\\\      | \r"
     ]
    },
    {
     "name": "stdout",
     "output_type": "stream",
     "text": [
      "--------------------------------------\n",
      "Agent 0 and episode 1710 \n",
      "update - q expected : mean : 0.0364 - sd : 0.0142 min-max -0.0094|0.0874\n",
      "update - reward : mean : -0.0004 - sd : 0.0020 min-max -0.0100|0.0000\n",
      "update - TD-Error : mean : -0.0016 - sd : 0.0041 min-max -0.0469|0.0088\n",
      "--------------------------------------\n",
      "Agent 1 and episode 1710 \n",
      "update - q expected : mean : 0.0355 - sd : 0.0156 min-max -0.0151|0.0622\n",
      "update - reward : mean : -0.0005 - sd : 0.0022 min-max -0.0100|0.0000\n",
      "update - TD-Error : mean : -0.0009 - sd : 0.0032 min-max -0.0240|0.0073\n"
     ]
    },
    {
     "name": "stderr",
     "output_type": "stream",
     "text": [
      "episode: 1716/2000  85% ETA:  0:00:21 |||||||||||||||||||||||||||||||||      | \r"
     ]
    },
    {
     "name": "stdout",
     "output_type": "stream",
     "text": [
      "--------------------------------------\n",
      "Agent 0 and episode 1720 \n",
      "update - q expected : mean : 0.0358 - sd : 0.0150 min-max -0.0193|0.0590\n",
      "\u001b[42mupdate - reward : mean : -0.0001 - sd : 0.0048 min-max -0.0100|0.1000\n",
      "\u001b[0mupdate - TD-Error : mean : 0.0005 - sd : 0.0051 min-max -0.0143|0.0998\n",
      "--------------------------------------\n",
      "Agent 1 and episode 1720 \n",
      "update - q expected : mean : 0.0360 - sd : 0.0150 min-max -0.0178|0.0504\n",
      "update - reward : mean : -0.0003 - sd : 0.0018 min-max -0.0100|0.0000\n",
      "update - TD-Error : mean : 0.0003 - sd : 0.0028 min-max -0.0198|0.0087\n",
      "Episode 1720 || Reward : [-0.01  0.  ] || avg reward :  0.000 || Noise  0.423 || 0.226 seconds, mem : 24745\n",
      "\u001b[0m"
     ]
    },
    {
     "name": "stderr",
     "output_type": "stream",
     "text": [
      "episode: 1728/2000  86% ETA:  0:00:20 |////////////////////////////////      | \r"
     ]
    },
    {
     "name": "stdout",
     "output_type": "stream",
     "text": [
      "--------------------------------------\n",
      "Agent 0 and episode 1730 \n",
      "update - q expected : mean : 0.0354 - sd : 0.0152 min-max -0.0190|0.0505\n",
      "update - reward : mean : -0.0003 - sd : 0.0018 min-max -0.0100|0.0000\n",
      "update - TD-Error : mean : 0.0007 - sd : 0.0024 min-max -0.0122|0.0090\n",
      "--------------------------------------\n",
      "Agent 1 and episode 1730 \n",
      "update - q expected : mean : 0.0357 - sd : 0.0158 min-max -0.0205|0.0617\n",
      "update - reward : mean : -0.0003 - sd : 0.0017 min-max -0.0100|0.0000\n",
      "update - TD-Error : mean : 0.0004 - sd : 0.0030 min-max -0.0237|0.0105\n"
     ]
    },
    {
     "name": "stderr",
     "output_type": "stream",
     "text": [
      "episode: 1739/2000  86% ETA:  0:00:19 |---------------------------------     | \r"
     ]
    },
    {
     "name": "stdout",
     "output_type": "stream",
     "text": [
      "--------------------------------------\n",
      "Agent 0 and episode 1740 \n",
      "update - q expected : mean : 0.0358 - sd : 0.0145 min-max -0.0175|0.0503\n",
      "update - reward : mean : -0.0002 - sd : 0.0014 min-max -0.0100|0.0000\n",
      "update - TD-Error : mean : 0.0004 - sd : 0.0026 min-max -0.0172|0.0093\n",
      "--------------------------------------\n",
      "Agent 1 and episode 1740 \n",
      "update - q expected : mean : 0.0363 - sd : 0.0148 min-max -0.0178|0.0496\n",
      "update - reward : mean : -0.0004 - sd : 0.0019 min-max -0.0100|0.0000\n",
      "update - TD-Error : mean : 0.0002 - sd : 0.0027 min-max -0.0197|0.0087\n",
      "Episode 1740 || Reward : [-0.01  0.  ] || avg reward :  0.000 || Noise  0.419 || 0.229 seconds, mem : 25029\n",
      "\u001b[0m"
     ]
    },
    {
     "name": "stderr",
     "output_type": "stream",
     "text": [
      "episode: 1751/2000  87% ETA:  0:00:19 |\\\\\\\\\\\\\\\\\\\\\\\\\\\\\\\\\\\\\\\\\\\\\\\\\\\\\\\\\\\\\\\\\\     | \r"
     ]
    },
    {
     "name": "stdout",
     "output_type": "stream",
     "text": [
      "--------------------------------------\n",
      "Agent 0 and episode 1750 \n",
      "update - q expected : mean : 0.0360 - sd : 0.0140 min-max -0.0151|0.0586\n",
      "update - reward : mean : -0.0003 - sd : 0.0016 min-max -0.0100|0.0000\n",
      "update - TD-Error : mean : 0.0001 - sd : 0.0027 min-max -0.0229|0.0090\n",
      "--------------------------------------\n",
      "Agent 1 and episode 1750 \n",
      "update - q expected : mean : 0.0367 - sd : 0.0138 min-max -0.0150|0.0644\n",
      "\u001b[42mupdate - reward : mean : -0.0001 - sd : 0.0047 min-max -0.0100|0.1000\n",
      "\u001b[0mupdate - TD-Error : mean : 0.0001 - sd : 0.0049 min-max -0.0285|0.0909\n",
      "--------------------------------------\n",
      "Agent 0 and episode 1760 \n",
      "update - q expected : mean : 0.0363 - sd : 0.0143 min-max -0.0145|0.0853\n",
      "\u001b[42mupdate - reward : mean : -0.0002 - sd : 0.0048 min-max -0.0100|0.1000\n",
      "\u001b[0mupdate - TD-Error : mean : -0.0004 - sd : 0.0043 min-max -0.0172|0.0694\n",
      "--------------------------------------\n",
      "Agent 1 and episode 1760 \n",
      "update - q expected : mean : 0.0371 - sd : 0.0134 min-max -0.0108|0.0577\n",
      "\u001b[42mupdate - reward : mean : -0.0001 - sd : 0.0048 min-max -0.0100|0.1000\n",
      "\u001b[0mupdate - TD-Error : mean : -0.0012 - sd : 0.0052 min-max -0.0201|0.0926\n",
      "Episode 1760 || Reward : [-0.01  0.  ] || avg reward :  0.000 || Noise  0.414 || 0.206 seconds, mem : 25313\n",
      "\u001b[0m"
     ]
    },
    {
     "name": "stderr",
     "output_type": "stream",
     "text": [
      "episode: 1763/2000  88% ETA:  0:00:18 ||||||||||||||||||||||||||||||||||     | \r"
     ]
    },
    {
     "name": "stdout",
     "output_type": "stream",
     "text": [
      "--------------------------------------\n",
      "Agent 0 and episode 1770 \n",
      "update - q expected : mean : 0.0362 - sd : 0.0139 min-max -0.0142|0.0773\n",
      "update - reward : mean : -0.0002 - sd : 0.0015 min-max -0.0100|0.0000\n",
      "update - TD-Error : mean : -0.0005 - sd : 0.0029 min-max -0.0247|0.0075\n",
      "--------------------------------------\n",
      "Agent 1 and episode 1770 \n",
      "update - q expected : mean : 0.0367 - sd : 0.0135 min-max -0.0125|0.0501\n",
      "update - reward : mean : -0.0004 - sd : 0.0019 min-max -0.0100|0.0000\n",
      "update - TD-Error : mean : -0.0006 - sd : 0.0030 min-max -0.0289|0.0066\n"
     ]
    },
    {
     "name": "stderr",
     "output_type": "stream",
     "text": [
      "episode: 1776/2000  88% ETA:  0:00:17 |/////////////////////////////////     | \r"
     ]
    },
    {
     "name": "stdout",
     "output_type": "stream",
     "text": [
      "--------------------------------------\n",
      "Agent 0 and episode 1780 \n",
      "update - q expected : mean : 0.0360 - sd : 0.0149 min-max -0.0161|0.0516\n",
      "update - reward : mean : -0.0003 - sd : 0.0018 min-max -0.0100|0.0000\n",
      "update - TD-Error : mean : -0.0001 - sd : 0.0024 min-max -0.0123|0.0070\n",
      "--------------------------------------\n",
      "Agent 1 and episode 1780 \n",
      "update - q expected : mean : 0.0362 - sd : 0.0149 min-max -0.0184|0.0511\n",
      "update - reward : mean : -0.0003 - sd : 0.0017 min-max -0.0100|0.0000\n",
      "update - TD-Error : mean : 0.0000 - sd : 0.0029 min-max -0.0201|0.0085\n",
      "Episode 1780 || Reward : [-0.01  0.  ] || avg reward :  0.000 || Noise  0.410 || 0.227 seconds, mem : 25597\n",
      "\u001b[0m"
     ]
    },
    {
     "name": "stderr",
     "output_type": "stream",
     "text": [
      "episode: 1788/2000  89% ETA:  0:00:16 |---------------------------------     | \r"
     ]
    },
    {
     "name": "stdout",
     "output_type": "stream",
     "text": [
      "--------------------------------------\n",
      "Agent 0 and episode 1790 \n",
      "update - q expected : mean : 0.0357 - sd : 0.0148 min-max -0.0195|0.0699\n",
      "\u001b[42mupdate - reward : mean : -0.0001 - sd : 0.0047 min-max -0.0100|0.1000\n",
      "\u001b[0mupdate - TD-Error : mean : 0.0003 - sd : 0.0047 min-max -0.0197|0.0861\n",
      "--------------------------------------\n",
      "Agent 1 and episode 1790 \n",
      "update - q expected : mean : 0.0355 - sd : 0.0155 min-max -0.0190|0.0660\n",
      "update - reward : mean : -0.0004 - sd : 0.0020 min-max -0.0100|0.0000\n",
      "update - TD-Error : mean : 0.0004 - sd : 0.0029 min-max -0.0161|0.0111\n"
     ]
    },
    {
     "name": "stderr",
     "output_type": "stream",
     "text": [
      "episode: 1799/2000  89% ETA:  0:00:15 |\\\\\\\\\\\\\\\\\\\\\\\\\\\\\\\\\\\\\\\\\\\\\\\\\\\\\\\\\\\\\\\\\\\\    | \r"
     ]
    },
    {
     "name": "stdout",
     "output_type": "stream",
     "text": [
      "--------------------------------------\n",
      "Agent 0 and episode 1800 \n",
      "update - q expected : mean : 0.0354 - sd : 0.0157 min-max -0.0197|0.0505\n",
      "update - reward : mean : -0.0003 - sd : 0.0016 min-max -0.0100|0.0000\n",
      "update - TD-Error : mean : 0.0001 - sd : 0.0030 min-max -0.0196|0.0121\n",
      "--------------------------------------\n",
      "Agent 1 and episode 1800 \n",
      "update - q expected : mean : 0.0353 - sd : 0.0158 min-max -0.0174|0.0634\n",
      "\u001b[42mupdate - reward : mean : -0.0003 - sd : 0.0050 min-max -0.0100|0.1000\n",
      "\u001b[0mupdate - TD-Error : mean : 0.0003 - sd : 0.0048 min-max -0.0154|0.0914\n",
      "Episode 1800 || Reward : [-0.01  0.  ] || avg reward :  0.000 || Noise  0.406 || 0.303 seconds, mem : 25881\n",
      "\u001b[0m"
     ]
    },
    {
     "name": "stderr",
     "output_type": "stream",
     "text": [
      "episode: 1808/2000  90% ETA:  0:00:14 |||||||||||||||||||||||||||||||||||    | \r"
     ]
    },
    {
     "name": "stdout",
     "output_type": "stream",
     "text": [
      "--------------------------------------\n",
      "Agent 0 and episode 1810 \n",
      "update - q expected : mean : 0.0360 - sd : 0.0150 min-max -0.0205|0.0527\n",
      "update - reward : mean : -0.0004 - sd : 0.0018 min-max -0.0100|0.0000\n",
      "update - TD-Error : mean : -0.0001 - sd : 0.0027 min-max -0.0112|0.0105\n",
      "--------------------------------------\n",
      "Agent 1 and episode 1810 \n",
      "update - q expected : mean : 0.0351 - sd : 0.0165 min-max -0.0244|0.0518\n",
      "update - reward : mean : -0.0003 - sd : 0.0018 min-max -0.0100|0.0000\n",
      "update - TD-Error : mean : 0.0006 - sd : 0.0032 min-max -0.0174|0.0144\n"
     ]
    },
    {
     "name": "stderr",
     "output_type": "stream",
     "text": [
      "episode: 1819/2000  90% ETA:  0:00:13 |//////////////////////////////////    | \r"
     ]
    },
    {
     "name": "stdout",
     "output_type": "stream",
     "text": [
      "--------------------------------------\n",
      "Agent 0 and episode 1820 \n",
      "update - q expected : mean : 0.0359 - sd : 0.0144 min-max -0.0113|0.0504\n",
      "update - reward : mean : -0.0003 - sd : 0.0018 min-max -0.0100|0.0000\n",
      "update - TD-Error : mean : -0.0006 - sd : 0.0025 min-max -0.0141|0.0065\n",
      "--------------------------------------\n",
      "Agent 1 and episode 1820 \n",
      "update - q expected : mean : 0.0359 - sd : 0.0147 min-max -0.0149|0.0494\n",
      "update - reward : mean : -0.0003 - sd : 0.0018 min-max -0.0100|0.0000\n",
      "update - TD-Error : mean : -0.0003 - sd : 0.0029 min-max -0.0215|0.0112\n",
      "Episode 1820 || Reward : [ 0.   -0.01] || avg reward :  0.000 || Noise  0.402 || 0.222 seconds, mem : 26165\n",
      "\u001b[0m"
     ]
    },
    {
     "name": "stderr",
     "output_type": "stream",
     "text": [
      "episode: 1830/2000  91% ETA:  0:00:13 |----------------------------------    | \r"
     ]
    },
    {
     "name": "stdout",
     "output_type": "stream",
     "text": [
      "--------------------------------------\n",
      "Agent 0 and episode 1830 \n",
      "update - q expected : mean : 0.0356 - sd : 0.0160 min-max -0.0193|0.0969\n",
      "\u001b[42mupdate - reward : mean : -0.0000 - sd : 0.0066 min-max -0.0100|0.1000\n",
      "\u001b[0mupdate - TD-Error : mean : -0.0004 - sd : 0.0058 min-max -0.0183|0.0965\n",
      "--------------------------------------\n",
      "Agent 1 and episode 1830 \n",
      "update - q expected : mean : 0.0358 - sd : 0.0154 min-max -0.0136|0.0503\n",
      "update - reward : mean : -0.0004 - sd : 0.0020 min-max -0.0100|0.0000\n",
      "update - TD-Error : mean : -0.0006 - sd : 0.0027 min-max -0.0161|0.0096\n"
     ]
    },
    {
     "name": "stderr",
     "output_type": "stream",
     "text": [
      "episode: 1839/2000  91% ETA:  0:00:12 |\\\\\\\\\\\\\\\\\\\\\\\\\\\\\\\\\\\\\\\\\\\\\\\\\\\\\\\\\\\\\\\\\\\\    | \r"
     ]
    },
    {
     "name": "stdout",
     "output_type": "stream",
     "text": [
      "--------------------------------------\n",
      "Agent 0 and episode 1840 \n",
      "update - q expected : mean : 0.0358 - sd : 0.0146 min-max -0.0167|0.0504\n",
      "update - reward : mean : -0.0003 - sd : 0.0016 min-max -0.0100|0.0000\n",
      "update - TD-Error : mean : 0.0002 - sd : 0.0025 min-max -0.0134|0.0100\n",
      "--------------------------------------\n",
      "Agent 1 and episode 1840 \n",
      "update - q expected : mean : 0.0362 - sd : 0.0148 min-max -0.0156|0.0509\n",
      "\u001b[42mupdate - reward : mean : -0.0001 - sd : 0.0048 min-max -0.0100|0.1000\n",
      "\u001b[0mupdate - TD-Error : mean : 0.0001 - sd : 0.0049 min-max -0.0146|0.0935\n",
      "Episode 1840 || Reward : [-0.01  0.  ] || avg reward :  0.000 || Noise  0.398 || 0.280 seconds, mem : 26449\n",
      "\u001b[0m"
     ]
    },
    {
     "name": "stderr",
     "output_type": "stream",
     "text": [
      "episode: 1848/2000  92% ETA:  0:00:11 ||||||||||||||||||||||||||||||||||||   | \r"
     ]
    },
    {
     "name": "stdout",
     "output_type": "stream",
     "text": [
      "--------------------------------------\n",
      "Agent 0 and episode 1850 \n",
      "update - q expected : mean : 0.0351 - sd : 0.0153 min-max -0.0133|0.0495\n",
      "update - reward : mean : -0.0003 - sd : 0.0017 min-max -0.0100|0.0000\n",
      "update - TD-Error : mean : -0.0004 - sd : 0.0025 min-max -0.0138|0.0091\n",
      "--------------------------------------\n",
      "Agent 1 and episode 1850 \n",
      "update - q expected : mean : 0.0359 - sd : 0.0152 min-max -0.0120|0.0552\n",
      "update - reward : mean : -0.0005 - sd : 0.0022 min-max -0.0100|0.0000\n",
      "update - TD-Error : mean : -0.0011 - sd : 0.0030 min-max -0.0190|0.0086\n"
     ]
    },
    {
     "name": "stderr",
     "output_type": "stream",
     "text": [
      "episode: 1855/2000  92% ETA:  0:00:11 |///////////////////////////////////   | \r"
     ]
    },
    {
     "name": "stdout",
     "output_type": "stream",
     "text": [
      "--------------------------------------\n",
      "Agent 0 and episode 1860 \n",
      "update - q expected : mean : 0.0353 - sd : 0.0147 min-max -0.0168|0.0497\n",
      "update - reward : mean : -0.0003 - sd : 0.0018 min-max -0.0100|0.0000\n",
      "update - TD-Error : mean : 0.0007 - sd : 0.0027 min-max -0.0167|0.0091\n",
      "--------------------------------------\n",
      "Agent 1 and episode 1860 \n",
      "update - q expected : mean : 0.0359 - sd : 0.0144 min-max -0.0155|0.0501\n",
      "update - reward : mean : -0.0003 - sd : 0.0016 min-max -0.0100|0.0000\n",
      "update - TD-Error : mean : 0.0004 - sd : 0.0026 min-max -0.0157|0.0143\n",
      "Episode 1860 || Reward : [ 0.   -0.01] || avg reward :  0.000 || Noise  0.394 || 0.251 seconds, mem : 26733\n",
      "\u001b[0m"
     ]
    },
    {
     "name": "stderr",
     "output_type": "stream",
     "text": [
      "episode: 1866/2000  93% ETA:  0:00:10 |-----------------------------------   | \r"
     ]
    },
    {
     "name": "stdout",
     "output_type": "stream",
     "text": [
      "--------------------------------------\n",
      "Agent 0 and episode 1870 \n",
      "update - q expected : mean : 0.0347 - sd : 0.0153 min-max -0.0151|0.0491\n",
      "update - reward : mean : -0.0003 - sd : 0.0016 min-max -0.0100|0.0000\n",
      "update - TD-Error : mean : 0.0001 - sd : 0.0026 min-max -0.0138|0.0101\n",
      "--------------------------------------\n",
      "Agent 1 and episode 1870 \n",
      "update - q expected : mean : 0.0352 - sd : 0.0154 min-max -0.0138|0.0506\n",
      "update - reward : mean : -0.0005 - sd : 0.0022 min-max -0.0100|0.0000\n",
      "update - TD-Error : mean : 0.0000 - sd : 0.0025 min-max -0.0137|0.0078\n"
     ]
    },
    {
     "name": "stderr",
     "output_type": "stream",
     "text": [
      "episode: 1878/2000  93% ETA:  0:00:09 |\\\\\\\\\\\\\\\\\\\\\\\\\\\\\\\\\\\\\\\\\\\\\\\\\\\\\\\\\\\\\\\\\\\\\\   | \r"
     ]
    },
    {
     "name": "stdout",
     "output_type": "stream",
     "text": [
      "--------------------------------------\n",
      "Agent 0 and episode 1880 \n",
      "update - q expected : mean : 0.0356 - sd : 0.0143 min-max -0.0143|0.0697\n",
      "update - reward : mean : -0.0003 - sd : 0.0017 min-max -0.0100|0.0000\n",
      "update - TD-Error : mean : -0.0000 - sd : 0.0027 min-max -0.0270|0.0099\n",
      "--------------------------------------\n",
      "Agent 1 and episode 1880 \n",
      "update - q expected : mean : 0.0346 - sd : 0.0161 min-max -0.0188|0.0506\n",
      "update - reward : mean : -0.0004 - sd : 0.0018 min-max -0.0100|0.0000\n",
      "update - TD-Error : mean : 0.0009 - sd : 0.0028 min-max -0.0161|0.0103\n",
      "Episode 1880 || Reward : [-0.01  0.  ] || avg reward :  0.000 || Noise  0.390 || 0.220 seconds, mem : 27017\n",
      "\u001b[0m"
     ]
    },
    {
     "name": "stderr",
     "output_type": "stream",
     "text": [
      "episode: 1889/2000  94% ETA:  0:00:08 ||||||||||||||||||||||||||||||||||||   | \r"
     ]
    },
    {
     "name": "stdout",
     "output_type": "stream",
     "text": [
      "--------------------------------------\n",
      "Agent 0 and episode 1890 \n",
      "update - q expected : mean : 0.0350 - sd : 0.0153 min-max -0.0123|0.0493\n",
      "update - reward : mean : -0.0004 - sd : 0.0018 min-max -0.0100|0.0000\n",
      "update - TD-Error : mean : -0.0003 - sd : 0.0026 min-max -0.0163|0.0100\n",
      "--------------------------------------\n",
      "Agent 1 and episode 1890 \n",
      "update - q expected : mean : 0.0347 - sd : 0.0166 min-max -0.0149|0.0700\n",
      "\u001b[42mupdate - reward : mean : -0.0003 - sd : 0.0049 min-max -0.0100|0.1000\n",
      "\u001b[0mupdate - TD-Error : mean : 0.0005 - sd : 0.0045 min-max -0.0134|0.0866\n"
     ]
    },
    {
     "name": "stderr",
     "output_type": "stream",
     "text": [
      "episode: 1901/2000  95% ETA:  0:00:07 |////////////////////////////////////  | \r"
     ]
    },
    {
     "name": "stdout",
     "output_type": "stream",
     "text": [
      "--------------------------------------\n",
      "Agent 0 and episode 1900 \n",
      "update - q expected : mean : 0.0351 - sd : 0.0156 min-max -0.0176|0.0904\n",
      "update - reward : mean : -0.0004 - sd : 0.0019 min-max -0.0100|0.0000\n",
      "update - TD-Error : mean : 0.0004 - sd : 0.0029 min-max -0.0325|0.0101\n",
      "--------------------------------------\n",
      "Agent 1 and episode 1900 \n",
      "update - q expected : mean : 0.0353 - sd : 0.0161 min-max -0.0214|0.0519\n",
      "update - reward : mean : -0.0003 - sd : 0.0017 min-max -0.0100|0.0000\n",
      "update - TD-Error : mean : 0.0002 - sd : 0.0029 min-max -0.0157|0.0114\n",
      "Episode 1900 || Reward : [ 0.   -0.01] || avg reward :  0.000 || Noise  0.386 || 0.229 seconds, mem : 27301\n",
      "\u001b[0m"
     ]
    },
    {
     "name": "stderr",
     "output_type": "stream",
     "text": [
      "episode: 1912/2000  95% ETA:  0:00:06 |------------------------------------  | \r"
     ]
    },
    {
     "name": "stdout",
     "output_type": "stream",
     "text": [
      "--------------------------------------\n",
      "Agent 0 and episode 1910 \n",
      "update - q expected : mean : 0.0350 - sd : 0.0155 min-max -0.0160|0.0551\n",
      "update - reward : mean : -0.0003 - sd : 0.0017 min-max -0.0100|0.0000\n",
      "update - TD-Error : mean : 0.0003 - sd : 0.0024 min-max -0.0141|0.0078\n",
      "--------------------------------------\n",
      "Agent 1 and episode 1910 \n",
      "update - q expected : mean : 0.0359 - sd : 0.0155 min-max -0.0160|0.0516\n",
      "update - reward : mean : -0.0004 - sd : 0.0019 min-max -0.0100|0.0000\n",
      "update - TD-Error : mean : -0.0005 - sd : 0.0025 min-max -0.0162|0.0069\n",
      "--------------------------------------\n",
      "Agent 0 and episode 1920 \n",
      "update - q expected : mean : 0.0353 - sd : 0.0154 min-max -0.0161|0.0502\n",
      "update - reward : mean : -0.0004 - sd : 0.0019 min-max -0.0100|0.0000\n",
      "update - TD-Error : mean : -0.0003 - sd : 0.0026 min-max -0.0144|0.0179\n",
      "--------------------------------------\n",
      "Agent 1 and episode 1920 \n",
      "update - q expected : mean : 0.0364 - sd : 0.0144 min-max -0.0105|0.0513\n",
      "update - reward : mean : -0.0004 - sd : 0.0021 min-max -0.0100|0.0000\n",
      "update - TD-Error : mean : -0.0013 - sd : 0.0033 min-max -0.0357|0.0082\n",
      "Episode 1920 || Reward : [-0.01  0.  ] || avg reward :  0.000 || Noise  0.383 || 0.245 seconds, mem : 27585\n",
      "\u001b[0m"
     ]
    },
    {
     "name": "stderr",
     "output_type": "stream",
     "text": [
      "episode: 1922/2000  96% ETA:  0:00:06 |\\\\\\\\\\\\\\\\\\\\\\\\\\\\\\\\\\\\\\\\\\\\\\\\\\\\\\\\\\\\\\\\\\\\\\\\  | \r"
     ]
    },
    {
     "name": "stdout",
     "output_type": "stream",
     "text": [
      "--------------------------------------\n",
      "Agent 0 and episode 1930 \n",
      "update - q expected : mean : 0.0355 - sd : 0.0148 min-max -0.0121|0.0575\n",
      "update - reward : mean : -0.0003 - sd : 0.0017 min-max -0.0100|0.0000\n",
      "update - TD-Error : mean : -0.0004 - sd : 0.0025 min-max -0.0133|0.0097\n",
      "--------------------------------------\n",
      "Agent 1 and episode 1930 \n",
      "update - q expected : mean : 0.0360 - sd : 0.0149 min-max -0.0149|0.0504\n",
      "update - reward : mean : -0.0004 - sd : 0.0019 min-max -0.0100|0.0000\n",
      "update - TD-Error : mean : -0.0007 - sd : 0.0025 min-max -0.0148|0.0099\n"
     ]
    },
    {
     "name": "stderr",
     "output_type": "stream",
     "text": [
      "episode: 1935/2000  96% ETA:  0:00:05 |||||||||||||||||||||||||||||||||||||  | \r"
     ]
    },
    {
     "name": "stdout",
     "output_type": "stream",
     "text": [
      "--------------------------------------\n",
      "Agent 0 and episode 1940 \n",
      "update - q expected : mean : 0.0348 - sd : 0.0158 min-max -0.0161|0.0499\n",
      "update - reward : mean : -0.0003 - sd : 0.0018 min-max -0.0100|0.0000\n",
      "update - TD-Error : mean : 0.0001 - sd : 0.0027 min-max -0.0285|0.0106\n",
      "--------------------------------------\n",
      "Agent 1 and episode 1940 \n",
      "update - q expected : mean : 0.0355 - sd : 0.0155 min-max -0.0166|0.0650\n",
      "update - reward : mean : -0.0004 - sd : 0.0019 min-max -0.0100|0.0000\n",
      "update - TD-Error : mean : -0.0003 - sd : 0.0029 min-max -0.0392|0.0093\n",
      "Episode 1940 || Reward : [ 0.   -0.01] || avg reward :  0.000 || Noise  0.379 || 0.203 seconds, mem : 27869\n",
      "\u001b[0m"
     ]
    },
    {
     "name": "stderr",
     "output_type": "stream",
     "text": [
      "episode: 1946/2000  97% ETA:  0:00:04 |////////////////////////////////////  | \r"
     ]
    },
    {
     "name": "stdout",
     "output_type": "stream",
     "text": [
      "--------------------------------------\n",
      "Agent 0 and episode 1950 \n",
      "update - q expected : mean : 0.0350 - sd : 0.0163 min-max -0.0210|0.0938\n",
      "\u001b[42mupdate - reward : mean : -0.0001 - sd : 0.0048 min-max -0.0100|0.1000\n",
      "\u001b[0mupdate - TD-Error : mean : 0.0009 - sd : 0.0037 min-max -0.0213|0.0596\n",
      "--------------------------------------\n",
      "Agent 1 and episode 1950 \n",
      "update - q expected : mean : 0.0356 - sd : 0.0145 min-max -0.0164|0.0502\n",
      "update - reward : mean : -0.0002 - sd : 0.0013 min-max -0.0100|0.0000\n",
      "update - TD-Error : mean : 0.0008 - sd : 0.0027 min-max -0.0129|0.0106\n"
     ]
    },
    {
     "name": "stderr",
     "output_type": "stream",
     "text": [
      "episode: 1957/2000  97% ETA:  0:00:03 |------------------------------------- | \r"
     ]
    },
    {
     "name": "stdout",
     "output_type": "stream",
     "text": [
      "--------------------------------------\n",
      "Agent 0 and episode 1960 \n",
      "update - q expected : mean : 0.0354 - sd : 0.0156 min-max -0.0179|0.0529\n",
      "\u001b[42mupdate - reward : mean : 0.0000 - sd : 0.0065 min-max -0.0100|0.1000\n",
      "\u001b[0mupdate - TD-Error : mean : -0.0000 - sd : 0.0066 min-max -0.0128|0.0994\n",
      "--------------------------------------\n",
      "Agent 1 and episode 1960 \n",
      "update - q expected : mean : 0.0349 - sd : 0.0160 min-max -0.0171|0.0514\n",
      "update - reward : mean : -0.0004 - sd : 0.0018 min-max -0.0100|0.0000\n",
      "update - TD-Error : mean : 0.0003 - sd : 0.0025 min-max -0.0129|0.0099\n",
      "Episode 1960 || Reward : [-0.01  0.  ] || avg reward :  0.000 || Noise  0.375 || 0.260 seconds, mem : 28153\n",
      "\u001b[0m"
     ]
    },
    {
     "name": "stderr",
     "output_type": "stream",
     "text": [
      "episode: 1968/2000  98% ETA:  0:00:02 |\\\\\\\\\\\\\\\\\\\\\\\\\\\\\\\\\\\\\\\\\\\\\\\\\\\\\\\\\\\\\\\\\\\\\\\\\\ | \r"
     ]
    },
    {
     "name": "stdout",
     "output_type": "stream",
     "text": [
      "--------------------------------------\n",
      "Agent 0 and episode 1970 \n",
      "update - q expected : mean : 0.0357 - sd : 0.0146 min-max -0.0137|0.0497\n",
      "update - reward : mean : -0.0004 - sd : 0.0019 min-max -0.0100|0.0000\n",
      "update - TD-Error : mean : -0.0006 - sd : 0.0023 min-max -0.0154|0.0075\n",
      "--------------------------------------\n",
      "Agent 1 and episode 1970 \n",
      "update - q expected : mean : 0.0350 - sd : 0.0160 min-max -0.0202|0.0788\n",
      "\u001b[42mupdate - reward : mean : -0.0001 - sd : 0.0048 min-max -0.0100|0.1000\n",
      "\u001b[0mupdate - TD-Error : mean : 0.0008 - sd : 0.0043 min-max -0.0136|0.0785\n"
     ]
    },
    {
     "name": "stderr",
     "output_type": "stream",
     "text": [
      "episode: 1980/2000  99% ETA:  0:00:01 |||||||||||||||||||||||||||||||||||||| | \r"
     ]
    },
    {
     "name": "stdout",
     "output_type": "stream",
     "text": [
      "--------------------------------------\n",
      "Agent 0 and episode 1980 \n",
      "update - q expected : mean : 0.0353 - sd : 0.0154 min-max -0.0114|0.0501\n",
      "update - reward : mean : -0.0005 - sd : 0.0022 min-max -0.0100|0.0000\n",
      "update - TD-Error : mean : -0.0013 - sd : 0.0027 min-max -0.0130|0.0054\n",
      "--------------------------------------\n",
      "Agent 1 and episode 1980 \n",
      "update - q expected : mean : 0.0352 - sd : 0.0158 min-max -0.0154|0.0495\n",
      "update - reward : mean : -0.0004 - sd : 0.0020 min-max -0.0100|0.0000\n",
      "update - TD-Error : mean : -0.0005 - sd : 0.0025 min-max -0.0148|0.0093\n",
      "Episode 1980 || Reward : [-0.01  0.  ] || avg reward :  0.000 || Noise  0.371 || 0.245 seconds, mem : 28437\n",
      "\u001b[0m"
     ]
    },
    {
     "name": "stderr",
     "output_type": "stream",
     "text": [
      "episode: 1991/2000  99% ETA:  0:00:00 |///////////////////////////////////// | \r"
     ]
    },
    {
     "name": "stdout",
     "output_type": "stream",
     "text": [
      "--------------------------------------\n",
      "Agent 0 and episode 1990 \n",
      "update - q expected : mean : 0.0347 - sd : 0.0152 min-max -0.0163|0.0496\n",
      "update - reward : mean : -0.0003 - sd : 0.0017 min-max -0.0100|0.0000\n",
      "update - TD-Error : mean : 0.0001 - sd : 0.0032 min-max -0.0447|0.0095\n",
      "--------------------------------------\n",
      "Agent 1 and episode 1990 \n",
      "update - q expected : mean : 0.0356 - sd : 0.0149 min-max -0.0171|0.0511\n",
      "\u001b[42mupdate - reward : mean : -0.0001 - sd : 0.0044 min-max -0.0100|0.0900\n",
      "\u001b[0mupdate - TD-Error : mean : 0.0001 - sd : 0.0032 min-max -0.0141|0.0480\n",
      "Config Parameters    : \n",
      "gamma                : 0.99\n",
      "tau                  : 0.01\n",
      "action_size          : 2\n",
      "state_size           : 24\n",
      "hidden_size          : 256\n",
      "buffer_size          : 50000\n",
      "batch_size           : 512\n",
      "dropout              : 0.01\n",
      "seed                 : 89\n",
      "max_episodes         : 2000\n",
      "learn_every          : 10\n",
      "critic_learning_rate : 0.001\n",
      "actor_learning_rate  : 0.001\n",
      "noise_decay          : 0.9995\n",
      "num_agents           : 2\n",
      "env_file_name        : Tennis_Windows_x86_64/Tennis.exe\n",
      "train_mode           : True\n",
      "brain_name           : TennisBrain\n"
     ]
    },
    {
     "data": {
      "image/png": "[encoded data removed]",
      "text/plain": [
       "<Figure size 432x288 with 1 Axes>"
      ]
     },
     "metadata": {
      "needs_background": "light"
     },
     "output_type": "display_data"
    },
    {
     "data": {
      "image/png": "[encoded data removed]",
      "text/plain": [
       "<Figure size 432x288 with 1 Axes>"
      ]
     },
     "metadata": {
      "needs_background": "light"
     },
     "output_type": "display_data"
    },
    {
     "data": {
      "image/png": "[encoded data removed]",
      "text/plain": [
       "<Figure size 432x288 with 1 Axes>"
      ]
     },
     "metadata": {
      "needs_background": "light"
     },
     "output_type": "display_data"
    }
   ],
   "source": [
    "from maddpg import maddpg\n",
    "import cProfile\n",
    "DoProfile = False\n",
    "\n",
    "config = {\n",
    "    'gamma'               : 0.99,\n",
    "    'tau'                 : 0.01,\n",
    "    'action_size'         : action_size,\n",
    "    'state_size'          : state_size,\n",
    "    'hidden_size'         : 256,\n",
    "    'buffer_size'         : 50000,\n",
    "    'batch_size'          : 512,\n",
    "    'dropout'             : 0.01,\n",
    "    'seed'                : 98,\n",
    "    'max_episodes'        : 2000,\n",
    "    'learn_every'         : 10,\n",
    "    'critic_learning_rate': 1e-3,\n",
    "    'actor_learning_rate' : 1e-3,\n",
    "    'noise_decay'         : 0.9995,\n",
    "    'num_agents'          : num_agents,\n",
    "    'env_file_name'       : env_file_name,\n",
    "    'train_mode'          : True,\n",
    "    'brain_name'          : brain_name}\n",
    "\n",
    "def print_config(config):\n",
    "    print('Config Parameters    : ')\n",
    "    for c,k in config.items():\n",
    "        print('{:20s} : {}'.format(c,k))\n",
    "\n",
    "# seed_range = [0.1, 0.05, 0.03, 0.01, 0.005, 0.003, 0.001]\n",
    "for main in range(10):#len(tau_range)):\n",
    "    config['seed'] += 1\n",
    "    print_config(config)\n",
    "    agent = maddpg(env, config)\n",
    "    if DoProfile:cProfile.run(\"results = agent.train()\",'PerfStats')\n",
    "    else:results = agent.train()\n",
    "    # all_rewards,avg_rewards,critic_losses,actor_losses = agent.train()\n",
    "    print_config(config)\n",
    "    plot_results(results)\n",
    "\n",
    "\n",
    "env.close()"
   ]
  },
  {
   "cell_type": "markdown",
   "metadata": {},
   "source": [
    "# 4. It's Your Turn!\n",
    "\n",
    "Now it's your turn to train your own agent to solve the environment!  When training the environment, set `train_mode=True`, so that the line for resetting the environment looks like the following:\n",
    "```python\n",
    "env_info = env.reset(train_mode=True)[brain_name]\n",
    "```"
   ]
  }
 ],
 "metadata": {
  "kernelspec": {
   "display_name": "Python 3",
   "language": "python",
   "name": "python3"
  },
  "language_info": {
   "codemirror_mode": {
    "name": "ipython",
    "version": 3
   },
   "file_extension": ".py",
   "mimetype": "text/x-python",
   "name": "python",
   "nbconvert_exporter": "python",
   "pygments_lexer": "ipython3",
   "version": "3.6.10"
  }
 },
 "nbformat": 4,
 "nbformat_minor": 2
}
